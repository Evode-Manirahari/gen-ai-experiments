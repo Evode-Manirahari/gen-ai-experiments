{
  "cells": [
    {
      "cell_type": "markdown",
      "metadata": {},
      "source": [
        "### Elysia Tutorial: From Basics to Advanced (with Students use case)\n",
        "\n",
        "This tutorial notebook walks you through Elysia — an agentic framework that chooses and runs tools — from the very basics to advanced customization, ending with a practical use case using a Students dataset.\n",
        "\n",
        "What you'll do:\n",
        "- Install and configure Elysia\n",
        "- Create and run a minimal custom tool\n",
        "- Connect to a Weaviate cluster and preprocess a collection\n",
        "- Ask natural-language questions over data\n",
        "- Build an advanced custom tool (linear regression)\n",
        "- Apply it to a Students dataset to answer a real question\n",
        "\n",
        "Dataset context: we'll reference a `Student` collection with fields like `Student_ID`, `Gender`, `Study_Hours`, `Attendance`, `Past_Exam`, `Parental_Education`, `Internet_Access`, `Extracurricular`, `Final_Exam`, `Pass_Fail`. Adjust field names if your schema differs.\n"
      ]
    },
    {
      "cell_type": "markdown",
      "metadata": {},
      "source": [
        "### 0. Setup and Installation\n",
        "\n",
        "- This installs `elysia-ai` and optional `weaviate-client`.\n",
        "- If you plan to use Weaviate Cloud, you will need `WCD_URL` and `WCD_API_KEY`.\n",
        "- Keep your keys secret. In Colab, you can use `google.colab.userdata`.\n",
        "\n",
        "If you're not using Weaviate, you can still run the basic examples.\n"
      ]
    },
    {
      "cell_type": "code",
      "execution_count": null,
      "metadata": {},
      "outputs": [],
      "source": [
        "# Install core package (quiet to reduce noise)\n",
        "%pip install -U elysia-ai --quiet\n",
        "\n",
        "# Optional: client for interacting with Weaviate directly\n",
        "%pip install -U weaviate-client --quiet\n"
      ]
    },
    {
      "cell_type": "markdown",
      "metadata": {},
      "source": [
        "### 1. Configure Elysia\n",
        "\n",
        "You must configure which models to use and how to access them. Elysia integrates via LiteLLM through DSPy and supports many providers.\n",
        "\n",
        "- Set your `OPENAI_API_KEY` (or other provider keys) here.\n",
        "- If using Weaviate Cloud, also set `WCD_URL` and `WCD_API_KEY`.\n",
        "\n",
        "You can leave Weaviate variables unset to run only the basic examples.\n"
      ]
    },
    {
      "cell_type": "code",
      "execution_count": null,
      "metadata": {},
      "outputs": [],
      "source": [
        "# Configure models and (optionally) Weaviate\n",
        "import os\n",
        "\n",
        "# Colab users: uncomment to pull from Colab secrets\n",
        "# from google.colab import userdata\n",
        "# OPENAI_API_KEY = userdata.get(\"OPENAI_API_KEY\")\n",
        "\n",
        "OPENAI_API_KEY = os.environ.get(\"OPENAI_API_KEY\", \"\")\n",
        "WCD_URL = os.environ.get(\"WCD_URL\", \"\")\n",
        "WCD_API_KEY = os.environ.get(\"WCD_API_KEY\", \"\")\n",
        "\n",
        "from elysia import configure\n",
        "\n",
        "configure(\n",
        "    base_model=\"gpt-4o-mini\",\n",
        "    base_provider=\"openai\",\n",
        "    complex_model=\"gpt-4o\",\n",
        "    complex_provider=\"openai\",\n",
        "    openai_api_key=OPENAI_API_KEY,\n",
        "    wcd_url=WCD_URL or None,\n",
        "    wcd_api_key=WCD_API_KEY or None,\n",
        ")\n"
      ]
    },
    {
      "cell_type": "markdown",
      "metadata": {},
      "source": [
        "### 2. Basic: Minimal Tool and Tree\n",
        "\n",
        "A tool is just an async function decorated with `@tool`. The docstring becomes the tool's description.\n",
        "\n",
        "We'll create `add(x, y)` and call the tree with a simple math question.\n"
      ]
    },
    {
      "cell_type": "code",
      "execution_count": null,
      "metadata": {},
      "outputs": [],
      "source": [
        "from elysia import tool, Tree\n",
        "\n",
        "# Create a decision tree\n",
        "basic_tree = Tree()\n",
        "\n",
        "@tool(tree=basic_tree)\n",
        "async def add(x: int, y: int) -> int:\n",
        "    \"\"\"Return the sum of two integers x and y.\"\"\"\n",
        "    return x + y\n",
        "\n",
        "# Run the tree with a simple prompt\n",
        "basic_response = basic_tree(\"What is the sum of 9009 and 6006?\")\n",
        "basic_response\n"
      ]
    },
    {
      "cell_type": "markdown",
      "metadata": {},
      "source": [
        "### 3. Connecting to Weaviate (Optional)\n",
        "\n",
        "If you have a Weaviate Cloud instance, set `WCD_URL` and `WCD_API_KEY` above. Elysia can then query your collections.\n",
        "\n",
        "We must preprocess a collection so Elysia understands field names, types, and summary context.\n"
      ]
    },
    {
      "cell_type": "code",
      "execution_count": null,
      "metadata": {},
      "outputs": [],
      "source": [
        "# Preprocess collections only if Weaviate credentials are provided\n",
        "from elysia import preprocess as preprocess_sync\n",
        "\n",
        "if WCD_URL and WCD_API_KEY:\n",
        "    try:\n",
        "        preprocess_sync(\"Student\")\n",
        "        print(\"Preprocessed 'Student' collection.\")\n",
        "    except Exception as e:\n",
        "        print(\"Preprocess skipped or failed:\", e)\n",
        "else:\n",
        "    print(\"Weaviate not configured; skipping preprocessing.\")\n"
      ]
    },
    {
      "cell_type": "markdown",
      "metadata": {},
      "source": [
        "### 4. Querying with Natural Language\n",
        "\n",
        "Once preprocessed, you can ask questions in natural language. Elysia chooses the right tools (query, aggregate, summarization) to answer.\n"
      ]
    },
    {
      "cell_type": "code",
      "execution_count": null,
      "metadata": {},
      "outputs": [],
      "source": [
        "import elysia\n",
        "\n",
        "qa_tree = elysia.Tree()\n",
        "\n",
        "# If Weaviate is configured, pass the collection name(s)\n",
        "if WCD_URL and WCD_API_KEY:\n",
        "    qa_response = qa_tree(\n",
        "        \"What is this dataset about?\",\n",
        "        collection_names=[\"Student\"],\n",
        "    )\n",
        "else:\n",
        "    # Without Weaviate, this will still run but won't retrieve data\n",
        "    qa_response = qa_tree(\"Describe the goal of this tutorial.\")\n",
        "\n",
        "qa_response\n"
      ]
    },
    {
      "cell_type": "markdown",
      "metadata": {},
      "source": [
        "### 5. Advanced: Custom Analysis Tool (Linear Regression)\n",
        "\n",
        "Sometimes you need custom analysis beyond built-in tools. Below we implement a `BasicLinearRegression` tool as a class that Elysia can call. It:\n",
        "- Extracts numeric fields from retrieved objects in the environment\n",
        "- Fits a simple linear regression (with intercept) using NumPy\n",
        "- Returns coefficients to the environment and plots the fit\n",
        "\n",
        "Theory (very short): for a single feature x and target y, the least-squares solution solves for coefficients β minimizing \\(\\sum_i (y_i - (β_0 + β_1 x_i))^2\\). In matrix form, \\(β = (X^T X)^{-1} X^T y\\) with X having a leading column of ones for the intercept.\n"
      ]
    },
    {
      "cell_type": "code",
      "execution_count": null,
      "metadata": {},
      "outputs": [],
      "source": [
        "from elysia import Error, Tool, Result\n",
        "import numpy as np\n",
        "import matplotlib.pyplot as plt\n",
        "\n",
        "class BasicLinearRegression(Tool):\n",
        "    def __init__(self, logger=None, **kwargs):\n",
        "        super().__init__(\n",
        "            name=\"basic_linear_regression_tool\",\n",
        "            description=(\n",
        "                \"Use this tool to perform linear regression between two numeric variables \"\n",
        "                \"found in retrieved objects in the environment.\"\n",
        "            ),\n",
        "            status=\"Running linear regression...\",\n",
        "            inputs={\n",
        "                \"environment_key\": {\n",
        "                    \"description\": (\n",
        "                        \"A key of the environment to use (e.g., 'query'). \"\n",
        "                        \"All objects under that key will be used.\"\n",
        "                    ),\n",
        "                    \"required\": True,\n",
        "                    \"type\": str,\n",
        "                    \"default\": None,\n",
        "                },\n",
        "                \"x_variable_field\": {\n",
        "                    \"description\": \"Independent variable field name.\",\n",
        "                    \"required\": True,\n",
        "                    \"type\": str,\n",
        "                    \"default\": None,\n",
        "                },\n",
        "                \"y_variable_field\": {\n",
        "                    \"description\": \"Dependent variable field name.\",\n",
        "                    \"required\": True,\n",
        "                    \"type\": str,\n",
        "                    \"default\": None,\n",
        "                },\n",
        "            },\n",
        "            end=False,\n",
        "        )\n",
        "\n",
        "    async def __call__(\n",
        "        self,\n",
        "        tree_data,\n",
        "        inputs,\n",
        "        base_lm,\n",
        "        complex_lm,\n",
        "        client_manager,\n",
        "        **kwargs,\n",
        "    ):\n",
        "        environment = tree_data.environment.environment\n",
        "        environment_key = inputs[\"environment_key\"]\n",
        "        x_variable_field = inputs[\"x_variable_field\"]\n",
        "        y_variable_field = inputs[\"y_variable_field\"]\n",
        "\n",
        "        try:\n",
        "            X = np.empty((0, 2))\n",
        "            y = np.empty((0, 1))\n",
        "\n",
        "            for inner_key in environment.get(environment_key, {}):\n",
        "                inner_X = np.array(\n",
        "                    [\n",
        "                        [obj[x_variable_field]]\n",
        "                        for environment_list in environment[environment_key][inner_key]\n",
        "                        for obj in environment_list[\"objects\"]\n",
        "                        if x_variable_field in obj and y_variable_field in obj\n",
        "                    ]\n",
        "                )\n",
        "                if inner_X.size == 0:\n",
        "                    continue\n",
        "                inner_X = np.hstack([np.ones((inner_X.shape[0], 1)), inner_X])\n",
        "                X = np.vstack([X, inner_X])\n",
        "\n",
        "                inner_y = np.array(\n",
        "                    [\n",
        "                        [obj[y_variable_field]]\n",
        "                        for environment_list in environment[environment_key][inner_key]\n",
        "                        for obj in environment_list[\"objects\"]\n",
        "                        if x_variable_field in obj and y_variable_field in obj\n",
        "                    ]\n",
        "                )\n",
        "                y = np.vstack([y, inner_y])\n",
        "\n",
        "            if X.shape[0] == 0:\n",
        "                yield Error(\n",
        "                    \"No rows with both fields present. Check field names or query step.\"\n",
        "                )\n",
        "                return\n",
        "\n",
        "            beta_hat = np.linalg.inv(X.T @ X + 1e-10 * np.eye(X.shape[1])) @ X.T @ y\n",
        "            beta_hat_dict = {\n",
        "                \"intercept\": float(beta_hat[0]),\n",
        "                \"slope\": float(beta_hat[1]),\n",
        "            }\n",
        "            pred_y = X @ beta_hat\n",
        "\n",
        "            fig, ax = plt.subplots()\n",
        "            ax.scatter(X[:, 1], y)\n",
        "            ax.plot(X[:, 1], pred_y, color=\"red\")\n",
        "            ax.set_title(\n",
        "                f\"Linear regression between {x_variable_field} and {y_variable_field}\"\n",
        "            )\n",
        "            ax.set_xlabel(x_variable_field)\n",
        "            ax.set_ylabel(y_variable_field)\n",
        "            fig.show()\n",
        "\n",
        "            yield Result(\n",
        "                objects=[beta_hat_dict],\n",
        "                metadata={\n",
        "                    \"x_variable_field\": x_variable_field,\n",
        "                    \"y_variable_field\": y_variable_field,\n",
        "                },\n",
        "                llm_message=(\n",
        "                    \"Completed linear regression analysis where: \"\n",
        "                    f\"x={x_variable_field}, y={y_variable_field}.\"\n",
        "                ),\n",
        "            )\n",
        "        except Exception as e:\n",
        "            yield Error(str(e))\n",
        "\n",
        "    async def is_tool_available(self, tree_data, base_lm, complex_lm, client_manager):\n",
        "        return (\n",
        "            \"query\" in tree_data.environment.environment\n",
        "            and len(tree_data.environment.environment[\"query\"]) > 0\n",
        "        )\n"
      ]
    },
    {
      "cell_type": "markdown",
      "metadata": {},
      "source": [
        "### 6. Use case: Students dataset — Do more study hours correlate with final exam score?\n",
        "\n",
        "We'll:\n",
        "1) Query the `Student` collection to bring objects into the environment\n",
        "2) Run `BasicLinearRegression` with `x=Study_Hours` and `y=Final_Exam`\n",
        "\n",
        "If your schema uses different field names, adjust the strings in the cell below.\n"
      ]
    },
    {
      "cell_type": "code",
      "execution_count": null,
      "metadata": {},
      "outputs": [],
      "source": [
        "students_tree = elysia.Tree()\n",
        "\n",
        "# Add our custom tool to the tree\n",
        "students_tree.add_tool(BasicLinearRegression)\n",
        "\n",
        "if WCD_URL and WCD_API_KEY:\n",
        "    # Step 1: bring data into the environment\n",
        "    response1 = students_tree(\n",
        "        \"Retrieve student records with study hours and final exam scores\",\n",
        "        collection_names=[\"Student\"],\n",
        "    )\n",
        "\n",
        "    # Step 2: run the regression tool\n",
        "    response2 = students_tree(\n",
        "        \"Run linear regression with x=Study_Hours and y=Final_Exam\",\n",
        "        # Hints to the decision agent via the prompt; the tool will still validate fields\n",
        "    )\n",
        "\n",
        "    response1, response2\n",
        "else:\n",
        "    print(\"Weaviate not configured; skipping Students use case execution.\")\n"
      ]
    },
    {
      "cell_type": "markdown",
      "metadata": {},
      "source": [
        "### 7. Interpreting Results\n",
        "\n",
        "- The tool prints the intercept and slope. A positive slope indicates higher `Study_Hours` is associated with higher `Final_Exam`.\n",
        "- The scatterplot displays data points with a red best-fit line.\n",
        "- Always validate with domain knowledge; correlation does not imply causation.\n",
        "\n",
        "Next steps:\n",
        "- Try different x/y fields (e.g., `Attendance` vs `Final_Exam`)\n",
        "- Add categorical handling or multi-feature regression\n",
        "- Build more tools for diagnostics (R², residual analysis)\n"
      ]
    },
    {
      "cell_type": "code",
      "execution_count": null,
      "metadata": {
        "colab": {
          "base_uri": "https://localhost:8080/"
        },
        "id": "GCC2KUVfdgtM",
        "outputId": "5f9118c0-5940-4db1-fcc5-2b72a0d4718f"
      },
      "outputs": [
        {
          "name": "stdout",
          "output_type": "stream",
          "text": [
            "\u001b[2K     \u001b[90m━━━━━━━━━━━━━━━━━━━━━━━━━━━━━━━━━━━━━━━━\u001b[0m \u001b[32m41.2/41.2 kB\u001b[0m \u001b[31m3.0 MB/s\u001b[0m eta \u001b[36m0:00:00\u001b[0m\n",
            "\u001b[2K   \u001b[90m━━━━━━━━━━━━━━━━━━━━━━━━━━━━━━━━━━━━━━━━\u001b[0m \u001b[32m1.6/1.6 MB\u001b[0m \u001b[31m51.9 MB/s\u001b[0m eta \u001b[36m0:00:00\u001b[0m\n",
            "\u001b[2K   \u001b[90m━━━━━━━━━━━━━━━━━━━━━━━━━━━━━━━━━━━━━━━━\u001b[0m \u001b[32m64.0/64.0 kB\u001b[0m \u001b[31m4.8 MB/s\u001b[0m eta \u001b[36m0:00:00\u001b[0m\n",
            "\u001b[2K   \u001b[90m━━━━━━━━━━━━━━━━━━━━━━━━━━━━━━━━━━━━━━━━\u001b[0m \u001b[32m278.0/278.0 kB\u001b[0m \u001b[31m18.6 MB/s\u001b[0m eta \u001b[36m0:00:00\u001b[0m\n",
            "\u001b[2K   \u001b[90m━━━━━━━━━━━━━━━━━━━━━━━━━━━━━━━━━━━━━━━━\u001b[0m \u001b[32m165.8/165.8 kB\u001b[0m \u001b[31m12.3 MB/s\u001b[0m eta \u001b[36m0:00:00\u001b[0m\n",
            "\u001b[2K   \u001b[90m━━━━━━━━━━━━━━━━━━━━━━━━━━━━━━━━━━━━━━━━\u001b[0m \u001b[32m60.8/60.8 kB\u001b[0m \u001b[31m4.3 MB/s\u001b[0m eta \u001b[36m0:00:00\u001b[0m\n",
            "\u001b[2K   \u001b[90m━━━━━━━━━━━━━━━━━━━━━━━━━━━━━━━━━━━━━━━━\u001b[0m \u001b[32m284.2/284.2 kB\u001b[0m \u001b[31m20.5 MB/s\u001b[0m eta \u001b[36m0:00:00\u001b[0m\n",
            "\u001b[2K   \u001b[90m━━━━━━━━━━━━━━━━━━━━━━━━━━━━━━━━━━━━━━━━\u001b[0m \u001b[32m11.7/11.7 MB\u001b[0m \u001b[31m100.5 MB/s\u001b[0m eta \u001b[36m0:00:00\u001b[0m\n",
            "\u001b[2K   \u001b[90m━━━━━━━━━━━━━━━━━━━━━━━━━━━━━━━━━━━━━━━━\u001b[0m \u001b[32m4.5/4.5 MB\u001b[0m \u001b[31m102.3 MB/s\u001b[0m eta \u001b[36m0:00:00\u001b[0m\n",
            "\u001b[2K   \u001b[90m━━━━━━━━━━━━━━━━━━━━━━━━━━━━━━━━━━━━━━━━\u001b[0m \u001b[32m8.9/8.9 MB\u001b[0m \u001b[31m100.6 MB/s\u001b[0m eta \u001b[36m0:00:00\u001b[0m\n",
            "\u001b[2K   \u001b[90m━━━━━━━━━━━━━━━━━━━━━━━━━━━━━━━━━━━━━━━━\u001b[0m \u001b[32m8.7/8.7 MB\u001b[0m \u001b[31m101.2 MB/s\u001b[0m eta \u001b[36m0:00:00\u001b[0m\n",
            "\u001b[2K   \u001b[90m━━━━━━━━━━━━━━━━━━━━━━━━━━━━━━━━━━━━━━━━\u001b[0m \u001b[32m1.8/1.8 MB\u001b[0m \u001b[31m68.4 MB/s\u001b[0m eta \u001b[36m0:00:00\u001b[0m\n",
            "\u001b[2K   \u001b[90m━━━━━━━━━━━━━━━━━━━━━━━━━━━━━━━━━━━━━━━━\u001b[0m \u001b[32m3.9/3.9 MB\u001b[0m \u001b[31m66.8 MB/s\u001b[0m eta \u001b[36m0:00:00\u001b[0m\n",
            "\u001b[2K   \u001b[90m━━━━━━━━━━━━━━━━━━━━━━━━━━━━━━━━━━━━━━━━\u001b[0m \u001b[32m436.7/436.7 kB\u001b[0m \u001b[31m28.0 MB/s\u001b[0m eta \u001b[36m0:00:00\u001b[0m\n",
            "\u001b[2K   \u001b[90m━━━━━━━━━━━━━━━━━━━━━━━━━━━━━━━━━━━━━━━━\u001b[0m \u001b[32m43.5/43.5 kB\u001b[0m \u001b[31m2.9 MB/s\u001b[0m eta \u001b[36m0:00:00\u001b[0m\n",
            "\u001b[2K   \u001b[90m━━━━━━━━━━━━━━━━━━━━━━━━━━━━━━━━━━━━━━━━\u001b[0m \u001b[32m223.8/223.8 kB\u001b[0m \u001b[31m16.2 MB/s\u001b[0m eta \u001b[36m0:00:00\u001b[0m\n",
            "\u001b[2K   \u001b[90m━━━━━━━━━━━━━━━━━━━━━━━━━━━━━━━━━━━━━━━━\u001b[0m \u001b[32m259.0/259.0 kB\u001b[0m \u001b[31m17.8 MB/s\u001b[0m eta \u001b[36m0:00:00\u001b[0m\n",
            "\u001b[2K   \u001b[90m━━━━━━━━━━━━━━━━━━━━━━━━━━━━━━━━━━━━━━━━\u001b[0m \u001b[32m2.7/2.7 MB\u001b[0m \u001b[31m81.4 MB/s\u001b[0m eta \u001b[36m0:00:00\u001b[0m\n",
            "\u001b[2K   \u001b[90m━━━━━━━━━━━━━━━━━━━━━━━━━━━━━━━━━━━━━━━━\u001b[0m \u001b[32m459.8/459.8 kB\u001b[0m \u001b[31m30.3 MB/s\u001b[0m eta \u001b[36m0:00:00\u001b[0m\n",
            "\u001b[2K   \u001b[90m━━━━━━━━━━━━━━━━━━━━━━━━━━━━━━━━━━━━━━━━\u001b[0m \u001b[32m4.0/4.0 MB\u001b[0m \u001b[31m89.3 MB/s\u001b[0m eta \u001b[36m0:00:00\u001b[0m\n",
            "\u001b[2K   \u001b[90m━━━━━━━━━━━━━━━━━━━━━━━━━━━━━━━━━━━━━━━━\u001b[0m \u001b[32m453.1/453.1 kB\u001b[0m \u001b[31m27.7 MB/s\u001b[0m eta \u001b[36m0:00:00\u001b[0m\n",
            "\u001b[2K   \u001b[90m━━━━━━━━━━━━━━━━━━━━━━━━━━━━━━━━━━━━━━━━\u001b[0m \u001b[32m45.5/45.5 kB\u001b[0m \u001b[31m3.5 MB/s\u001b[0m eta \u001b[36m0:00:00\u001b[0m\n",
            "\u001b[2K   \u001b[90m━━━━━━━━━━━━━━━━━━━━━━━━━━━━━━━━━━━━━━━━\u001b[0m \u001b[32m313.6/313.6 kB\u001b[0m \u001b[31m23.8 MB/s\u001b[0m eta \u001b[36m0:00:00\u001b[0m\n",
            "\u001b[2K   \u001b[90m━━━━━━━━━━━━━━━━━━━━━━━━━━━━━━━━━━━━━━━━\u001b[0m \u001b[32m400.9/400.9 kB\u001b[0m \u001b[31m26.0 MB/s\u001b[0m eta \u001b[36m0:00:00\u001b[0m\n",
            "\u001b[2K   \u001b[90m━━━━━━━━━━━━━━━━━━━━━━━━━━━━━━━━━━━━━━━━\u001b[0m \u001b[32m322.0/322.0 kB\u001b[0m \u001b[31m21.6 MB/s\u001b[0m eta \u001b[36m0:00:00\u001b[0m\n",
            "\u001b[2K   \u001b[90m━━━━━━━━━━━━━━━━━━━━━━━━━━━━━━━━━━━━━━━━\u001b[0m \u001b[32m53.6/53.6 kB\u001b[0m \u001b[31m3.9 MB/s\u001b[0m eta \u001b[36m0:00:00\u001b[0m\n",
            "\u001b[2K   \u001b[90m━━━━━━━━━━━━━━━━━━━━━━━━━━━━━━━━━━━━━━━━\u001b[0m \u001b[32m247.0/247.0 kB\u001b[0m \u001b[31m16.5 MB/s\u001b[0m eta \u001b[36m0:00:00\u001b[0m\n",
            "\u001b[2K   \u001b[90m━━━━━━━━━━━━━━━━━━━━━━━━━━━━━━━━━━━━━━━━\u001b[0m \u001b[32m950.6/950.6 kB\u001b[0m \u001b[31m46.5 MB/s\u001b[0m eta \u001b[36m0:00:00\u001b[0m\n",
            "\u001b[?25h\u001b[31mERROR: pip's dependency resolver does not currently take into account all the packages that are installed. This behaviour is the source of the following dependency conflicts.\n",
            "pyopenssl 24.2.1 requires cryptography<44,>=41.0.5, but you have cryptography 45.0.6 which is incompatible.\n",
            "pydrive2 1.21.3 requires cryptography<44, but you have cryptography 45.0.6 which is incompatible.\n",
            "tensorflow 2.19.0 requires protobuf!=4.21.0,!=4.21.1,!=4.21.2,!=4.21.3,!=4.21.4,!=4.21.5,<6.0.0dev,>=3.20.3, but you have protobuf 6.32.0 which is incompatible.\n",
            "grpcio-status 1.71.2 requires protobuf<6.0dev,>=5.26.1, but you have protobuf 6.32.0 which is incompatible.\n",
            "google-ai-generativelanguage 0.6.15 requires protobuf!=4.21.0,!=4.21.1,!=4.21.2,!=4.21.3,!=4.21.4,!=4.21.5,<6.0.0dev,>=3.20.2, but you have protobuf 6.32.0 which is incompatible.\u001b[0m\u001b[31m\n",
            "\u001b[0m"
          ]
        }
      ],
      "source": [
        "!pip install -U elysia-ai --quiet"
      ]
    },
    {
      "cell_type": "code",
      "execution_count": 2,
      "metadata": {
        "id": "Hv8bJ1PRdgtO"
      },
      "outputs": [],
      "source": [
        "import os\n",
        "from google.colab import userdata\n",
        "\n",
        "OPENAI_API_KEY = userdata.get(\"OPENAI_API_KEY\")\n",
        "\n",
        "from elysia import configure\n",
        "\n",
        "configure(\n",
        "    base_model=\"gpt-4.1-mini\",\n",
        "    base_provider=\"openai\",\n",
        "    complex_model=\"gpt-4.1\",\n",
        "    complex_provider=\"openai\",\n",
        "    openai_api_key=OPENAI_API_KEY,\n",
        "\n",
        ")"
      ]
    },
    {
      "cell_type": "code",
      "execution_count": 3,
      "metadata": {
        "colab": {
          "base_uri": "https://localhost:8080/",
          "height": 676,
          "referenced_widgets": [
            "f9b7f9dc2b9e43abb87ecf79c51054fb",
            "eb5de01094fa4a9a99d947fbc80edd6f"
          ]
        },
        "id": "C4bZuzRfaIKN",
        "outputId": "826a97d0-9200-49d0-c075-42965e8f65c1"
      },
      "outputs": [
        {
          "data": {
            "text/html": [
              "<pre style=\"white-space:pre;overflow-x:auto;line-height:normal;font-family:Menlo,'DejaVu Sans Mono',consolas,'Courier New',monospace\"><span style=\"color: #7fbfbf; text-decoration-color: #7fbfbf\">[08/18/25 14:24:22] </span><span style=\"color: #808000; text-decoration-color: #808000\">WARNING </span> WCD_URL and WCD_API_KEY are not set. All Weaviate functionality will be  <a href=\"file:///usr/local/lib/python3.11/dist-packages/elysia/util/client.py\" target=\"_blank\"><span style=\"color: #7f7f7f; text-decoration-color: #7f7f7f\">client.py</span></a><span style=\"color: #7f7f7f; text-decoration-color: #7f7f7f\">:</span><a href=\"file:///usr/local/lib/python3.11/dist-packages/elysia/util/client.py#151\" target=\"_blank\"><span style=\"color: #7f7f7f; text-decoration-color: #7f7f7f\">151</span></a>\n",
              "<span style=\"color: #7fbfbf; text-decoration-color: #7fbfbf\">                    </span>         disabled.                                                                <span style=\"color: #7f7f7f; text-decoration-color: #7f7f7f\">             </span>\n",
              "</pre>\n"
            ],
            "text/plain": [
              "\u001b[2;36m[08/18/25 14:24:22]\u001b[0m\u001b[2;36m \u001b[0m\u001b[33mWARNING \u001b[0m WCD_URL and WCD_API_KEY are not set. All Weaviate functionality will be  \u001b]8;id=571794;file:///usr/local/lib/python3.11/dist-packages/elysia/util/client.py\u001b\\\u001b[2mclient.py\u001b[0m\u001b]8;;\u001b\\\u001b[2m:\u001b[0m\u001b]8;id=670183;file:///usr/local/lib/python3.11/dist-packages/elysia/util/client.py#151\u001b\\\u001b[2m151\u001b[0m\u001b]8;;\u001b\\\n",
              "\u001b[2;36m                    \u001b[0m         disabled.                                                                \u001b[2m             \u001b[0m\n"
            ]
          },
          "metadata": {},
          "output_type": "display_data"
        },
        {
          "data": {
            "text/html": [
              "<pre style=\"white-space:pre;overflow-x:auto;line-height:normal;font-family:Menlo,'DejaVu Sans Mono',consolas,'Courier New',monospace\"><span style=\"color: #808000; text-decoration-color: #808000\">╭─────────── User prompt ───────────╮</span>\n",
              "<span style=\"color: #808000; text-decoration-color: #808000\">│</span>                                   <span style=\"color: #808000; text-decoration-color: #808000\">│</span>\n",
              "<span style=\"color: #808000; text-decoration-color: #808000\">│</span> What is the sum of 9009 and 6006? <span style=\"color: #808000; text-decoration-color: #808000\">│</span>\n",
              "<span style=\"color: #808000; text-decoration-color: #808000\">│</span>                                   <span style=\"color: #808000; text-decoration-color: #808000\">│</span>\n",
              "<span style=\"color: #808000; text-decoration-color: #808000\">╰───────────────────────────────────╯</span>\n",
              "</pre>\n"
            ],
            "text/plain": [
              "\u001b[33m╭─\u001b[0m\u001b[33m──────────\u001b[0m\u001b[33m User prompt \u001b[0m\u001b[33m──────────\u001b[0m\u001b[33m─╮\u001b[0m\n",
              "\u001b[33m│\u001b[0m                                   \u001b[33m│\u001b[0m\n",
              "\u001b[33m│\u001b[0m What is the sum of 9009 and 6006? \u001b[33m│\u001b[0m\n",
              "\u001b[33m│\u001b[0m                                   \u001b[33m│\u001b[0m\n",
              "\u001b[33m╰───────────────────────────────────╯\u001b[0m\n"
            ]
          },
          "metadata": {},
          "output_type": "display_data"
        },
        {
          "data": {
            "application/vnd.jupyter.widget-view+json": {
              "model_id": "f9b7f9dc2b9e43abb87ecf79c51054fb",
              "version_major": 2,
              "version_minor": 0
            },
            "text/plain": [
              "Output()"
            ]
          },
          "metadata": {},
          "output_type": "display_data"
        },
        {
          "data": {
            "text/html": [
              "<pre style=\"white-space:pre;overflow-x:auto;line-height:normal;font-family:Menlo,'DejaVu Sans Mono',consolas,'Courier New',monospace\"><span style=\"color: #008080; text-decoration-color: #008080\">╭────────────────────────── Assistant response ──────────────────────────╮</span>\n",
              "<span style=\"color: #008080; text-decoration-color: #008080\">│</span>                                                                        <span style=\"color: #008080; text-decoration-color: #008080\">│</span>\n",
              "<span style=\"color: #008080; text-decoration-color: #008080\">│</span> I will calculate the sum of 9009 and 6006 using the addition function. <span style=\"color: #008080; text-decoration-color: #008080\">│</span>\n",
              "<span style=\"color: #008080; text-decoration-color: #008080\">│</span>                                                                        <span style=\"color: #008080; text-decoration-color: #008080\">│</span>\n",
              "<span style=\"color: #008080; text-decoration-color: #008080\">╰────────────────────────────────────────────────────────────────────────╯</span>\n",
              "</pre>\n"
            ],
            "text/plain": [
              "\u001b[36m╭─\u001b[0m\u001b[36m─────────────────────────\u001b[0m\u001b[36m Assistant response \u001b[0m\u001b[36m─────────────────────────\u001b[0m\u001b[36m─╮\u001b[0m\n",
              "\u001b[36m│\u001b[0m                                                                        \u001b[36m│\u001b[0m\n",
              "\u001b[36m│\u001b[0m I will calculate the sum of 9009 and 6006 using the addition function. \u001b[36m│\u001b[0m\n",
              "\u001b[36m│\u001b[0m                                                                        \u001b[36m│\u001b[0m\n",
              "\u001b[36m╰────────────────────────────────────────────────────────────────────────╯\u001b[0m\n"
            ]
          },
          "metadata": {},
          "output_type": "display_data"
        },
        {
          "data": {
            "text/html": [
              "<pre style=\"white-space:pre;overflow-x:auto;line-height:normal;font-family:Menlo,'DejaVu Sans Mono',consolas,'Courier New',monospace\"><span style=\"color: #800080; text-decoration-color: #800080\">╭─────────────────────────────────────────────── Current Decision ────────────────────────────────────────────────╮</span>\n",
              "<span style=\"color: #800080; text-decoration-color: #800080\">│</span>                                                                                                                 <span style=\"color: #800080; text-decoration-color: #800080\">│</span>\n",
              "<span style=\"color: #800080; text-decoration-color: #800080\">│</span> <span style=\"font-weight: bold\">Node:</span> <span style=\"color: #800080; text-decoration-color: #800080\">base</span>                                                                                                      <span style=\"color: #800080; text-decoration-color: #800080\">│</span>\n",
              "<span style=\"color: #800080; text-decoration-color: #800080\">│</span> <span style=\"font-weight: bold\">Decision:</span> <span style=\"color: #008000; text-decoration-color: #008000\">add</span>                                                                                                   <span style=\"color: #800080; text-decoration-color: #800080\">│</span>\n",
              "<span style=\"color: #800080; text-decoration-color: #800080\">│</span> <span style=\"font-weight: bold\">Reasoning:</span> The user's prompt is a straightforward arithmetic question asking for the sum of two numbers, 9009   <span style=\"color: #800080; text-decoration-color: #800080\">│</span>\n",
              "<span style=\"color: #800080; text-decoration-color: #800080\">│</span> and 6006. The available actions include a direct addition function (\"add\") which is perfectly suited for this   <span style=\"color: #800080; text-decoration-color: #800080\">│</span>\n",
              "<span style=\"color: #800080; text-decoration-color: #800080\">│</span> task. There is no need for querying external data or summarizing information. Using the \"add\" function with the <span style=\"color: #800080; text-decoration-color: #800080\">│</span>\n",
              "<span style=\"color: #800080; text-decoration-color: #800080\">│</span> two numbers as inputs will directly provide the answer. This is the most efficient and appropriate action to    <span style=\"color: #800080; text-decoration-color: #800080\">│</span>\n",
              "<span style=\"color: #800080; text-decoration-color: #800080\">│</span> take.                                                                                                           <span style=\"color: #800080; text-decoration-color: #800080\">│</span>\n",
              "<span style=\"color: #800080; text-decoration-color: #800080\">│</span>                                                                                                                 <span style=\"color: #800080; text-decoration-color: #800080\">│</span>\n",
              "<span style=\"color: #800080; text-decoration-color: #800080\">│</span>                                                                                                                 <span style=\"color: #800080; text-decoration-color: #800080\">│</span>\n",
              "<span style=\"color: #800080; text-decoration-color: #800080\">╰─────────────────────────────────────────────────────────────────────────────────────────────────────────────────╯</span>\n",
              "</pre>\n"
            ],
            "text/plain": [
              "\u001b[35m╭─\u001b[0m\u001b[35m──────────────────────────────────────────────\u001b[0m\u001b[35m Current Decision \u001b[0m\u001b[35m───────────────────────────────────────────────\u001b[0m\u001b[35m─╮\u001b[0m\n",
              "\u001b[35m│\u001b[0m                                                                                                                 \u001b[35m│\u001b[0m\n",
              "\u001b[35m│\u001b[0m \u001b[1mNode:\u001b[0m \u001b[35mbase\u001b[0m                                                                                                      \u001b[35m│\u001b[0m\n",
              "\u001b[35m│\u001b[0m \u001b[1mDecision:\u001b[0m \u001b[32madd\u001b[0m                                                                                                   \u001b[35m│\u001b[0m\n",
              "\u001b[35m│\u001b[0m \u001b[1mReasoning:\u001b[0m The user's prompt is a straightforward arithmetic question asking for the sum of two numbers, 9009   \u001b[35m│\u001b[0m\n",
              "\u001b[35m│\u001b[0m and 6006. The available actions include a direct addition function (\"add\") which is perfectly suited for this   \u001b[35m│\u001b[0m\n",
              "\u001b[35m│\u001b[0m task. There is no need for querying external data or summarizing information. Using the \"add\" function with the \u001b[35m│\u001b[0m\n",
              "\u001b[35m│\u001b[0m two numbers as inputs will directly provide the answer. This is the most efficient and appropriate action to    \u001b[35m│\u001b[0m\n",
              "\u001b[35m│\u001b[0m take.                                                                                                           \u001b[35m│\u001b[0m\n",
              "\u001b[35m│\u001b[0m                                                                                                                 \u001b[35m│\u001b[0m\n",
              "\u001b[35m│\u001b[0m                                                                                                                 \u001b[35m│\u001b[0m\n",
              "\u001b[35m╰─────────────────────────────────────────────────────────────────────────────────────────────────────────────────╯\u001b[0m\n"
            ]
          },
          "metadata": {},
          "output_type": "display_data"
        },
        {
          "data": {
            "text/html": [
              "<pre style=\"white-space:pre;overflow-x:auto;line-height:normal;font-family:Menlo,'DejaVu Sans Mono',consolas,'Courier New',monospace\"><span style=\"color: #800080; text-decoration-color: #800080\">╭─────────────────────────────────────────────── Current Decision ────────────────────────────────────────────────╮</span>\n",
              "<span style=\"color: #800080; text-decoration-color: #800080\">│</span>                                                                                                                 <span style=\"color: #800080; text-decoration-color: #800080\">│</span>\n",
              "<span style=\"color: #800080; text-decoration-color: #800080\">│</span> <span style=\"font-weight: bold\">Node:</span> <span style=\"color: #800080; text-decoration-color: #800080\">base</span>                                                                                                      <span style=\"color: #800080; text-decoration-color: #800080\">│</span>\n",
              "<span style=\"color: #800080; text-decoration-color: #800080\">│</span> <span style=\"font-weight: bold\">Decision:</span> <span style=\"color: #008000; text-decoration-color: #008000\">text_response</span>                                                                                         <span style=\"color: #800080; text-decoration-color: #800080\">│</span>\n",
              "<span style=\"color: #800080; text-decoration-color: #800080\">│</span> <span style=\"font-weight: bold\">Reasoning:</span> The sum of 9009 and 6006 has already been calculated using the addition function, resulting in       <span style=\"color: #800080; text-decoration-color: #800080\">│</span>\n",
              "<span style=\"color: #800080; text-decoration-color: #800080\">│</span> 15015. The environment confirms this result is available. The next step is to provide this answer directly to   <span style=\"color: #800080; text-decoration-color: #800080\">│</span>\n",
              "<span style=\"color: #800080; text-decoration-color: #800080\">│</span> the user as a text response to complete the query efficiently and clearly.                                      <span style=\"color: #800080; text-decoration-color: #800080\">│</span>\n",
              "<span style=\"color: #800080; text-decoration-color: #800080\">│</span>                                                                                                                 <span style=\"color: #800080; text-decoration-color: #800080\">│</span>\n",
              "<span style=\"color: #800080; text-decoration-color: #800080\">│</span>                                                                                                                 <span style=\"color: #800080; text-decoration-color: #800080\">│</span>\n",
              "<span style=\"color: #800080; text-decoration-color: #800080\">╰─────────────────────────────────────────────────────────────────────────────────────────────────────────────────╯</span>\n",
              "</pre>\n"
            ],
            "text/plain": [
              "\u001b[35m╭─\u001b[0m\u001b[35m──────────────────────────────────────────────\u001b[0m\u001b[35m Current Decision \u001b[0m\u001b[35m───────────────────────────────────────────────\u001b[0m\u001b[35m─╮\u001b[0m\n",
              "\u001b[35m│\u001b[0m                                                                                                                 \u001b[35m│\u001b[0m\n",
              "\u001b[35m│\u001b[0m \u001b[1mNode:\u001b[0m \u001b[35mbase\u001b[0m                                                                                                      \u001b[35m│\u001b[0m\n",
              "\u001b[35m│\u001b[0m \u001b[1mDecision:\u001b[0m \u001b[32mtext_response\u001b[0m                                                                                         \u001b[35m│\u001b[0m\n",
              "\u001b[35m│\u001b[0m \u001b[1mReasoning:\u001b[0m The sum of 9009 and 6006 has already been calculated using the addition function, resulting in       \u001b[35m│\u001b[0m\n",
              "\u001b[35m│\u001b[0m 15015. The environment confirms this result is available. The next step is to provide this answer directly to   \u001b[35m│\u001b[0m\n",
              "\u001b[35m│\u001b[0m the user as a text response to complete the query efficiently and clearly.                                      \u001b[35m│\u001b[0m\n",
              "\u001b[35m│\u001b[0m                                                                                                                 \u001b[35m│\u001b[0m\n",
              "\u001b[35m│\u001b[0m                                                                                                                 \u001b[35m│\u001b[0m\n",
              "\u001b[35m╰─────────────────────────────────────────────────────────────────────────────────────────────────────────────────╯\u001b[0m\n"
            ]
          },
          "metadata": {},
          "output_type": "display_data"
        },
        {
          "data": {
            "text/html": [
              "<pre style=\"white-space:pre;overflow-x:auto;line-height:normal;font-family:Menlo,'DejaVu Sans Mono',consolas,'Courier New',monospace\"><span style=\"color: #008080; text-decoration-color: #008080\">╭──────── Assistant response ────────╮</span>\n",
              "<span style=\"color: #008080; text-decoration-color: #008080\">│</span>                                    <span style=\"color: #008080; text-decoration-color: #008080\">│</span>\n",
              "<span style=\"color: #008080; text-decoration-color: #008080\">│</span> The sum of 9009 and 6006 is 15015. <span style=\"color: #008080; text-decoration-color: #008080\">│</span>\n",
              "<span style=\"color: #008080; text-decoration-color: #008080\">│</span>                                    <span style=\"color: #008080; text-decoration-color: #008080\">│</span>\n",
              "<span style=\"color: #008080; text-decoration-color: #008080\">╰────────────────────────────────────╯</span>\n",
              "</pre>\n"
            ],
            "text/plain": [
              "\u001b[36m╭─\u001b[0m\u001b[36m───────\u001b[0m\u001b[36m Assistant response \u001b[0m\u001b[36m───────\u001b[0m\u001b[36m─╮\u001b[0m\n",
              "\u001b[36m│\u001b[0m                                    \u001b[36m│\u001b[0m\n",
              "\u001b[36m│\u001b[0m The sum of 9009 and 6006 is 15015. \u001b[36m│\u001b[0m\n",
              "\u001b[36m│\u001b[0m                                    \u001b[36m│\u001b[0m\n",
              "\u001b[36m╰────────────────────────────────────╯\u001b[0m\n"
            ]
          },
          "metadata": {},
          "output_type": "display_data"
        },
        {
          "data": {
            "text/html": [
              "<pre style=\"white-space:pre;overflow-x:auto;line-height:normal;font-family:Menlo,'DejaVu Sans Mono',consolas,'Courier New',monospace\"></pre>\n"
            ],
            "text/plain": []
          },
          "metadata": {},
          "output_type": "display_data"
        },
        {
          "data": {
            "text/plain": [
              "('I will calculate the sum of 9009 and 6006 using the addition function. The sum of 9009 and 6006 is 15015.',\n",
              " [[{'tool_result': 15015, '_REF_ID': 'add_default_0_0'}]])"
            ]
          },
          "execution_count": 3,
          "metadata": {},
          "output_type": "execute_result"
        }
      ],
      "source": [
        "from elysia import tool, Tree\n",
        "\n",
        "tree = Tree()\n",
        "\n",
        "@tool(tree=tree)\n",
        "async def add(x: int, y: int) -> int:\n",
        "    return x + y\n",
        "\n",
        "tree(\"What is the sum of 9009 and 6006?\")"
      ]
    },
    {
      "cell_type": "markdown",
      "metadata": {
        "id": "eyIPqpTOdgtQ"
      },
      "source": [
        "## Data ingestion to Weaviate (short, with advanced options)\n",
        "\n",
        "The following cell creates a collection and imports JSON data with vectorization. Adjust provider and schema per your data.\n"
      ]
    },
    {
      "cell_type": "code",
      "execution_count": 4,
      "metadata": {
        "id": "o0-r0-23gLUu"
      },
      "outputs": [],
      "source": [
        "!pip install weaviate-client --quiet"
      ]
    },
    {
      "cell_type": "code",
      "execution_count": 9,
      "metadata": {
        "id": "nNkIl6uEhsas"
      },
      "outputs": [],
      "source": [
        "from elysia import configure\n",
        "\n",
        "configure(\n",
        "    base_model=\"gpt-4.1-mini\",\n",
        "    base_provider=\"openai\",\n",
        "    complex_model=\"gpt-4.1\",\n",
        "    complex_provider=\"openai\",\n",
        "    openai_api_key=OPENAI_API_KEY,\n",
        "    WCD_URL=\"st3vqfvjsnkwrcfxrq5nlw.c0.asia-southeast1.gcp.weaviate.cloud\",\n",
        "    WCD_API_KEY=\"L2RRblE4VGhZUk5vd1RyN19UaUJmM3JZOFdURWQ5MXdyNk5NcldlNGVadkZxTmU3R2dBUkp2dlZsbDNJPV92MjAw\",\n",
        ")\n"
      ]
    },
    {
      "cell_type": "code",
      "execution_count": 7,
      "metadata": {
        "id": "l9yV1BWefich"
      },
      "outputs": [],
      "source": [
        "from elysia import preprocess"
      ]
    },
    {
      "cell_type": "code",
      "execution_count": 10,
      "metadata": {
        "colab": {
          "base_uri": "https://localhost:8080/",
          "height": 33,
          "referenced_widgets": [
            "05c5d2b19cfd49c397739dcc62713fb0",
            "f64fd0884183416f82af60314d19339a"
          ]
        },
        "id": "oN9c-YTUhXAc",
        "outputId": "a37fa0b5-c976-48de-f202-db0fea2220f4"
      },
      "outputs": [
        {
          "data": {
            "application/vnd.jupyter.widget-view+json": {
              "model_id": "05c5d2b19cfd49c397739dcc62713fb0",
              "version_major": 2,
              "version_minor": 0
            },
            "text/plain": [
              "Output()"
            ]
          },
          "metadata": {},
          "output_type": "display_data"
        },
        {
          "data": {
            "text/html": [
              "<pre style=\"white-space:pre;overflow-x:auto;line-height:normal;font-family:Menlo,'DejaVu Sans Mono',consolas,'Courier New',monospace\"></pre>\n"
            ],
            "text/plain": []
          },
          "metadata": {},
          "output_type": "display_data"
        }
      ],
      "source": [
        "from elysia.preprocess.collection import preprocess\n",
        "preprocess(\"Student\")"
      ]
    },
    {
      "cell_type": "code",
      "execution_count": 13,
      "metadata": {
        "colab": {
          "base_uri": "https://localhost:8080/",
          "height": 433,
          "referenced_widgets": [
            "5506399195ed4f91b762cc24f3872852",
            "0d6428efeeab4d1caff05e898337b099"
          ]
        },
        "id": "GRL-_do0lFuR",
        "outputId": "b896782f-b8f1-4698-bef5-edd4a39980dd"
      },
      "outputs": [
        {
          "data": {
            "application/vnd.jupyter.widget-view+json": {
              "model_id": "5506399195ed4f91b762cc24f3872852",
              "version_major": 2,
              "version_minor": 0
            },
            "text/plain": [
              "Output()"
            ]
          },
          "metadata": {},
          "output_type": "display_data"
        },
        {
          "data": {
            "text/html": [
              "<pre style=\"white-space:pre;overflow-x:auto;line-height:normal;font-family:Menlo,'DejaVu Sans Mono',consolas,'Courier New',monospace\"><span style=\"color: #808000; text-decoration-color: #808000\">╭─── User prompt ────╮</span>\n",
              "<span style=\"color: #808000; text-decoration-color: #808000\">│</span>                    <span style=\"color: #808000; text-decoration-color: #808000\">│</span>\n",
              "<span style=\"color: #808000; text-decoration-color: #808000\">│</span> what is data about <span style=\"color: #808000; text-decoration-color: #808000\">│</span>\n",
              "<span style=\"color: #808000; text-decoration-color: #808000\">│</span>                    <span style=\"color: #808000; text-decoration-color: #808000\">│</span>\n",
              "<span style=\"color: #808000; text-decoration-color: #808000\">╰────────────────────╯</span>\n",
              "</pre>\n"
            ],
            "text/plain": [
              "\u001b[33m╭─\u001b[0m\u001b[33m──\u001b[0m\u001b[33m User prompt \u001b[0m\u001b[33m───\u001b[0m\u001b[33m─╮\u001b[0m\n",
              "\u001b[33m│\u001b[0m                    \u001b[33m│\u001b[0m\n",
              "\u001b[33m│\u001b[0m what is data about \u001b[33m│\u001b[0m\n",
              "\u001b[33m│\u001b[0m                    \u001b[33m│\u001b[0m\n",
              "\u001b[33m╰────────────────────╯\u001b[0m\n"
            ]
          },
          "metadata": {},
          "output_type": "display_data"
        },
        {
          "data": {
            "text/html": [
              "<pre style=\"white-space:pre;overflow-x:auto;line-height:normal;font-family:Menlo,'DejaVu Sans Mono',consolas,'Courier New',monospace\"><span style=\"color: #800080; text-decoration-color: #800080\">╭─────────────────────────────────────────────── Current Decision ────────────────────────────────────────────────╮</span>\n",
              "<span style=\"color: #800080; text-decoration-color: #800080\">│</span>                                                                                                                 <span style=\"color: #800080; text-decoration-color: #800080\">│</span>\n",
              "<span style=\"color: #800080; text-decoration-color: #800080\">│</span> <span style=\"font-weight: bold\">Node:</span> <span style=\"color: #800080; text-decoration-color: #800080\">base</span>                                                                                                      <span style=\"color: #800080; text-decoration-color: #800080\">│</span>\n",
              "<span style=\"color: #800080; text-decoration-color: #800080\">│</span> <span style=\"font-weight: bold\">Decision:</span> <span style=\"color: #008000; text-decoration-color: #008000\">text_response</span>                                                                                         <span style=\"color: #800080; text-decoration-color: #800080\">│</span>\n",
              "<span style=\"color: #800080; text-decoration-color: #800080\">│</span> <span style=\"font-weight: bold\">Reasoning:</span> The user asks \"what is data about,\" which is a general question likely seeking an explanation or     <span style=\"color: #800080; text-decoration-color: #800080\">│</span>\n",
              "<span style=\"color: #800080; text-decoration-color: #800080\">│</span> overview of the data available. The environment contains a detailed summary of a \"Student\" dataset, describing  <span style=\"color: #800080; text-decoration-color: #800080\">│</span>\n",
              "<span style=\"color: #800080; text-decoration-color: #800080\">│</span> its contents, fields, and purpose. Since the user query is broad and conversational, the best approach is to    <span style=\"color: #800080; text-decoration-color: #800080\">│</span>\n",
              "<span style=\"color: #800080; text-decoration-color: #800080\">│</span> provide a concise textual explanation based on the dataset summary already available in the environment. No     <span style=\"color: #800080; text-decoration-color: #800080\">│</span>\n",
              "<span style=\"color: #800080; text-decoration-color: #800080\">│</span> further querying or aggregation is needed at this stage because the dataset summary sufficiently answers the    <span style=\"color: #800080; text-decoration-color: #800080\">│</span>\n",
              "<span style=\"color: #800080; text-decoration-color: #800080\">│</span> user's question about what the data is about.                                                                   <span style=\"color: #800080; text-decoration-color: #800080\">│</span>\n",
              "<span style=\"color: #800080; text-decoration-color: #800080\">│</span>                                                                                                                 <span style=\"color: #800080; text-decoration-color: #800080\">│</span>\n",
              "<span style=\"color: #800080; text-decoration-color: #800080\">│</span>                                                                                                                 <span style=\"color: #800080; text-decoration-color: #800080\">│</span>\n",
              "<span style=\"color: #800080; text-decoration-color: #800080\">╰─────────────────────────────────────────────────────────────────────────────────────────────────────────────────╯</span>\n",
              "</pre>\n"
            ],
            "text/plain": [
              "\u001b[35m╭─\u001b[0m\u001b[35m──────────────────────────────────────────────\u001b[0m\u001b[35m Current Decision \u001b[0m\u001b[35m───────────────────────────────────────────────\u001b[0m\u001b[35m─╮\u001b[0m\n",
              "\u001b[35m│\u001b[0m                                                                                                                 \u001b[35m│\u001b[0m\n",
              "\u001b[35m│\u001b[0m \u001b[1mNode:\u001b[0m \u001b[35mbase\u001b[0m                                                                                                      \u001b[35m│\u001b[0m\n",
              "\u001b[35m│\u001b[0m \u001b[1mDecision:\u001b[0m \u001b[32mtext_response\u001b[0m                                                                                         \u001b[35m│\u001b[0m\n",
              "\u001b[35m│\u001b[0m \u001b[1mReasoning:\u001b[0m The user asks \"what is data about,\" which is a general question likely seeking an explanation or     \u001b[35m│\u001b[0m\n",
              "\u001b[35m│\u001b[0m overview of the data available. The environment contains a detailed summary of a \"Student\" dataset, describing  \u001b[35m│\u001b[0m\n",
              "\u001b[35m│\u001b[0m its contents, fields, and purpose. Since the user query is broad and conversational, the best approach is to    \u001b[35m│\u001b[0m\n",
              "\u001b[35m│\u001b[0m provide a concise textual explanation based on the dataset summary already available in the environment. No     \u001b[35m│\u001b[0m\n",
              "\u001b[35m│\u001b[0m further querying or aggregation is needed at this stage because the dataset summary sufficiently answers the    \u001b[35m│\u001b[0m\n",
              "\u001b[35m│\u001b[0m user's question about what the data is about.                                                                   \u001b[35m│\u001b[0m\n",
              "\u001b[35m│\u001b[0m                                                                                                                 \u001b[35m│\u001b[0m\n",
              "\u001b[35m│\u001b[0m                                                                                                                 \u001b[35m│\u001b[0m\n",
              "\u001b[35m╰─────────────────────────────────────────────────────────────────────────────────────────────────────────────────╯\u001b[0m\n"
            ]
          },
          "metadata": {},
          "output_type": "display_data"
        },
        {
          "data": {
            "text/html": [
              "<pre style=\"white-space:pre;overflow-x:auto;line-height:normal;font-family:Menlo,'DejaVu Sans Mono',consolas,'Courier New',monospace\"><span style=\"color: #008080; text-decoration-color: #008080\">╭────────────────────────────────────────────── Assistant response ───────────────────────────────────────────────╮</span>\n",
              "<span style=\"color: #008080; text-decoration-color: #008080\">│</span>                                                                                                                 <span style=\"color: #008080; text-decoration-color: #008080\">│</span>\n",
              "<span style=\"color: #008080; text-decoration-color: #008080\">│</span> The data is about student academic performance, capturing demographic details, study habits, and exam results.  <span style=\"color: #008080; text-decoration-color: #008080\">│</span>\n",
              "<span style=\"color: #008080; text-decoration-color: #008080\">│</span> It includes information such as gender, parental education level, study hours, attendance, past and final exam  <span style=\"color: #008080; text-decoration-color: #008080\">│</span>\n",
              "<span style=\"color: #008080; text-decoration-color: #008080\">│</span> scores, internet access, and extracurricular activities. The dataset is designed to analyze factors influencing <span style=\"color: #008080; text-decoration-color: #008080\">│</span>\n",
              "<span style=\"color: #008080; text-decoration-color: #008080\">│</span> student success and academic outcomes.                                                                          <span style=\"color: #008080; text-decoration-color: #008080\">│</span>\n",
              "<span style=\"color: #008080; text-decoration-color: #008080\">│</span>                                                                                                                 <span style=\"color: #008080; text-decoration-color: #008080\">│</span>\n",
              "<span style=\"color: #008080; text-decoration-color: #008080\">╰─────────────────────────────────────────────────────────────────────────────────────────────────────────────────╯</span>\n",
              "</pre>\n"
            ],
            "text/plain": [
              "\u001b[36m╭─\u001b[0m\u001b[36m─────────────────────────────────────────────\u001b[0m\u001b[36m Assistant response \u001b[0m\u001b[36m──────────────────────────────────────────────\u001b[0m\u001b[36m─╮\u001b[0m\n",
              "\u001b[36m│\u001b[0m                                                                                                                 \u001b[36m│\u001b[0m\n",
              "\u001b[36m│\u001b[0m The data is about student academic performance, capturing demographic details, study habits, and exam results.  \u001b[36m│\u001b[0m\n",
              "\u001b[36m│\u001b[0m It includes information such as gender, parental education level, study hours, attendance, past and final exam  \u001b[36m│\u001b[0m\n",
              "\u001b[36m│\u001b[0m scores, internet access, and extracurricular activities. The dataset is designed to analyze factors influencing \u001b[36m│\u001b[0m\n",
              "\u001b[36m│\u001b[0m student success and academic outcomes.                                                                          \u001b[36m│\u001b[0m\n",
              "\u001b[36m│\u001b[0m                                                                                                                 \u001b[36m│\u001b[0m\n",
              "\u001b[36m╰─────────────────────────────────────────────────────────────────────────────────────────────────────────────────╯\u001b[0m\n"
            ]
          },
          "metadata": {},
          "output_type": "display_data"
        },
        {
          "data": {
            "text/html": [
              "<pre style=\"white-space:pre;overflow-x:auto;line-height:normal;font-family:Menlo,'DejaVu Sans Mono',consolas,'Courier New',monospace\"></pre>\n"
            ],
            "text/plain": []
          },
          "metadata": {},
          "output_type": "display_data"
        }
      ],
      "source": [
        "import elysia\n",
        "tree = elysia.Tree()\n",
        "response, objects = tree(\n",
        "    \"what is data about\",\n",
        "    collection_names = [\"Student\"]\n",
        ")"
      ]
    }
  ],
  "metadata": {
    "colab": {
      "provenance": []
    },
    "kernelspec": {
      "display_name": "base",
      "language": "python",
      "name": "python3"
    },
    "language_info": {
      "name": "python",
      "version": "3.12.7"
    },
    "widgets": {
      "application/vnd.jupyter.widget-state+json": {
        "05c5d2b19cfd49c397739dcc62713fb0": {
          "model_module": "@jupyter-widgets/output",
          "model_module_version": "1.0.0",
          "model_name": "OutputModel",
          "state": {
            "_dom_classes": [],
            "_model_module": "@jupyter-widgets/output",
            "_model_module_version": "1.0.0",
            "_model_name": "OutputModel",
            "_view_count": null,
            "_view_module": "@jupyter-widgets/output",
            "_view_module_version": "1.0.0",
            "_view_name": "OutputView",
            "layout": "IPY_MODEL_f64fd0884183416f82af60314d19339a",
            "msg_id": "",
            "outputs": [
              {
                "data": {
                  "text/html": "<pre style=\"white-space:pre;overflow-x:auto;line-height:normal;font-family:Menlo,'DejaVu Sans Mono',consolas,'Courier New',monospace\">(Student) No display types found, defined mappings for generic <span style=\"color: #f92672; text-decoration-color: #f92672\">━━━━━━━━━━━━━━━━━━━━━━━━━━━━━━━━━━━━━━╸</span> <span style=\"color: #800080; text-decoration-color: #800080\"> 99%</span> <span style=\"color: #008080; text-decoration-color: #008080\">0:00:01</span>\n</pre>\n",
                  "text/plain": "(Student) No display types found, defined mappings for generic \u001b[38;2;249;38;114m━━━━━━━━━━━━━━━━━━━━━━━━━━━━━━━━━━━━━━\u001b[0m\u001b[38;2;249;38;114m╸\u001b[0m \u001b[35m 99%\u001b[0m \u001b[36m0:00:01\u001b[0m\n"
                },
                "metadata": {},
                "output_type": "display_data"
              }
            ]
          }
        },
        "0d6428efeeab4d1caff05e898337b099": {
          "model_module": "@jupyter-widgets/base",
          "model_module_version": "1.2.0",
          "model_name": "LayoutModel",
          "state": {
            "_model_module": "@jupyter-widgets/base",
            "_model_module_version": "1.2.0",
            "_model_name": "LayoutModel",
            "_view_count": null,
            "_view_module": "@jupyter-widgets/base",
            "_view_module_version": "1.2.0",
            "_view_name": "LayoutView",
            "align_content": null,
            "align_items": null,
            "align_self": null,
            "border": null,
            "bottom": null,
            "display": null,
            "flex": null,
            "flex_flow": null,
            "grid_area": null,
            "grid_auto_columns": null,
            "grid_auto_flow": null,
            "grid_auto_rows": null,
            "grid_column": null,
            "grid_gap": null,
            "grid_row": null,
            "grid_template_areas": null,
            "grid_template_columns": null,
            "grid_template_rows": null,
            "height": null,
            "justify_content": null,
            "justify_items": null,
            "left": null,
            "margin": null,
            "max_height": null,
            "max_width": null,
            "min_height": null,
            "min_width": null,
            "object_fit": null,
            "object_position": null,
            "order": null,
            "overflow": null,
            "overflow_x": null,
            "overflow_y": null,
            "padding": null,
            "right": null,
            "top": null,
            "visibility": null,
            "width": null
          }
        },
        "5506399195ed4f91b762cc24f3872852": {
          "model_module": "@jupyter-widgets/output",
          "model_module_version": "1.0.0",
          "model_name": "OutputModel",
          "state": {
            "_dom_classes": [],
            "_model_module": "@jupyter-widgets/output",
            "_model_module_version": "1.0.0",
            "_model_name": "OutputModel",
            "_view_count": null,
            "_view_module": "@jupyter-widgets/output",
            "_view_module_version": "1.0.0",
            "_view_name": "OutputView",
            "layout": "IPY_MODEL_0d6428efeeab4d1caff05e898337b099",
            "msg_id": "",
            "outputs": [
              {
                "data": {
                  "text/html": "<pre style=\"white-space:pre;overflow-x:auto;line-height:normal;font-family:Menlo,'DejaVu Sans Mono',consolas,'Courier New',monospace\"><span style=\"color: #008000; text-decoration-color: #008000\">⠴</span> Thinking...\n</pre>\n",
                  "text/plain": "\u001b[32m⠴\u001b[0m Thinking...\n"
                },
                "metadata": {},
                "output_type": "display_data"
              }
            ]
          }
        },
        "eb5de01094fa4a9a99d947fbc80edd6f": {
          "model_module": "@jupyter-widgets/base",
          "model_module_version": "1.2.0",
          "model_name": "LayoutModel",
          "state": {
            "_model_module": "@jupyter-widgets/base",
            "_model_module_version": "1.2.0",
            "_model_name": "LayoutModel",
            "_view_count": null,
            "_view_module": "@jupyter-widgets/base",
            "_view_module_version": "1.2.0",
            "_view_name": "LayoutView",
            "align_content": null,
            "align_items": null,
            "align_self": null,
            "border": null,
            "bottom": null,
            "display": null,
            "flex": null,
            "flex_flow": null,
            "grid_area": null,
            "grid_auto_columns": null,
            "grid_auto_flow": null,
            "grid_auto_rows": null,
            "grid_column": null,
            "grid_gap": null,
            "grid_row": null,
            "grid_template_areas": null,
            "grid_template_columns": null,
            "grid_template_rows": null,
            "height": null,
            "justify_content": null,
            "justify_items": null,
            "left": null,
            "margin": null,
            "max_height": null,
            "max_width": null,
            "min_height": null,
            "min_width": null,
            "object_fit": null,
            "object_position": null,
            "order": null,
            "overflow": null,
            "overflow_x": null,
            "overflow_y": null,
            "padding": null,
            "right": null,
            "top": null,
            "visibility": null,
            "width": null
          }
        },
        "f64fd0884183416f82af60314d19339a": {
          "model_module": "@jupyter-widgets/base",
          "model_module_version": "1.2.0",
          "model_name": "LayoutModel",
          "state": {
            "_model_module": "@jupyter-widgets/base",
            "_model_module_version": "1.2.0",
            "_model_name": "LayoutModel",
            "_view_count": null,
            "_view_module": "@jupyter-widgets/base",
            "_view_module_version": "1.2.0",
            "_view_name": "LayoutView",
            "align_content": null,
            "align_items": null,
            "align_self": null,
            "border": null,
            "bottom": null,
            "display": null,
            "flex": null,
            "flex_flow": null,
            "grid_area": null,
            "grid_auto_columns": null,
            "grid_auto_flow": null,
            "grid_auto_rows": null,
            "grid_column": null,
            "grid_gap": null,
            "grid_row": null,
            "grid_template_areas": null,
            "grid_template_columns": null,
            "grid_template_rows": null,
            "height": null,
            "justify_content": null,
            "justify_items": null,
            "left": null,
            "margin": null,
            "max_height": null,
            "max_width": null,
            "min_height": null,
            "min_width": null,
            "object_fit": null,
            "object_position": null,
            "order": null,
            "overflow": null,
            "overflow_x": null,
            "overflow_y": null,
            "padding": null,
            "right": null,
            "top": null,
            "visibility": null,
            "width": null
          }
        },
        "f9b7f9dc2b9e43abb87ecf79c51054fb": {
          "model_module": "@jupyter-widgets/output",
          "model_module_version": "1.0.0",
          "model_name": "OutputModel",
          "state": {
            "_dom_classes": [],
            "_model_module": "@jupyter-widgets/output",
            "_model_module_version": "1.0.0",
            "_model_name": "OutputModel",
            "_view_count": null,
            "_view_module": "@jupyter-widgets/output",
            "_view_module_version": "1.0.0",
            "_view_name": "OutputView",
            "layout": "IPY_MODEL_eb5de01094fa4a9a99d947fbc80edd6f",
            "msg_id": "",
            "outputs": [
              {
                "data": {
                  "text/html": "<pre style=\"white-space:pre;overflow-x:auto;line-height:normal;font-family:Menlo,'DejaVu Sans Mono',consolas,'Courier New',monospace\"><span style=\"color: #008000; text-decoration-color: #008000\">⠦</span> Running add...\n</pre>\n",
                  "text/plain": "\u001b[32m⠦\u001b[0m Running add...\n"
                },
                "metadata": {},
                "output_type": "display_data"
              }
            ]
          }
        }
      }
    }
  },
  "nbformat": 4,
  "nbformat_minor": 0
}
