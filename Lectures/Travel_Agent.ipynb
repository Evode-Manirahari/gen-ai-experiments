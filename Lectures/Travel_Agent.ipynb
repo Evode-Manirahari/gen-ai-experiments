{
  "nbformat": 4,
  "nbformat_minor": 0,
  "metadata": {
    "colab": {
      "provenance": []
    },
    "kernelspec": {
      "name": "python3",
      "display_name": "Python 3"
    },
    "language_info": {
      "name": "python"
    }
  },
  "cells": [
    {
      "cell_type": "markdown",
      "source": [
        "<img src=\"https://drive.google.com/uc?export=view&id=1wYSMgJtARFdvTt5g7E20mE4NmwUFUuog\" width=\"200\">\n",
        "\n",
        "[![Build Fast with AI](https://img.shields.io/badge/BuildFastWithAI-GenAI%20Bootcamp-blue?style=for-the-badge&logo=artificial-intelligence)](https://www.buildfastwithai.com/genai-course)\n",
        "[![EduChain GitHub](https://img.shields.io/github/stars/satvik314/educhain?style=for-the-badge&logo=github&color=gold)](https://github.com/satvik314/educhain)\n",
        "\n",
        "[![Open In Colab](https://colab.research.google.com/assets/colab-badge.svg)](https://colab.research.google.com/drive/1JeQmZWZoWCrmQQg5-8FFQtAvYNvFQKuU?usp=sharing)\n",
        "## Master Generative AI in 8 Weeks\n",
        "**What You'll Learn:**\n",
        "- Build with Latest LLMs\n",
        "- Create Custom AI Apps\n",
        "- Learn from Industry Experts\n",
        "- Join Innovation Community\n",
        "Transform your AI ideas into reality through hands-on projects and expert mentorship.\n",
        "[Start Your Journey](https://www.buildfastwithai.com/genai-course)\n",
        "*Empowering the Next Generation of AI Innovators"
      ],
      "metadata": {
        "id": "e5xvo04DwiqT"
      }
    },
    {
      "cell_type": "markdown",
      "source": [
        "##Step-by-Step Guide to Building AI Agent Teams with CrewAI\n"
      ],
      "metadata": {
        "id": "wd0NBUxQuO1B"
      }
    },
    {
      "cell_type": "markdown",
      "source": [
        "###Introduction\n",
        "CrewAI is a powerful framework that allows you to create, coordinate and deploy teams of AI agents that work together to accomplish complex tasks. This guide will walk you through the process of creating your own AI agent teams, even if you have minimal coding experience."
      ],
      "metadata": {
        "id": "9xmXLD-cuRGq"
      }
    },
    {
      "cell_type": "markdown",
      "source": [
        "###install Required Libraries"
      ],
      "metadata": {
        "id": "0hCUOI1-J2Zd"
      }
    },
    {
      "cell_type": "code",
      "source": [
        "!pip install -qU crewai langchain_openai 'crewai[tools]' google-search-results"
      ],
      "metadata": {
        "id": "hHeuSCq_uVy2"
      },
      "execution_count": null,
      "outputs": []
    },
    {
      "cell_type": "markdown",
      "source": [
        "###Getting Your API Keys\n",
        "**Serper API Key**\n",
        "\n",
        "* Visit https://serper.dev/api-key\n",
        "* Sign up for an account or log in\n",
        "* Navigate to the API dashboard\n",
        "* Generate your API key\n",
        "* Copy the key and use in your Colab Notebook\n",
        "\n",
        "**Google Gemini API Key**\n",
        "\n",
        "* Visit https://aistudio.google.com/\n",
        " Sign in with your Google account\n",
        "* Navigate to \"API Keys\" in the settings menu\n",
        "* Click \"Create API Key\"\n",
        "* Copy your new API key And use in Colab Notebook\n"
      ],
      "metadata": {
        "id": "wdVKINDtL1Ls"
      }
    },
    {
      "cell_type": "markdown",
      "source": [
        "**How to Configure API Keys On Google Colab**\n",
        "* Click on the key icon in the left sidebar\n",
        "* Select \"Add new Secret\"\n",
        "* Add your API keys with appropriate names: GEMINI_API_KEY, SERPER_API_KEY\n"
      ],
      "metadata": {
        "id": "vPzTKlhFCm_f"
      }
    },
    {
      "cell_type": "markdown",
      "source": [
        "###Setup API Keys"
      ],
      "metadata": {
        "id": "PvTeF1a20Yg9"
      }
    },
    {
      "cell_type": "code",
      "source": [
        "import os\n",
        "from google.colab import userdata\n",
        "# os.environ[\"OPENAI_API_KEY\"] = userdata.get('OPENAI_API_KEY')\n",
        "os.environ[\"GEMINI_API_KEY\"] = userdata.get('GEMINI_API_KEY')\n",
        "os.environ[\"SERPER_API_KEY\"] = userdata.get('SERPER_API_KEY')"
      ],
      "metadata": {
        "id": "46WooK1suaPQ"
      },
      "execution_count": null,
      "outputs": []
    },
    {
      "cell_type": "markdown",
      "source": [
        "###Initialize Models"
      ],
      "metadata": {
        "id": "IfLfg_dtKBFB"
      }
    },
    {
      "cell_type": "code",
      "source": [
        "from langchain_openai import ChatOpenAI\n",
        "from crewai import LLM\n",
        "\n",
        "Gemini = LLM(\n",
        "    model=\"gemini/gemini-2.0-flash\",)\n",
        "\n",
        "\n",
        "#gpt4o = ChatOpenAI(model = \"gpt-4o\")"
      ],
      "metadata": {
        "id": "whOXjfQRueMV"
      },
      "execution_count": null,
      "outputs": []
    },
    {
      "cell_type": "markdown",
      "source": [
        "###1. AI Travel Agent 🧳\n"
      ],
      "metadata": {
        "id": "OGO9Gr0mAJpu"
      }
    },
    {
      "cell_type": "code",
      "source": [
        "from crewai import Agent, Task, Crew, Process\n",
        "from crewai_tools import SerperDevTool\n",
        "\n",
        "# Initialize tools\n",
        "search_tool = SerperDevTool()\n",
        "\n",
        "def create_travel_agent(destination, preferences):\n",
        "    # Define the Travel Agent\n",
        "    travel_agent = Agent(\n",
        "        role=\"Travel Planner\",\n",
        "        goal=f\"Plan a trip to {destination} based on user preferences\",\n",
        "        backstory=\"An expert travel assistant trained to create personalized travel itineraries\",\n",
        "        verbose=True,\n",
        "        tools=[search_tool],\n",
        "        llm=Gemini\n",
        "    )\n",
        "\n",
        "    # Define the Local Expert Agent\n",
        "    local_expert = Agent(\n",
        "        role=\"Local Expert\",\n",
        "        goal=f\"Provide insider knowledge and cultural insights about {destination}\",\n",
        "        backstory=f\"A longtime resident and cultural expert of {destination} with deep knowledge of local customs, hidden gems, and authentic experiences\",\n",
        "        verbose=True,\n",
        "        tools=[search_tool],\n",
        "        llm=Gemini\n",
        "    )\n",
        "\n",
        "    # Define the Travel Planning Task\n",
        "    travel_task = Task(\n",
        "        description=f\"Find the best places to visit, stay, and eat in {destination} based on preferences: {preferences}\",\n",
        "        expected_output=f\"A detailed travel itinerary for {destination} including places to visit, accommodations, and restaurants.\",\n",
        "        agent=travel_agent\n",
        "    )\n",
        "\n",
        "    # Define the Local Insights Task\n",
        "    local_task = Task(\n",
        "        description=f\"Provide insider tips, cultural insights, and hidden gems for {destination}. Consider local customs, best times to visit specific locations, and authentic local experiences.\",\n",
        "        expected_output=f\"A comprehensive guide of insider knowledge about {destination}, including cultural tips, local customs, and secret spots not found in typical tourist guides.\",\n",
        "        agent=local_expert\n",
        "    )\n",
        "\n",
        "    # Create and Run the Crew\n",
        "    crew = Crew(\n",
        "        agents=[travel_agent, local_expert],\n",
        "        tasks=[travel_task, local_task],\n",
        "        verbose=True,\n",
        "        process=Process.sequential\n",
        "    )\n",
        "\n",
        "    result = crew.kickoff(inputs={\"destination\": destination, \"preferences\": preferences})\n",
        "    return result"
      ],
      "metadata": {
        "colab": {
          "base_uri": "https://localhost:8080/"
        },
        "id": "Zm9_pd42ujm9",
        "outputId": "28e5dc9b-9b4c-4e01-fbca-755abf341857"
      },
      "execution_count": null,
      "outputs": [
        {
          "output_type": "stream",
          "name": "stderr",
          "text": [
            "/usr/local/lib/python3.11/dist-packages/pydantic/_internal/_config.py:295: PydanticDeprecatedSince20: Support for class-based `config` is deprecated, use ConfigDict instead. Deprecated in Pydantic V2.0 to be removed in V3.0. See Pydantic V2 Migration Guide at https://errors.pydantic.dev/2.10/migration/\n",
            "  warnings.warn(DEPRECATION_MESSAGE, DeprecationWarning)\n",
            "/usr/local/lib/python3.11/dist-packages/pydantic/_internal/_generate_schema.py:502: UserWarning: <built-in function callable> is not a Python type (it may be an instance of an object), Pydantic will allow any object with no validation since we cannot even enforce that the input is an instance of the given type. To get rid of this error wrap the type with `pydantic.SkipValidation`.\n",
            "  warn(\n",
            "/usr/local/lib/python3.11/dist-packages/crewai_tools/tools/scrapegraph_scrape_tool/scrapegraph_scrape_tool.py:34: PydanticDeprecatedSince20: Pydantic V1 style `@validator` validators are deprecated. You should migrate to Pydantic V2 style `@field_validator` validators, see the migration guide for more details. Deprecated in Pydantic V2.0 to be removed in V3.0. See Pydantic V2 Migration Guide at https://errors.pydantic.dev/2.10/migration/\n",
            "  @validator(\"website_url\")\n",
            "/usr/local/lib/python3.11/dist-packages/crewai_tools/tools/selenium_scraping_tool/selenium_scraping_tool.py:26: PydanticDeprecatedSince20: Pydantic V1 style `@validator` validators are deprecated. You should migrate to Pydantic V2 style `@field_validator` validators, see the migration guide for more details. Deprecated in Pydantic V2.0 to be removed in V3.0. See Pydantic V2 Migration Guide at https://errors.pydantic.dev/2.10/migration/\n",
            "  @validator(\"website_url\")\n",
            "/usr/local/lib/python3.11/dist-packages/crewai_tools/tools/vision_tool/vision_tool.py:15: PydanticDeprecatedSince20: Pydantic V1 style `@validator` validators are deprecated. You should migrate to Pydantic V2 style `@field_validator` validators, see the migration guide for more details. Deprecated in Pydantic V2.0 to be removed in V3.0. See Pydantic V2 Migration Guide at https://errors.pydantic.dev/2.10/migration/\n",
            "  @validator(\"image_path_url\")\n"
          ]
        }
      ]
    },
    {
      "cell_type": "markdown",
      "source": [
        "### Execute the agent\n"
      ],
      "metadata": {
        "id": "dn-xzy89utDY"
      }
    },
    {
      "cell_type": "code",
      "source": [
        "destination = input(\"Enter your travel destination (e.g., Paris, Bali): \")\n",
        "preferences = input(\"Enter your preferences (e.g., adventure, luxury, budget-friendly): \")\n",
        "travel_result = create_travel_agent(destination, preferences)\n",
        "print(\"Travel Itinerary:\")\n",
        "print(travel_result)"
      ],
      "metadata": {
        "id": "CsM7G9QXunWB"
      },
      "execution_count": null,
      "outputs": []
    }
  ]
}