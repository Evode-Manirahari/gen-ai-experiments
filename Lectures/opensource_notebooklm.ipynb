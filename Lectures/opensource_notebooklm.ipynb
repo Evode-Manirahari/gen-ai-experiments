{
  "nbformat": 4,
  "nbformat_minor": 0,
  "metadata": {
    "colab": {
      "provenance": []
    },
    "kernelspec": {
      "name": "python3",
      "display_name": "Python 3"
    },
    "language_info": {
      "name": "python"
    }
  },
  "cells": [
    {
      "cell_type": "markdown",
      "source": [
        "<img src=\"https://drive.google.com/uc?export=view&id=1wYSMgJtARFdvTt5g7E20mE4NmwUFUuog\" width=\"200\">\n",
        "\n",
        "[![Build Fast with AI](https://img.shields.io/badge/BuildFastWithAI-GenAI%20Bootcamp-blue?style=for-the-badge&logo=artificial-intelligence)](https://www.buildfastwithai.com/genai-course)\n",
        "[![EduChain GitHub](https://img.shields.io/github/stars/satvik314/educhain?style=for-the-badge&logo=github&color=gold)](https://github.com/satvik314/educhain)\n",
        "\n",
        "[![Open In Colab](https://colab.research.google.com/assets/colab-badge.svg)](https://colab.research.google.com/drive/18qHCKLPhWujqelUvp8opSjmkUtXqGiC4?usp=sharingg)\n",
        "## Master Generative AI in 6 Weeks\n",
        "**What You'll Learn:**\n",
        "- Build with Latest LLMs\n",
        "- Create Custom AI Apps\n",
        "- Learn from Industry Experts\n",
        "- Join Innovation Community\n",
        "Transform your AI ideas into reality through hands-on projects and expert mentorship.\n",
        "[Start Your Journey](https://www.buildfastwithai.com/genai-course)\n",
        "*Empowering the Next Generation of AI Innovators"
      ],
      "metadata": {
        "id": "P_qB6oej7KCP"
      }
    },
    {
      "cell_type": "markdown",
      "source": [
        "## Open Source Implementation of NotebookLM\n",
        "\n",
        "- Open source alternative to Google's NotebookLM\n",
        "- Uses Deepseek-V3 for language understanding and generation\n",
        "- Integrates PlayHT for text-to-speech capabilities\n",
        "- Demonstrates interactive notebook-based AI assistance\n",
        "\n"
      ],
      "metadata": {
        "id": "QNXyjixrwiTj"
      }
    },
    {
      "cell_type": "markdown",
      "source": [
        "Notebook by [Build Fast with AI](https://www.buildfastwithai.com/genai-course)"
      ],
      "metadata": {
        "id": "iWkvJYD-xVlr"
      }
    },
    {
      "cell_type": "markdown",
      "source": [
        "###Install Requirements"
      ],
      "metadata": {
        "id": "1pla2sBzt2vJ"
      }
    },
    {
      "cell_type": "code",
      "execution_count": null,
      "metadata": {
        "colab": {
          "base_uri": "https://localhost:8080/"
        },
        "id": "SnKUkFDXthcO",
        "outputId": "d81db2d4-0770-4756-972f-14e946da507b"
      },
      "outputs": [
        {
          "output_type": "stream",
          "name": "stdout",
          "text": [
            "\u001b[?25l   \u001b[90m━━━━━━━━━━━━━━━━━━━━━━━━━━━━━━━━━━━━━━━━\u001b[0m \u001b[32m0.0/54.7 kB\u001b[0m \u001b[31m?\u001b[0m eta \u001b[36m-:--:--\u001b[0m\r\u001b[2K   \u001b[90m━━━━━━━━━━━━━━━━━━━━━━━━━━━━━━━━━━━━━━━━\u001b[0m \u001b[32m54.7/54.7 kB\u001b[0m \u001b[31m1.7 MB/s\u001b[0m eta \u001b[36m0:00:00\u001b[0m\n",
            "\u001b[?25h\u001b[?25l   \u001b[90m━━━━━━━━━━━━━━━━━━━━━━━━━━━━━━━━━━━━━━━━\u001b[0m \u001b[32m0.0/413.0 kB\u001b[0m \u001b[31m?\u001b[0m eta \u001b[36m-:--:--\u001b[0m\r\u001b[2K   \u001b[91m━━━━━━━━━━━━━━━━━━━━━━━━━━━━━━━━━━━━━━━\u001b[0m\u001b[91m╸\u001b[0m \u001b[32m409.6/413.0 kB\u001b[0m \u001b[31m15.2 MB/s\u001b[0m eta \u001b[36m0:00:01\u001b[0m\r\u001b[2K   \u001b[90m━━━━━━━━━━━━━━━━━━━━━━━━━━━━━━━━━━━━━━━━\u001b[0m \u001b[32m413.0/413.0 kB\u001b[0m \u001b[31m7.7 MB/s\u001b[0m eta \u001b[36m0:00:00\u001b[0m\n",
            "\u001b[?25h\u001b[?25l   \u001b[90m━━━━━━━━━━━━━━━━━━━━━━━━━━━━━━━━━━━━━━━━\u001b[0m \u001b[32m0.0/1.2 MB\u001b[0m \u001b[31m?\u001b[0m eta \u001b[36m-:--:--\u001b[0m\r\u001b[2K   \u001b[91m━━━━━━━━━━━━━━━━━━━━━━━━━━━━━━━━━━━━━━━\u001b[0m\u001b[91m╸\u001b[0m \u001b[32m1.2/1.2 MB\u001b[0m \u001b[31m79.1 MB/s\u001b[0m eta \u001b[36m0:00:01\u001b[0m\r\u001b[2K   \u001b[90m━━━━━━━━━━━━━━━━━━━━━━━━━━━━━━━━━━━━━━━━\u001b[0m \u001b[32m1.2/1.2 MB\u001b[0m \u001b[31m24.5 MB/s\u001b[0m eta \u001b[36m0:00:00\u001b[0m\n",
            "\u001b[?25h"
          ]
        }
      ],
      "source": [
        "!pip install -qU fal-client langchain-openai"
      ]
    },
    {
      "cell_type": "markdown",
      "source": [
        "###Import API Keys"
      ],
      "metadata": {
        "id": "Ee7evciTt5Yq"
      }
    },
    {
      "cell_type": "code",
      "source": [
        "import os\n",
        "from google.colab import userdata\n",
        "\n",
        "os.environ[\"FAL_KEY\"] = userdata.get('FAL_KEY')\n",
        "os.environ[\"OPENROUTER_API_KEY\"] = userdata.get('OPENROUTER_API_KEY')"
      ],
      "metadata": {
        "id": "pBBXMSTKucUE"
      },
      "execution_count": null,
      "outputs": []
    },
    {
      "cell_type": "markdown",
      "source": [
        "###Generate Podcast Text"
      ],
      "metadata": {
        "id": "wnrYBPKjt-28"
      }
    },
    {
      "cell_type": "code",
      "source": [
        "from langchain.prompts import ChatPromptTemplate\n",
        "from langchain_openai import ChatOpenAI\n",
        "\n",
        "def generate_podcast_transcript(topic):\n",
        "    # Modify this template as per your requirement!\n",
        "    podcast_template = ChatPromptTemplate.from_template(\"\"\"\n",
        "      Create an engaging conversation between two speakers discussing the topic: {topic}\n",
        "\n",
        "      Requirements:\n",
        "      - Generate exactly 5 back-and-forth exchanges\n",
        "      - Make it natural and conversational\n",
        "      - Include specific details about the {topic}\n",
        "      - Each line should start with either \"Speaker 1:\" or \"Speaker 2:\"\n",
        "\n",
        "      Here's an example of the format (but create NEW content about {topic}, don't copy this example):\n",
        "      Speaker 1: [First speaker's line]\n",
        "      Speaker 2: [Second speaker's line]\n",
        "\n",
        "      The response of the each speaker should be at most 20 words. The conversation has to be insightful, engaging, explanatory, deep diving and educational.\n",
        "\n",
        "      It should be in the style of a podcast where one speaker slightly is more knowledgeable than the other.\n",
        "\n",
        "      You are allowed to write only in the below format. Just give the output in the below format in a single string. No additional delimiters.\n",
        "\n",
        "      The content should be explanatory, deep diving and educational.\n",
        "\n",
        "      Speaker 1: Hey, did you catch the game last night?\n",
        "      Speaker 2: Of course! What a match—it had me on the edge of my seat.\n",
        "      Speaker 1: Same here! That last-minute goal was unreal. Who's your MVP?\n",
        "      Speaker 2: Gotta be the goalie. Those saves were unbelievable.\n",
        "\n",
        "\n",
        "      Remember: Create completely new dialogue about {topic}, don't use the above example.\n",
        "      \"\"\")\n",
        "\n",
        "    # Initialize the ChatOpenAI model\n",
        "    llm = ChatOpenAI(\n",
        "        model=\"deepseek/deepseek-chat\",\n",
        "        openai_api_key=os.getenv(\"OPENROUTER_API_KEY\"),\n",
        "        openai_api_base=\"https://openrouter.ai/api/v1\"\n",
        "    )\n",
        "\n",
        "    # Create the chain\n",
        "    chain = podcast_template | llm\n",
        "\n",
        "    response = chain.invoke({\"topic\": topic})\n",
        "    return response.content"
      ],
      "metadata": {
        "id": "2nnzdQQDqH8z"
      },
      "execution_count": null,
      "outputs": []
    },
    {
      "cell_type": "markdown",
      "source": [
        "###Usage"
      ],
      "metadata": {
        "id": "-9Mda2VeuBx4"
      }
    },
    {
      "cell_type": "code",
      "source": [
        "response = generate_podcast_transcript(\"Quantum Random Walks\")\n",
        "print(response)"
      ],
      "metadata": {
        "colab": {
          "base_uri": "https://localhost:8080/"
        },
        "id": "bEVhAuW1txhR",
        "outputId": "10695e7c-0819-43af-f18b-9bc80b931747"
      },
      "execution_count": null,
      "outputs": [
        {
          "output_type": "stream",
          "name": "stdout",
          "text": [
            "Speaker 1: So, have you heard about Quantum Random Walks? They’re like classical random walks but with quantum weirdness.  \n",
            "Speaker 2: Yeah! Instead of fixed paths, particles can explore multiple routes simultaneously, right?  \n",
            "Speaker 1: Exactly! Thanks to superposition, the quantum walker spreads faster than classical ones.  \n",
            "Speaker 2: That’s fascinating! So, they’re used in quantum algorithms for speedups, like in search problems?  \n",
            "Speaker 1: Precisely! Quantum walks power algorithms like Grover’s and even model complex quantum systems.\n"
          ]
        }
      ]
    },
    {
      "cell_type": "markdown",
      "source": [
        "###Generate Podcast Audio"
      ],
      "metadata": {
        "id": "gBYYACcMuFMX"
      }
    },
    {
      "cell_type": "code",
      "source": [
        "import fal_client\n",
        "\n",
        "def generate_podcast(topic):\n",
        "    print(f\"\\n🎙️ Generating podcast transcript about: {topic}\")\n",
        "    print(\"-\" * 50)\n",
        "\n",
        "    # Get transcript first using generate_podcast_transcript\n",
        "    transcript_result = generate_podcast_transcript(topic)\n",
        "\n",
        "    print(\"\\n✍️ Generated transcript:\")\n",
        "    print(\"-\" * 50)\n",
        "    print(transcript_result)\n",
        "\n",
        "    print(\"\\n🔊 Converting transcript to audio...\")\n",
        "    print(\"-\" * 50)\n",
        "\n",
        "    # Progress callback for fal-client\n",
        "    def on_queue_update(update):\n",
        "        if isinstance(update, fal_client.InProgress):\n",
        "            for log in update.logs:\n",
        "                print(f\"🎵 {log['message']}\")\n",
        "\n",
        "    # Generate audio using fal-client\n",
        "    try:\n",
        "        result = fal_client.subscribe(\n",
        "            \"fal-ai/playai/tts/dialog\",\n",
        "            {\n",
        "                \"input\": transcript_result,\n",
        "                \"voices\": [\n",
        "                    {\n",
        "                        \"voice\": \"Jennifer (English (US)/American)\",\n",
        "                        \"turn_prefix\": \"Speaker 1: \"\n",
        "                    },\n",
        "                    {\n",
        "                        \"voice\": \"Dexter (English (US)/American)\",\n",
        "                        \"turn_prefix\": \"Speaker 2: \"\n",
        "                    }\n",
        "                ]\n",
        "            },\n",
        "            with_logs=True,\n",
        "            on_queue_update=on_queue_update,\n",
        "        )\n",
        "\n",
        "        print(\"\\n✅ Audio generation complete!\")\n",
        "        print(f\"🔗 Audio URL: {result['audio']['url']}\")\n",
        "\n",
        "        return {\n",
        "            \"conversation\": transcript_result,\n",
        "            \"audio_url\": result['audio']['url']\n",
        "        }\n",
        "\n",
        "    except Exception as e:\n",
        "        print(f\"\\n❌ Error generating audio: {str(e)}\")\n",
        "        return {\n",
        "            \"conversation\": transcript_result,\n",
        "            \"audio_url\": None,\n",
        "            \"error\": str(e)\n",
        "        }"
      ],
      "metadata": {
        "id": "ocPp1ws8wU-9"
      },
      "execution_count": null,
      "outputs": []
    },
    {
      "cell_type": "markdown",
      "source": [
        "###Usage"
      ],
      "metadata": {
        "id": "heHxjokmuJow"
      }
    },
    {
      "cell_type": "code",
      "source": [
        "generate_podcast(\"Quantum Random Walks\")"
      ],
      "metadata": {
        "colab": {
          "base_uri": "https://localhost:8080/"
        },
        "id": "Q3k81CQJwYjU",
        "outputId": "01424a75-2497-4a07-a865-3811720511e5"
      },
      "execution_count": null,
      "outputs": [
        {
          "output_type": "stream",
          "name": "stdout",
          "text": [
            "\n",
            "🎙️ Generating podcast transcript about: Quantum Random Walks\n",
            "--------------------------------------------------\n",
            "\n",
            "✍️ Generated transcript:\n",
            "--------------------------------------------------\n",
            "Speaker 1: Have you heard about Quantum Random Walks? They’re fascinating!  \n",
            "Speaker 2: Yes! They’re like classical random walks but with quantum mechanics, right?  \n",
            "Speaker 1: Exactly! Instead of fixed steps, quantum particles explore multiple paths simultaneously.  \n",
            "Speaker 2: That’s superposition, isn’t it? How does it differ from classical paths?  \n",
            "Speaker 1: Classical walks spread linearly, but quantum walks spread quadratically due to interference.  \n",
            "Speaker 2: So they’re way more efficient for algorithms, like searching databases?  \n",
            "Speaker 1: Precisely! They’re revolutionizing fields like cryptography and optimization.\n",
            "\n",
            "🔊 Converting transcript to audio...\n",
            "--------------------------------------------------\n",
            "\n",
            "✅ Audio generation complete!\n",
            "🔗 Audio URL: https://v3.fal.media/files/tiger/3mTbTfo2ZuGgMr44aEym8_81e6dedd-4a07-4563-b758-fc0ff53cc1e5.mp3\n"
          ]
        },
        {
          "output_type": "execute_result",
          "data": {
            "text/plain": [
              "{'conversation': 'Speaker 1: Have you heard about Quantum Random Walks? They’re fascinating!  \\nSpeaker 2: Yes! They’re like classical random walks but with quantum mechanics, right?  \\nSpeaker 1: Exactly! Instead of fixed steps, quantum particles explore multiple paths simultaneously.  \\nSpeaker 2: That’s superposition, isn’t it? How does it differ from classical paths?  \\nSpeaker 1: Classical walks spread linearly, but quantum walks spread quadratically due to interference.  \\nSpeaker 2: So they’re way more efficient for algorithms, like searching databases?  \\nSpeaker 1: Precisely! They’re revolutionizing fields like cryptography and optimization.',\n",
              " 'audio_url': 'https://v3.fal.media/files/tiger/3mTbTfo2ZuGgMr44aEym8_81e6dedd-4a07-4563-b758-fc0ff53cc1e5.mp3'}"
            ]
          },
          "metadata": {},
          "execution_count": 9
        }
      ]
    }
  ]
}