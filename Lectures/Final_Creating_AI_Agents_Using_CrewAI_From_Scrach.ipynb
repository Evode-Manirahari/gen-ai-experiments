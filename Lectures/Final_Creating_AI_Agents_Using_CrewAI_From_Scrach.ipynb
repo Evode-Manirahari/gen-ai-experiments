{
  "nbformat": 4,
  "nbformat_minor": 0,
  "metadata": {
    "colab": {
      "provenance": []
    },
    "kernelspec": {
      "name": "python3",
      "display_name": "Python 3"
    },
    "language_info": {
      "name": "python"
    }
  },
  "cells": [
    {
      "cell_type": "markdown",
      "source": [
        "<img src=\"https://drive.google.com/uc?export=view&id=1wYSMgJtARFdvTt5g7E20mE4NmwUFUuog\" width=\"200\">\n",
        "\n",
        "[![Build Fast with AI](https://img.shields.io/badge/BuildFastWithAI-GenAI%20Bootcamp-blue?style=for-the-badge&logo=artificial-intelligence)](https://www.buildfastwithai.com/genai-course)\n",
        "[![EduChain GitHub](https://img.shields.io/github/stars/satvik314/educhain?style=for-the-badge&logo=github&color=gold)](https://github.com/satvik314/educhain)\n",
        "\n",
        "[![Open In Colab](https://colab.research.google.com/assets/colab-badge.svg)](https://colab.research.google.com/drive/1HeWOqDP4V8_NLlK4HmFmKuuPuuhJfkg8?usp=sharing)\n",
        "## Master Generative AI in 8 Weeks\n",
        "**What You'll Learn:**\n",
        "- Build with Latest LLMs\n",
        "- Create Custom AI Apps\n",
        "- Learn from Industry Experts\n",
        "- Join Innovation Community\n",
        "Transform your AI ideas into reality through hands-on projects and expert mentorship.\n",
        "[Start Your Journey](https://www.buildfastwithai.com/genai-course)\n",
        "*Empowering the Next Generation of AI Innovators"
      ],
      "metadata": {
        "id": "yeAZohjaxm5q"
      }
    },
    {
      "cell_type": "markdown",
      "source": [
        "#Step-by-Step Guide to Building AI Agents with CrewAI"
      ],
      "metadata": {
        "id": "3SywyCG8tLQe"
      }
    },
    {
      "cell_type": "markdown",
      "source": [
        "###Introduction\n",
        "This guide will help you create AI agents using CrewAI in Google Colab, even if you have no prior coding experience.\n",
        "\n",
        "Follow the steps carefully, and you will be able to define, customize, and run your own AI agents."
      ],
      "metadata": {
        "id": "svpBP5n1tUFT"
      }
    },
    {
      "cell_type": "markdown",
      "source": [
        "###Step 1: Install required libraries\n"
      ],
      "metadata": {
        "id": "mJprlsoLtY6p"
      }
    },
    {
      "cell_type": "code",
      "execution_count": null,
      "metadata": {
        "id": "VtS80tqZpabz"
      },
      "outputs": [],
      "source": [
        "# Install required libraries to use AI agents\n",
        "!pip install crewai langchain_openai 'crewai[tools]' google-search-results"
      ]
    },
    {
      "cell_type": "markdown",
      "source": [
        "###Step 2: Import Necessary Libraries & Configure API Keys"
      ],
      "metadata": {
        "id": "ngJQkUHgt0cI"
      }
    },
    {
      "cell_type": "markdown",
      "source": [
        "####Getting Your API Keys\n",
        "**Serper API Key**\n",
        "\n",
        "* Visit https://serper.dev/api-key\n",
        "* Sign up for an account or log in\n",
        "* Navigate to the API dashboard\n",
        "* Generate your API key\n",
        "* Copy the key and use in your Colab Notebook\n",
        "\n",
        "**Google Gemini API Key**\n",
        "\n",
        "* Visit https://aistudio.google.com/\n",
        " Sign in with your Google account\n",
        "* Navigate to \"Get API Keys\" in the settings menu\n",
        "* Click \"Create API Key\"\n",
        "* Copy your new API key And use in Colab Notebook\n"
      ],
      "metadata": {
        "id": "B4YmPVAxnXgX"
      }
    },
    {
      "cell_type": "markdown",
      "source": [
        "**How to Configure API Keys On Google Colab**\n",
        "* Click on the key icon in the left sidebar\n",
        "* Select \"Add new Secret\"\n",
        "* Add your API keys with appropriate names: GEMINI_API_KEY, SERPER_API_KEY\n"
      ],
      "metadata": {
        "id": "vPzTKlhFCm_f"
      }
    },
    {
      "cell_type": "code",
      "source": [
        "# Import CrewAI and other required libraries to use AI agents\n",
        "from crewai import Agent, Task, Crew, Process\n",
        "import os\n",
        "from google.colab import userdata\n",
        "\n",
        "os.environ[\"GEMINI_API_KEY\"] = userdata.get('GEMINI_API_KEY')\n",
        "os.environ[\"SERPER_API_KEY\"] = userdata.get('SERPER_API_KEY')\n",
        "# os.environ[\"OPENAI_API_KEY\"] = userdata.get('OPENAI_API_KEY') # You can use Openai api key to use Openai Models"
      ],
      "metadata": {
        "id": "TX9ztP_5t1Ex"
      },
      "execution_count": null,
      "outputs": []
    },
    {
      "cell_type": "markdown",
      "source": [
        "###Step 3: Define Your LLM Model"
      ],
      "metadata": {
        "id": "639Ut9I5t7lM"
      }
    },
    {
      "cell_type": "markdown",
      "source": [
        "* Select Your Primary LLM : Default is Gemini\n",
        "* Choose which AI models you want to power your agents:"
      ],
      "metadata": {
        "id": "9iPiyCN4zMfp"
      }
    },
    {
      "cell_type": "code",
      "source": [
        "from langchain_openai import ChatOpenAI\n",
        "from crewai import LLM\n",
        "\n",
        "Gemini = LLM(model=\"gemini/gemini-2.0-flash\")\n",
        "\n",
        "#gpt4o = ChatOpenAI(model=\"gpt-4o\")  # Use OpenAI's GPT-4 model if you have your api keys setup"
      ],
      "metadata": {
        "id": "EJ8Ld-zct8WP"
      },
      "execution_count": null,
      "outputs": []
    },
    {
      "cell_type": "markdown",
      "source": [
        "###Step 4: Initialize Tools"
      ],
      "metadata": {
        "id": "UOvRsXJWuMyC"
      }
    },
    {
      "cell_type": "markdown",
      "source": [
        "* Initialize Search and Scraping Tools\n",
        "\n",
        "* Tools give your agents capabilities to interact with the outside world:"
      ],
      "metadata": {
        "id": "3DByu-mzztQR"
      }
    },
    {
      "cell_type": "code",
      "source": [
        "from crewai_tools import SerperDevTool, ScrapeWebsiteTool\n",
        "\n",
        "search_tool = SerperDevTool()  # For web searches\n",
        "scrape_website_tool = ScrapeWebsiteTool()  # For scraping websites\n",
        "tools = [search_tool, scrape_website_tool]"
      ],
      "metadata": {
        "id": "srsX4rQhuNoy"
      },
      "execution_count": null,
      "outputs": []
    },
    {
      "cell_type": "markdown",
      "source": [
        "###Step 5: Defining Agents"
      ],
      "metadata": {
        "id": "I7cnX6Taumal"
      }
    },
    {
      "cell_type": "markdown",
      "source": [
        "Agents are the core workers in your AI team. Each agent should have:\n",
        "\n",
        "* A specific role\n",
        "* Clear goals\n",
        "* A compelling backstory to guide their behavior\n",
        "* Assigned tools and capabilities"
      ],
      "metadata": {
        "id": "RQvUjvTVz1vP"
      }
    },
    {
      "cell_type": "code",
      "source": [
        "def create_custom_crew(query_param1, query_param2):\n",
        "    \"\"\"\n",
        "    Creates and runs a crew with custom agents that work together\n",
        "    to accomplish specified tasks.\n",
        "\n",
        "    Args:\n",
        "        query_param1 (str): First custom parameter description\n",
        "        query_param2 (str): Second custom parameter description\n",
        "\n",
        "    Returns:\n",
        "        str: Result of the crew's work\n",
        "    \"\"\"\n",
        "    # ===============================================\n",
        "    # DEFINE YOUR AGENTS\n",
        "    # ===============================================\n",
        "\n",
        "    # First Agent Template\n",
        "    first_agent = Agent(\n",
        "        role=\"Enter agent role\",  # Example: \"Research Analyst\", \"Marketing Specialist\", etc.\n",
        "        goal=\"Enter agent goal\",  # Example: \"Find accurate information on specific topics\"\n",
        "        backstory=\"Enter agent backstory\",  # Example: \"Experienced researcher with a background in data analysis\"\n",
        "        verbose=True,  # Set to False in production for less output\n",
        "        tools=[search_tool],  # Add tools your agent needs\n",
        "        llm=Gemini  # Assign appropriate model\n",
        "    )\n",
        "\n",
        "    # Second Agent Template\n",
        "    second_agent = Agent(\n",
        "        role=\"Enter agent role\",  # Example: \"Content Creator\", \"Data Scientist\", etc.\n",
        "        goal=\"Enter agent goal\",  # Example: \"Create engaging content based on research findings\"\n",
        "        backstory=\"Enter agent backstory\",  # Example: \"Creative writer with 10 years experience in technical writing\"\n",
        "        verbose=True,\n",
        "        tools=[search_tool],  # Customize tools as needed\n",
        "        llm=Gemini\n",
        "    )\n",
        "\n",
        "# Add more agents as needed following the same patter"
      ],
      "metadata": {
        "id": "t9cSJuLZunNa"
      },
      "execution_count": null,
      "outputs": []
    },
    {
      "cell_type": "markdown",
      "source": [
        "###Step 6: Defining Tasks"
      ],
      "metadata": {
        "id": "-hKA85WLusf5"
      }
    },
    {
      "cell_type": "markdown",
      "source": [
        "Tasks define what each agent needs to accomplish. Be specific about:\n",
        "\n",
        "* The exact work required\n",
        "* The expected output format\n",
        "* Which agent is responsible\n",
        "* Whether human input is needed during execution"
      ],
      "metadata": {
        "id": "wk6ag6qwZ9pi"
      }
    },
    {
      "cell_type": "code",
      "source": [
        "# ===============================================\n",
        "# DEFINE YOUR TASKS\n",
        "# ===============================================\n",
        "\n",
        "# First Task Template\n",
        "first_task = Task(\n",
        "description=f\"Enter task description. Use parameters like {query_param1} where needed.\",\n",
        "expected_output=\"Describe what output should look like\",  # Example: \"A detailed report with key findings\"\n",
        "agent=first_agent,\n",
        "# Leave context empty for the first task: context=[]\n",
        ")\n",
        "\n",
        "# Second Task Template\n",
        "second_task = Task(\n",
        "description=f\"Enter task description. Reference parameter {query_param2} and possibly use results from previous tasks.\",\n",
        "expected_output=\"Describe what output should look like\",  # Example: \"A creative solution based on analysis\"\n",
        "agent=second_agent,\n",
        "context=[first_task]  # Add previous tasks that provide context\n",
        ")\n",
        "\n",
        "# Add more tasks as needed following the same pattern"
      ],
      "metadata": {
        "id": "IA6iRyDCutPA"
      },
      "execution_count": null,
      "outputs": []
    },
    {
      "cell_type": "markdown",
      "source": [
        "###Step 7: Creating Crew"
      ],
      "metadata": {
        "id": "5CyOTFleuwwD"
      }
    },
    {
      "cell_type": "markdown",
      "source": [
        "* The Crew organizes how your agents work together:\n"
      ],
      "metadata": {
        "id": "cZX1ZgWYaRvQ"
      }
    },
    {
      "cell_type": "code",
      "source": [
        "# CREATE AND RUN THE CREW\n",
        "    # ===============================================\n",
        "\n",
        "# Create Crew\n",
        "crew = Crew(\n",
        "agents=[first_agent, second_agent],  # Add all your agents here\n",
        "tasks=[first_task, second_task],  # Add all your tasks here\n",
        "verbose=True,  # Set to False in production\n",
        "process=Process.sequential  # Or Process.hierarchical based on your needs\n",
        ")\n",
        "\n",
        "# Run Crew\n",
        "result = crew.kickoff(inputs={\n",
        "\"param1\": query_param1,\n",
        "\"param2\": query_param2\n",
        "# Add more parameters as needed\n",
        "})\n",
        "\n",
        "return result"
      ],
      "metadata": {
        "id": "sUbFNghQuxYt"
      },
      "execution_count": null,
      "outputs": []
    },
    {
      "cell_type": "markdown",
      "source": [
        "### Execute the crew\n"
      ],
      "metadata": {
        "id": "uOOd25Ixyzuf"
      }
    },
    {
      "cell_type": "code",
      "source": [
        "print(\"Custom Crew Execution\")\n",
        "print(\"=====================\")\n",
        "\n",
        "# Get user inputs\n",
        "param1 = input(\"Enter first parameter: \")\n",
        "param2 = input(\"Enter second parameter: \")\n",
        "\n",
        "print(\"\\nExecuting your custom crew...\\n\")\n",
        "result = create_custom_crew(param1, param2)\n",
        "\n",
        "print(\"Crew Execution Result:\")\n",
        "print(\"=====================\")\n",
        "print(result)"
      ],
      "metadata": {
        "id": "wtsxeDLmH5sX"
      },
      "execution_count": null,
      "outputs": []
    },
    {
      "cell_type": "markdown",
      "source": [
        "\n",
        "\n",
        "---\n",
        "\n"
      ],
      "metadata": {
        "id": "Z0J5z9XWiNFQ"
      }
    },
    {
      "cell_type": "markdown",
      "source": [
        "##Recipe Generator Agent Example\n"
      ],
      "metadata": {
        "id": "3Pd6M9qtH6m9"
      }
    },
    {
      "cell_type": "markdown",
      "source": [
        "###Step 1: Import Required Libraries & API Keys\n"
      ],
      "metadata": {
        "id": "2NwVhHIAIC3n"
      }
    },
    {
      "cell_type": "code",
      "source": [
        "from crewai import Agent, Task, Crew, Process\n",
        "from crewai_tools import SerperDevTool\n",
        "from langchain_openai import ChatOpenAI\n",
        "from crewai import LLM\n",
        "import os\n",
        "from google.colab import userdata\n",
        "\n",
        "# os.environ[\"OPENAI_API_KEY\"] = userdata.get('OPENAI_API_KEY') # You can use Openai api key to use Openai Models\n",
        "os.environ[\"GEMINI_API_KEY\"] = userdata.get('GEMINI_API_KEY')\n",
        "os.environ[\"SERPER_API_KEY\"] = userdata.get('SERPER_API_KEY')"
      ],
      "metadata": {
        "id": "rx0n-gOoH-nv"
      },
      "execution_count": null,
      "outputs": []
    },
    {
      "cell_type": "markdown",
      "source": [
        "###Step 2: Initialize Models and Tools\n"
      ],
      "metadata": {
        "id": "hUaPzXo_IIXM"
      }
    },
    {
      "cell_type": "code",
      "source": [
        "# Initialize models\n",
        "Gemini = LLM(model=\"gemini/gemini-2.0-flash\")\n",
        "# gpt4o = ChatOpenAI(model=\"gpt-4o\")\n",
        "\n",
        "# Initialize tools\n",
        "search_tool = SerperDevTool()"
      ],
      "metadata": {
        "id": "i2JfwVwSIJJh"
      },
      "execution_count": null,
      "outputs": []
    },
    {
      "cell_type": "markdown",
      "source": [
        "###Step 3: Create the Main Function\n"
      ],
      "metadata": {
        "id": "cDnh8YjCINke"
      }
    },
    {
      "cell_type": "code",
      "source": [
        "def create_recipe_crew(ingredients, dietary_restrictions):\n",
        "    \"\"\"\n",
        "    Creates and runs a crew with Recipe Generator and Nutritionist agents\n",
        "    to create recipes based on available ingredients and dietary restrictions.\n",
        "\n",
        "    Args:\n",
        "        ingredients (str): List of available ingredients\n",
        "        dietary_restrictions (str): Any dietary restrictions or preferences\n",
        "\n",
        "    Returns:\n",
        "        str: A recipe recommendation with nutritional analysis\n",
        "    \"\"\"\n",
        "    # Define the Recipe Generator Agent\n",
        "    recipe_agent = Agent(\n",
        "        role=\"Recipe Chef\",\n",
        "        goal=\"Create delicious recipes using available ingredients\",\n",
        "        backstory=\"Culinary expert creating dishes with limited ingredients\",\n",
        "        verbose=True,\n",
        "        tools=[search_tool],\n",
        "        llm=Gemini\n",
        "    )\n",
        "\n",
        "    # Define the Nutritionist Agent\n",
        "    nutritionist_agent = Agent(\n",
        "        role=\"Culinary Nutritionist\",\n",
        "        goal=\"Provide nutritional analysis for recipes\",\n",
        "        backstory=\"Dietitian specializing in balanced meals\",\n",
        "        verbose=True,\n",
        "        tools=[search_tool],\n",
        "        llm=Gemini\n",
        "    )\n",
        "\n",
        "    # Define the Recipe Creation Task\n",
        "    recipe_task = Task(\n",
        "        description=f\"Create a recipe using: {ingredients}. Respect dietary restrictions: {dietary_restrictions}.\",\n",
        "        expected_output=\"Complete recipe with ingredients and instructions.\",\n",
        "        agent=recipe_agent\n",
        "    )\n",
        "\n",
        "    # Define the Nutritional Analysis Task\n",
        "    nutrition_task = Task(\n",
        "        description=f\"Analyze nutritional content of the recipe. Consider restrictions: {dietary_restrictions}.\",\n",
        "        expected_output=\"Nutritional breakdown with optimization suggestions.\",\n",
        "        agent=nutritionist_agent,\n",
        "        context=[recipe_task]\n",
        "    )\n",
        "\n",
        "    # Create and Run the Crew\n",
        "    crew = Crew(\n",
        "        agents=[recipe_agent, nutritionist_agent],\n",
        "        tasks=[recipe_task, nutrition_task],\n",
        "        verbose=True,\n",
        "        process=Process.sequential\n",
        "    )\n",
        "\n",
        "    result = crew.kickoff(inputs={\n",
        "        \"ingredients\": ingredients,\n",
        "        \"dietary_restrictions\": dietary_restrictions\n",
        "    })\n",
        "    return result"
      ],
      "metadata": {
        "id": "DQGbN-dFIOMn"
      },
      "execution_count": null,
      "outputs": []
    },
    {
      "cell_type": "markdown",
      "source": [
        "###Step 4: Add User Interaction Logic\n"
      ],
      "metadata": {
        "id": "P1psWKH7IYVm"
      }
    },
    {
      "cell_type": "code",
      "source": [
        "print(\"Recipe Generator\")\n",
        "print(\"===============\")\n",
        "\n",
        "ingredients = input(\"Enter available ingredients (comma separated): \")\n",
        "dietary_restrictions = input(\"Enter any dietary restrictions: \")\n",
        "\n",
        "print(\"\\nGenerating your recipe...\\n\")\n",
        "recipe_result = create_recipe_crew(ingredients, dietary_restrictions)\n",
        "\n",
        "print(\"Your Recipe with Nutritional Analysis:\")\n",
        "print(\"====================================\")\n",
        "print(recipe_result)"
      ],
      "metadata": {
        "id": "BZvBmDTCIZC9"
      },
      "execution_count": null,
      "outputs": []
    }
  ]
}