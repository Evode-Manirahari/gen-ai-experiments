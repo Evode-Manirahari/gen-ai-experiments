{
  "nbformat": 4,
  "nbformat_minor": 0,
  "metadata": {
    "colab": {
      "provenance": []
    },
    "kernelspec": {
      "name": "python3",
      "display_name": "Python 3"
    },
    "language_info": {
      "name": "python"
    }
  },
  "cells": [
    {
      "cell_type": "markdown",
      "source": [
        "<img src=\"https://drive.google.com/uc?export=view&id=1wYSMgJtARFdvTt5g7E20mE4NmwUFUuog\" width=\"200\">\n",
        "\n",
        "[![Build Fast with AI](https://img.shields.io/badge/BuildFastWithAI-GenAI%20Bootcamp-blue?style=for-the-badge&logo=artificial-intelligence)](https://www.buildfastwithai.com/genai-course)\n",
        "[![EduChain GitHub](https://img.shields.io/github/stars/satvik314/educhain?style=for-the-badge&logo=github&color=gold)](https://github.com/satvik314/educhain)\n",
        "\n",
        "[![Open In Colab](https://colab.research.google.com/assets/colab-badge.svg)](https://colab.research.google.com/drive/1JeQmZWZoWCrmQQg5-8FFQtAvYNvFQKuU?usp=sharing)\n",
        "## Master Generative AI in 8 Weeks\n",
        "**What You'll Learn:**\n",
        "- Build with Latest LLMs\n",
        "- Create Custom AI Apps\n",
        "- Learn from Industry Experts\n",
        "- Join Innovation Community\n",
        "Transform your AI ideas into reality through hands-on projects and expert mentorship.\n",
        "[Start Your Journey](https://www.buildfastwithai.com/genai-course)\n",
        "*Empowering the Next Generation of AI Innovators"
      ],
      "metadata": {
        "id": "2GVn7IjYw64D"
      }
    },
    {
      "cell_type": "markdown",
      "source": [
        "##Step-by-Step Guide to Building AI Agent Teams with CrewAI\n"
      ],
      "metadata": {
        "id": "wd0NBUxQuO1B"
      }
    },
    {
      "cell_type": "markdown",
      "source": [
        "###Introduction\n",
        "CrewAI is a powerful framework that allows you to create, coordinate and deploy teams of AI agents that work together to accomplish complex tasks. This guide will walk you through the process of creating your own AI agent teams, even if you have minimal coding experience."
      ],
      "metadata": {
        "id": "9xmXLD-cuRGq"
      }
    },
    {
      "cell_type": "markdown",
      "source": [
        "###install Required Libraries"
      ],
      "metadata": {
        "id": "0hCUOI1-J2Zd"
      }
    },
    {
      "cell_type": "code",
      "source": [
        "!pip install -qU crewai langchain_openai 'crewai[tools]' google-search-results"
      ],
      "metadata": {
        "id": "hHeuSCq_uVy2"
      },
      "execution_count": null,
      "outputs": []
    },
    {
      "cell_type": "markdown",
      "source": [
        "###Getting Your API Keys\n",
        "**Serper API Key**\n",
        "\n",
        "* Visit https://serper.dev/api-key\n",
        "* Sign up for an account or log in\n",
        "* Navigate to the API dashboard\n",
        "* Generate your API key\n",
        "* Copy the key and use in your Colab Notebook\n",
        "\n",
        "**Google Gemini API Key**\n",
        "\n",
        "* Visit https://aistudio.google.com/\n",
        " Sign in with your Google account\n",
        "* Navigate to \"API Keys\" in the settings menu\n",
        "* Click \"Create API Key\"\n",
        "* Copy your new API key And use in Colab Notebook\n"
      ],
      "metadata": {
        "id": "wdVKINDtL1Ls"
      }
    },
    {
      "cell_type": "code",
      "source": [
        "import os\n",
        "from google.colab import userdata\n",
        "# os.environ[\"OPENAI_API_KEY\"] = userdata.get('OPENAI_API_KEY')\n",
        "os.environ[\"GEMINI_API_KEY\"] = userdata.get('GEMINI_API_KEY')\n",
        "os.environ[\"SERPER_API_KEY\"] = userdata.get('SERPER_API_KEY')"
      ],
      "metadata": {
        "id": "46WooK1suaPQ"
      },
      "execution_count": null,
      "outputs": []
    },
    {
      "cell_type": "markdown",
      "source": [
        "###Initialize Models"
      ],
      "metadata": {
        "id": "IfLfg_dtKBFB"
      }
    },
    {
      "cell_type": "code",
      "source": [
        "from langchain_openai import ChatOpenAI\n",
        "from crewai import LLM\n",
        "\n",
        "Gemini = LLM(\n",
        "    model=\"gemini/gemini-2.0-flash\",)\n",
        "\n",
        "\n",
        "#gpt4o = ChatOpenAI(model = \"gpt-4o\")"
      ],
      "metadata": {
        "id": "whOXjfQRueMV"
      },
      "execution_count": null,
      "outputs": []
    },
    {
      "cell_type": "markdown",
      "source": [
        "### Stock Market Agent 🧳\n"
      ],
      "metadata": {
        "id": "OGO9Gr0mAJpu"
      }
    },
    {
      "cell_type": "code",
      "source": [
        "from crewai import Agent, Task, Crew, Process\n",
        "from crewai_tools import SerperDevTool\n",
        "\n",
        "# Initialize tools\n",
        "search_tool = SerperDevTool()\n",
        "\n",
        "def create_stock_market_agent(stock_symbol):\n",
        "    # Define the Stock Market Agent\n",
        "    stock_agent = Agent(\n",
        "        role=\"Financial Analyst\",\n",
        "        goal=f\"Analyze the stock market for {stock_symbol}\",\n",
        "        backstory=\"A financial expert trained to analyze markets and provide actionable investment insights\",\n",
        "        verbose=True,\n",
        "        tools=[search_tool],\n",
        "        llm=Gemini\n",
        "    )\n",
        "\n",
        "    # Define the Market Trend Analyst\n",
        "    trend_analyst = Agent(\n",
        "        role=\"Market Trend Analyst\",\n",
        "        goal=f\"Analyze broader market trends affecting {stock_symbol}\",\n",
        "        backstory=\"A seasoned market analyst specializing in sector analysis, market trends, and competitive landscape evaluation\",\n",
        "        verbose=True,\n",
        "        tools=[search_tool],\n",
        "        llm=Gemini\n",
        "    )\n",
        "\n",
        "    # Define the Stock Analysis Task\n",
        "    stock_task = Task(\n",
        "        description=f\"Analyze the performance and trends of {stock_symbol} and provide investment recommendations\",\n",
        "        expected_output=f\"A detailed analysis of {stock_symbol} including trends, risks, and recommendations.\",\n",
        "        agent=stock_agent\n",
        "    )\n",
        "\n",
        "    # Define the Market Analysis Task\n",
        "    market_task = Task(\n",
        "        description=f\"Analyze sector trends, market conditions, and competitive landscape affecting {stock_symbol}. Include macroeconomic factors and sector-specific catalysts.\",\n",
        "        expected_output=f\"A comprehensive market analysis including sector trends, competitive position, and market factors affecting {stock_symbol}.\",\n",
        "        agent=trend_analyst\n",
        "    )\n",
        "\n",
        "    # Create and Run the Crew\n",
        "    crew = Crew(\n",
        "        agents=[stock_agent, trend_analyst],\n",
        "        tasks=[stock_task, market_task],\n",
        "        verbose=True,\n",
        "        process=Process.sequential\n",
        "    )\n",
        "\n",
        "    result = crew.kickoff(inputs={\"stock_symbol\": stock_symbol})\n",
        "    return result"
      ],
      "metadata": {
        "id": "Zm9_pd42ujm9"
      },
      "execution_count": null,
      "outputs": []
    },
    {
      "cell_type": "markdown",
      "source": [
        "### Execute the agent\n"
      ],
      "metadata": {
        "id": "dn-xzy89utDY"
      }
    },
    {
      "cell_type": "code",
      "source": [
        "stock_symbol = input(\"Enter the stock symbol (e.g., AAPL, TSLA): \")\n",
        "stock_result = create_stock_market_agent(stock_symbol)\n",
        "print(\"Stock Market Analysis:\")\n",
        "print(stock_result)"
      ],
      "metadata": {
        "id": "CsM7G9QXunWB"
      },
      "execution_count": null,
      "outputs": []
    }
  ]
}