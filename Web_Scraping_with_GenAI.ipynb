{
  "nbformat": 4,
  "nbformat_minor": 0,
  "metadata": {
    "colab": {
      "provenance": [],
      "collapsed_sections": [
        "KtN--QWPfSys",
        "0SQ3hkVPf4rl",
        "9xxd1lL9ibPh",
        "-Z6r3PZJiabU",
        "UZccQRVrf9i4",
        "kwncx616rsdN"
      ]
    },
    "kernelspec": {
      "name": "python3",
      "display_name": "Python 3"
    },
    "language_info": {
      "name": "python"
    }
  },
  "cells": [
    {
      "cell_type": "markdown",
      "source": [
        "# Web Scraping with AI\n",
        "\n",
        "Scraping websites using Generative AI"
      ],
      "metadata": {
        "id": "It6nvg7LfPgw"
      }
    },
    {
      "cell_type": "code",
      "source": [
        "%%capture\n",
        "!pip install scrapegraphai --upgrade\n",
        "!apt install chromium-chromedriver\n",
        "!pip install nest_asyncio\n",
        "!pip install playwright\n",
        "!playwright install"
      ],
      "metadata": {
        "id": "jNsrDE86iijC"
      },
      "execution_count": 1,
      "outputs": []
    },
    {
      "cell_type": "code",
      "source": [
        "import nest_asyncio\n",
        "nest_asyncio.apply()"
      ],
      "metadata": {
        "id": "1qlceB-VimJf"
      },
      "execution_count": 2,
      "outputs": []
    },
    {
      "cell_type": "code",
      "source": [
        "from google.colab import userdata\n",
        "\n",
        "graph_config_openai = {\n",
        "    \"llm\": {\n",
        "        \"api_key\": userdata.get('OPENAI_API_KEY'),\n",
        "        \"model\": \"gpt-3.5-turbo\",\n",
        "        \"temperature\":0,\n",
        "    },\n",
        "    \"verbose\":True,\n",
        "}"
      ],
      "metadata": {
        "id": "bQHTxBpBintQ"
      },
      "execution_count": 3,
      "outputs": []
    },
    {
      "cell_type": "code",
      "source": [
        "from scrapegraphai.graphs import SmartScraperGraph\n",
        "\n",
        "smart_scraper_graph = SmartScraperGraph(\n",
        "    prompt=\"List all courses and their description.\",\n",
        "    source=\"https://buildfastwithai.com/courses\",\n",
        "    config=graph_config_openai\n",
        ")\n",
        "\n",
        "result = smart_scraper_graph.run()"
      ],
      "metadata": {
        "colab": {
          "base_uri": "https://localhost:8080/"
        },
        "id": "yZjZ_nsxisqz",
        "outputId": "0a21ce7b-5469-4edf-f052-f7dfc1ef023b"
      },
      "execution_count": 11,
      "outputs": [
        {
          "output_type": "stream",
          "name": "stderr",
          "text": [
            "--- Executing Fetch Node ---\n",
            "--- (Fetching HTML from: https://buildfastwithai.com/courses) ---\n",
            "--- Executing Parse Node ---\n",
            "--- Executing RAG Node ---\n",
            "--- (updated chunks metadata) ---\n",
            "--- (tokens compressed and vector stored) ---\n",
            "--- Executing GenerateAnswer Node ---\n",
            "Processing chunks: 100%|██████████| 1/1 [00:47<00:00, 47.80s/it]\n"
          ]
        }
      ]
    },
    {
      "cell_type": "code",
      "source": [
        "import json\n",
        "\n",
        "print(json.dumps(result,indent=2))"
      ],
      "metadata": {
        "colab": {
          "base_uri": "https://localhost:8080/"
        },
        "id": "eGGPbUPDiviQ",
        "outputId": "b38a9719-6780-4398-bfa1-9cc135e33de0"
      },
      "execution_count": 12,
      "outputs": [
        {
          "output_type": "stream",
          "name": "stdout",
          "text": [
            "{\n",
            "  \"courses\": [\n",
            "    {\n",
            "      \"title\": \"Function Calling with LLM\",\n",
            "      \"description\": \"This comprehensive session delves into the fascinating world of Large Language Models (LLMs) and their remarkable ability to invoke functions. Whether you're an experienced developer or just beginning your exploration of Generative AI, this event promises an engaging and informative experience. The session will dive into the intricacies of function calls, covering syntax, argument passing, and return value handling, laying the foundation for live coding demonstrations.\"\n",
            "    },\n",
            "    {\n",
            "      \"title\": \"GPT-4o: Deep Dive\",\n",
            "      \"description\": \"In this course, you will get to know about: - Introduction to GPT-4o - Gain a comprehensive understanding of GPT-4o's capabilities, key features, and the innovative technology behind its development. - Utilizing GPT-4o with APIs - Learn how to effectively integrate GPT-4o's features into your projects using APIs, opening up new possibilities for your applications. - Exploring GPT-4o's Vision Capabilities - Discover GPT-4o's impressive vision capabilities and how it seamlessly combines visual processing with natural language understanding. - Building AI Applications with GPT-4o\"\n",
            "    },\n",
            "    {\n",
            "      \"title\": \"10x Developer Productivity with AI\",\n",
            "      \"description\": \"Agenda: AI Tools for Developers: Discover the top AI tools for developers that can streamline tasks, improve efficiency, and enhance overall productivity. Using AI for Code Generation and Completion: Learn how AI-powered code generation and completion tools can accelerate the coding process, reduce errors, and improve code quality. Using Open Source Models in Your IDE for Free: Explore the world of open-source AI models that can be integrated into your IDE for free, and learn how to leverage them to boost your productivity. Best Practices When Coding with AI: Get expert insights on the best practices to follow when coding with AI, including how to choose the right AI tools, how to train AI models, and how to ensure seamless integration with existing development processes.\"\n",
            "    },\n",
            "    {\n",
            "      \"title\": \"Llama 3 - Deep Dive\",\n",
            "      \"description\": \"In this immersive course, our expert panel will guide you through: The Fascinating Story Behind Llama Models Discover the evolution and key milestones that led to the development of Llama 3. Unraveling the Secrets of Llama 3 Architecture Dive deep into the architectural intricacies that make Llama 3 a powerhouse in natural language processing. Unleashing the Potential of Llama 3 with APIs Master the art of harnessing Llama 3's capabilities through APIs and unlock a world of possibilities. Building Groundbreaking AI Apps with Llama 3.\"\n",
            "    },\n",
            "    {\n",
            "      \"title\": \"How to fine-tune a LLM?\",\n",
            "      \"description\": \"This interactive session is designed for both beginners and experienced professionals who are eager to enhance their understanding of fine-tuning in AI. - Basics of Fine-tuning: Learn the fundamentals of fine-tuning and its importance in AI applications. - Interactive, step-by-step tutorial on fine-tuning the GPT-3.5 model: Engage in a hands-on experience that guides you through fine-tuning the GPT-3.5 model. - Finetuning open source LLMs: Explore the potential of finetuning other open source large language models (LLMs). - Q&A; and Open Discussion: Engage in a lively exchange of ideas and insights with fellow attendees and our expert panellists.\"\n",
            "    },\n",
            "    {\n",
            "      \"title\": \"Build AI Apps with Google AI Studio\",\n",
            "      \"description\": \"Google AI Studio is an amazing web-based editor for creating AI applications with no code! With an intuitive web interface, anyone can start developing AI projects right away. There's no need to be an expert coder. Google AI Studio lets you quickly prototype and experiment with AI capabilities through a simple no-code workflow. What will you learn? In the course, you will acquire knowledge on the following topics: Working with Gemini Models: Experiment with the latest Gemini Pro and Gemini Pro Vision models from Google Deepmind. Creating Custom Prompts: Discover how to create custom prompts using AI Studio for specific tasks and requirements. Exporting Your App to Code: Acquire knowledge on exporting your app created in AI Studio to code for further integration and deployment.\"\n",
            "    },\n",
            "    {\n",
            "      \"title\": \"Build ChatGPT replica in 1 hour!\",\n",
            "      \"description\": \"Throughout the session, you will gain practical knowledge and hands-on experience with the following topics: - Introduction to Langchain: Familiarize yourself with the powerful combination of Python, Langchain, and Streamlit, which forms the foundation of building your ChatGPT replica. - Interactive, step-by-step live tutorial: Dive into an engaging hands-on tutorial where you'll build your very own ChatGPT replica from scratch. We will guide you through each step, ensuring you grasp the concepts and techniques involved. - Q&A; and Open Discussion: Engage in an interactive Q&A; session and open discussion where you can ask questions, share insights, and network with fellow AI enthusiasts from around the globe. By the end of this workshop, you'll have a solid understanding of the technologies behind ChatGPT and the practical skills to create your own powerful AI chatbot. You'll be equipped with the knowledge to leverage Python, Langchain, and Streamlit to build cutting-edge conversational AI applications.\"\n",
            "    },\n",
            "    {\n",
            "      \"title\": \"Mastering Audio Models and Voice Cloning with AI\",\n",
            "      \"description\": \"Whether you're a developer looking to enhance your skills or an enthusiast eager to explore the latest AI technologies, this workshop is tailored to provide an immersive learning experience for all. What Will You Learn? Understanding Audio Models: - Dive deep into the workings of audio models and discover how they revolutionize the way we process and generate audio data. - Text-to-Speech with ElevenLabs API: Learn how to harness the power of the ElevenLabs API to create realistic text-to-speech outputs in various languages, including English and Hindi. - Audio Transcription using Whisper Model: Explore the capabilities of the Whisper model and learn how to efficiently transcribe audio files into text for various applications. - Voice Cloning Made Easy: Get hands-on experience with voice cloning techniques and discover how to create a digital replica of your own voice using cutting-edge AI algorithms. By the end of this workshop, you'll have a solid understanding of audio models and the practical skills to implement them in your own projects. You'll be able to create compelling text-to-speech outputs, transcribe audio with ease, and even clone your own voice for various applications.\"\n",
            "    },\n",
            "    {\n",
            "      \"title\": \"Build Your First AI App\",\n",
            "      \"description\": \"In this course, we are going to explore the basics of building apps using LLMs, go over the fundamentals of creating apps with LLMs, and guide you through the development of a live mini-app. we'll have the following agenda: 1. Introduction to the 'Build Fast with AI' community (5 min) 2. Basics of building apps with LLMs (10 min) 3. Live creation of a mini-app using Langchain (30 min) 4. Q&A; session and general discussion to clarify doubts and exchange ideas (15 min)\"\n",
            "    },\n",
            "    {\n",
            "      \"title\": \"AI & Cybersecurity: Opportunities and Challenges\",\n",
            "      \"description\": \"Join our interactive workshop on 'AI and Cybersecurity,' where we'll delve into the fascinating intersection of artificial intelligence and cybersecurity. This engaging learning opportunity is suitable for both beginners and seasoned professionals in the field. What will you learn? In the course of the session, you will acquire knowledge on the following topics: Impact of AI on Cybersecurity: Explore the transformative role of AI in enhancing cybersecurity measures and its potential to revolutionize threat detection and response. Issues with LLMs (Prompt Injection, Data Poisoning): Discover the vulnerabilities associated with large language models, such as prompt injection and data poisoning, and learn how to mitigate these risks. Securing LLMs in Production: Acquire practical knowledge on implementing robust security measures for large language models in production environments After this workshop, you'll have a better understanding of how AI is a double-edged sword for cybersecurity. With the right controls and oversight, AI can significantly enhance security; but it also introduces new risks that must be managed.\"\n",
            "    },\n",
            "    {\n",
            "      \"title\": \"Build a Personal Assistant with AI\",\n",
            "      \"description\": \"In this course, you will acquire knowledge on the following topics: How AI Agents Work: Understand the basics of how AI agents function and how to build them. Autogen by Microsoft: Learn about Autogen, the most popular AI agent framework. Create a Personal Research Assistant: Build an AI assistant that can conduct research for you and write blogs. After this workshop, you'll be able to start building AI agents right away. It's a great way to prototype and test AI capabilities with low code.\"\n",
            "    },\n",
            "    {\n",
            "      \"title\": \"Build AI Apps with Google AI Studio! (No-code)\",\n",
            "      \"description\": \"The inception of 'Built Fast Today' and its focus on consulting startups on AI development; an upcoming course on generative AI; understanding Google's role in generative AI; introduction to Google AI Studio; construction of two apps; creating a shareable chatboard; Google's progress in generative AI; launch of Bard chatbot platform; Gemini models; Google Aa studio; developing a system that generates a four-week study plan; tool for generating responses; use of Google's AI studio to generate code for applications; potential of Google Layer Studio for validation and output validation loops; development of a personalized mental health chatbot using AI Studio; creation and application of a chatbot tool; newly released Hugging Face tool and the upcoming Generative A course; and the registration process for the course.\"\n",
            "    },\n",
            "    {\n",
            "      \"title\": \"Crash Course on Building RAG Applications\",\n",
            "      \"description\": \"Want to build customized chatbots on your data but don't know where to start? 'Build RAG Applications' is a 1-hour crash course geared towards helping you build chatbots on your data (like PDF, text files, and so on). The best part is no coding experience is required. A basic understanding of programming principles will do the job. What will you learn? In the course of the session, you will acquire knowledge on the following topics: 1. Chat with PDF or any data source 2. Developing AI bots swiftly using Embedchain 3. Basics of Vector Databases 4. Deploying Chatbot with a single click\"\n",
            "    },\n",
            "    {\n",
            "      \"title\": \"GenAI Rewind \\u23ea and 2024 Forecast\",\n",
            "      \"description\": \"\\u200b2023 has been a phenomenal year for AI overall and GenAI in particular. If it all seemed a little too much to keep track of, no worries, in this session we will highlight the key developments that you need to know to understand GenAI fundamentals and build intuition on how it is progressing. We will also share predictions on what could happen in the AI landscape in 2024, and what you can do to make the most of GenAI in the coming year.\"\n",
            "    },\n",
            "    {\n",
            "      \"title\": \"Fine-tuning Llama and Mistral Models\",\n",
            "      \"description\": \"Introduced the use of large language models (LLMs) such as 7B and 13B in various use cases and discussed the growth in the generative AI space. This course emphasized the importance of considering LLM as a series of numbers or matrices during fine-tuning and highlighted the capabilities of Chat GPT. Also discusses the cost-effectiveness of fine-tuning a model, the fine-tuning process using a library called an auto train, and the resources required for fine-tuning on Google Colab. And announced an upcoming offline boot camp covering the basics of generative AI and Python.\"\n",
            "    },\n",
            "    {\n",
            "      \"title\": \"Building AI Agents 101\",\n",
            "      \"description\": \"In this lecture, we will dive into the world of AI Agents. We will understand the basics of how AI agents work and build some cool applications using them.\"\n",
            "    },\n",
            "    {\n",
            "      \"title\": \"Intro to Langchain\",\n",
            "      \"description\": \"A langchain is not a recognized term or concept in the English language as of my last knowledge update in September 2021. If it's a newly coined term or a niche term, you may need to provide more context or information for a definition.\"\n",
            "    },\n",
            "    {\n",
            "      \"title\": \"No-Code AI App development\",\n",
            "      \"description\": \"No-code AI app development refers to the process of creating artificial intelligence-powered applications without requiring extensive programming knowledge, often using visual interfaces and pre-built AI components.\"\n",
            "    },\n",
            "    {\n",
            "      \"title\": \"Build ChatGPT Replica in 1 hour\",\n",
            "      \"description\": \"This lecture will teach you how to build a replica of ChatGPT using Python, Langchain and Streamlit.\"\n",
            "    }\n",
            "  ]\n",
            "}\n"
          ]
        }
      ]
    },
    {
      "cell_type": "code",
      "source": [],
      "metadata": {
        "id": "TqbUrxoCRtZC"
      },
      "execution_count": null,
      "outputs": []
    }
  ]
}