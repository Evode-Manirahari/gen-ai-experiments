{
  "nbformat": 4,
  "nbformat_minor": 0,
  "metadata": {
    "colab": {
      "provenance": []
    },
    "kernelspec": {
      "name": "python3",
      "display_name": "Python 3"
    },
    "language_info": {
      "name": "python"
    }
  },
  "cells": [
    {
      "cell_type": "code",
      "execution_count": null,
      "metadata": {
        "colab": {
          "base_uri": "https://localhost:8080/"
        },
        "id": "uAdxI4RegPUN",
        "outputId": "6f3d361f-03ea-44e1-ae16-ac52bd64ad00"
      },
      "outputs": [
        {
          "output_type": "stream",
          "name": "stdout",
          "text": [
            "\u001b[2K     \u001b[90m━━━━━━━━━━━━━━━━━━━━━━━━━━━━━━━━━━━━━━━━\u001b[0m \u001b[32m973.5/973.5 kB\u001b[0m \u001b[31m8.0 MB/s\u001b[0m eta \u001b[36m0:00:00\u001b[0m\n",
            "\u001b[2K     \u001b[90m━━━━━━━━━━━━━━━━━━━━━━━━━━━━━━━━━━━━━━━━\u001b[0m \u001b[32m2.1/2.1 MB\u001b[0m \u001b[31m38.1 MB/s\u001b[0m eta \u001b[36m0:00:00\u001b[0m\n",
            "\u001b[2K     \u001b[90m━━━━━━━━━━━━━━━━━━━━━━━━━━━━━━━━━━━━━━━━\u001b[0m \u001b[32m320.6/320.6 kB\u001b[0m \u001b[31m16.2 MB/s\u001b[0m eta \u001b[36m0:00:00\u001b[0m\n",
            "\u001b[2K     \u001b[90m━━━━━━━━━━━━━━━━━━━━━━━━━━━━━━━━━━━━━━━━\u001b[0m \u001b[32m1.9/1.9 MB\u001b[0m \u001b[31m30.3 MB/s\u001b[0m eta \u001b[36m0:00:00\u001b[0m\n",
            "\u001b[2K     \u001b[90m━━━━━━━━━━━━━━━━━━━━━━━━━━━━━━━━━━━━━━━━\u001b[0m \u001b[32m308.5/308.5 kB\u001b[0m \u001b[31m11.7 MB/s\u001b[0m eta \u001b[36m0:00:00\u001b[0m\n",
            "\u001b[2K     \u001b[90m━━━━━━━━━━━━━━━━━━━━━━━━━━━━━━━━━━━━━━━━\u001b[0m \u001b[32m122.8/122.8 kB\u001b[0m \u001b[31m7.6 MB/s\u001b[0m eta \u001b[36m0:00:00\u001b[0m\n",
            "\u001b[2K     \u001b[90m━━━━━━━━━━━━━━━━━━━━━━━━━━━━━━━━━━━━━━━━\u001b[0m \u001b[32m1.1/1.1 MB\u001b[0m \u001b[31m39.5 MB/s\u001b[0m eta \u001b[36m0:00:00\u001b[0m\n",
            "\u001b[2K     \u001b[90m━━━━━━━━━━━━━━━━━━━━━━━━━━━━━━━━━━━━━━━━\u001b[0m \u001b[32m75.6/75.6 kB\u001b[0m \u001b[31m3.8 MB/s\u001b[0m eta \u001b[36m0:00:00\u001b[0m\n",
            "\u001b[2K     \u001b[90m━━━━━━━━━━━━━━━━━━━━━━━━━━━━━━━━━━━━━━━━\u001b[0m \u001b[32m49.3/49.3 kB\u001b[0m \u001b[31m2.7 MB/s\u001b[0m eta \u001b[36m0:00:00\u001b[0m\n",
            "\u001b[2K     \u001b[90m━━━━━━━━━━━━━━━━━━━━━━━━━━━━━━━━━━━━━━━━\u001b[0m \u001b[32m77.9/77.9 kB\u001b[0m \u001b[31m5.1 MB/s\u001b[0m eta \u001b[36m0:00:00\u001b[0m\n",
            "\u001b[2K     \u001b[90m━━━━━━━━━━━━━━━━━━━━━━━━━━━━━━━━━━━━━━━━\u001b[0m \u001b[32m58.3/58.3 kB\u001b[0m \u001b[31m3.9 MB/s\u001b[0m eta \u001b[36m0:00:00\u001b[0m\n",
            "\u001b[2K     \u001b[90m━━━━━━━━━━━━━━━━━━━━━━━━━━━━━━━━━━━━━━━━\u001b[0m \u001b[32m53.0/53.0 kB\u001b[0m \u001b[31m3.5 MB/s\u001b[0m eta \u001b[36m0:00:00\u001b[0m\n",
            "\u001b[2K     \u001b[90m━━━━━━━━━━━━━━━━━━━━━━━━━━━━━━━━━━━━━━━━\u001b[0m \u001b[32m142.5/142.5 kB\u001b[0m \u001b[31m1.5 MB/s\u001b[0m eta \u001b[36m0:00:00\u001b[0m\n",
            "\u001b[?25h"
          ]
        }
      ],
      "source": [
        "!pip install -qU educhain"
      ]
    },
    {
      "cell_type": "code",
      "source": [
        "import os\n",
        "from google.colab import userdata\n",
        "\n",
        "os.environ[\"OPENAI_API_KEY\"] = userdata.get('OPENAI_API_KEY')"
      ],
      "metadata": {
        "id": "nyOzkDhBgXzb"
      },
      "execution_count": null,
      "outputs": []
    },
    {
      "cell_type": "markdown",
      "source": [
        "## A custom model that matches the schema of current Supabase Table"
      ],
      "metadata": {
        "id": "Lqa1IAyvgcjZ"
      }
    },
    {
      "cell_type": "code",
      "source": [
        "  # Custom Model\n",
        "from typing import List, Dict, Any, Optional\n",
        "from pydantic import BaseModel, Field, validator\n",
        "from datetime import datetime\n",
        "import uuid\n",
        "class Optioncustom(BaseModel):\n",
        "    text: str = Field(description=\"The text of the option.\")\n",
        "    correct: str = Field(description=\"Whether the option is correct or not. Either 'true' or 'false'\")\n",
        "\n",
        "\n",
        "class MCQcustom(BaseModel):\n",
        "    question: str = Field(description=\"The quiz question\")\n",
        "    options: List[Optioncustom] = Field(description=\"The possible answers to the question. The list should contain 4 options.\")\n",
        "    explanation: str = Field(default=None, description=\"Explanation of the question\")\n",
        "    blooms_level: str = Field(default=None, description=\"The Bloom's taxonomy level of the question\")\n",
        "    difficulty_level: str = Field(default=None, description=\"The difficulty level of the question. Can be 'easy', 'medium' or 'hard' \")\n",
        "    difficulty_rating: int = Field(ge=1, le=3, description=\"The difficulty rating of the question (1-5)\")\n",
        "    metadata: Dict[str, Any] = Field(default={}, description=\"Additional metadata for the question.\")\n",
        "    topic: str = Field(default=None, description=\"The topic of the question\")\n",
        "    subject: str = Field(default=None, description=\"The subject of the question\")\n",
        "    created_at: datetime = Field(default_factory=datetime.now, description=\"Timestamp when the question was created\")\n",
        "    modified_at: datetime = Field(default_factory=datetime.now, description=\"Timestamp when the question was last modified\")\n",
        "    uuid: str = Field(default_factory=lambda: str(uuid.uuid4()), description=\"Unique identifier for the question\")\n",
        "    grade: int = Field(default= 5, description=\"Grade level for the question (default: 7)\")\n",
        "\n",
        "    def json(self, **kwargs):\n",
        "        \"\"\"\n",
        "        Override json method to serialize datetime objects properly.\n",
        "        \"\"\"\n",
        "        # Convert datetime objects to ISO format strings\n",
        "        self.created_at = self.created_at.isoformat()\n",
        "        self.modified_at = self.modified_at.isoformat()\n",
        "        return super().json(**kwargs)\n",
        "\n",
        "    @property\n",
        "    def correct_answer(self):\n",
        "        for option in self.options:\n",
        "            if option.correct.lower() == 'true':\n",
        "                return option.text\n",
        "        return None\n",
        "\n",
        "    def show(self):\n",
        "        options_str = \"\\n\".join(f\"  {chr(65 + i)}. {option.text}\" for i, option in enumerate(self.options))\n",
        "        print(f\"Question: {self.question}\\nOptions:\\n{options_str}\")\n",
        "        print(f\"Correct Answer: {self.correct_answer}\")\n",
        "        print(f\"Explanation: {self.explanation}\")\n",
        "        print(f\"Bloom's Level: {self.blooms_level}\")\n",
        "        print(f\"Difficulty Level: {self.difficulty_level}\")\n",
        "        print(f\"Difficulty Rating: {self.difficulty_rating}\")\n",
        "        print(f\"Metadata: {self.metadata}\\n\")\n",
        "\n",
        "\n",
        "class MCQListcustom(BaseModel):\n",
        "    questions: List[MCQcustom]\n",
        "\n",
        "    def show(self):\n",
        "        print(\"MCQs:\\n\")\n",
        "        for i, mcq in enumerate(self.questions, start=1):\n",
        "            print(f\"Question {i}:\")\n",
        "            mcq.show()"
      ],
      "metadata": {
        "id": "r7vhK6pXgZdP"
      },
      "execution_count": null,
      "outputs": []
    },
    {
      "cell_type": "markdown",
      "source": [
        "## A custom template that can be used for question generation"
      ],
      "metadata": {
        "id": "2Mg4HuoRgkGP"
      }
    },
    {
      "cell_type": "code",
      "source": [
        "from educhain import qna_engine\n",
        "\n",
        "custom_template =  \"\"\"\n",
        "  You are an Academic AI assistant tasked with generating multiple-choice questions on various topics.\n",
        "  Don't restrict the questions to start with 'which','what' and 'how'.Frame the questions such that the user doesnt find the questions to be repetative even if they are different.\n",
        "  Include a few fill in the blank questions as well.\n",
        "  Give me {num} number of questions based on the following parameters:\n",
        "  Subject: {subject}\n",
        "  Topic: {topic}\n",
        "  Subtopic: {subtopic}\n",
        "  Learning Objective: {learning_objective}\n",
        "\n",
        "  NOTE: The questions should be fun and easy to answer.\n",
        "\n",
        "  Please keep the following points in mind before creating questions\n",
        "  1. Each question should have 4 options, and only 1 correct out of them.\n",
        "  2. Bloom's level can be \"Knowing\", \"Understanding\", \"Analyzing\", \"Applying\", \"Evaluating\", \"Creating\"\n",
        "  3. Make sure to add all kinds of difficulty level: easy, medium and hard.\n",
        "  4. Metadata should contain 'subject', 'topic', 'subtopic' and 'learning_objective'\n",
        "  5. Generate a concise explanation for each question.\n",
        "\n",
        "  Please ensure variety in questions.\n",
        "  The response should be in JSON format. \\n {format_instructions}\n",
        "  \"\"\"\n",
        "\n",
        "\n",
        "result = qna_engine.generate_mcq(\n",
        "            num = 1,\n",
        "             subject = \"Maths\",\n",
        "             topic = \"Addition of Numbers\",\n",
        "             subtopic = \"Additions\",\n",
        "             learning_objective = \"To help learn fundamentals of addition\",\n",
        "    prompt_template = custom_template,\n",
        "    response_model = MCQListcustom\n",
        ")\n",
        "\n",
        "result"
      ],
      "metadata": {
        "colab": {
          "base_uri": "https://localhost:8080/"
        },
        "id": "DBynHZhZgh6y",
        "outputId": "ace0554b-b458-41c0-a52d-a76f3f0b626d"
      },
      "execution_count": null,
      "outputs": [
        {
          "output_type": "execute_result",
          "data": {
            "text/plain": [
              "MCQListcustom(questions=[MCQcustom(question='What is the sum of 5 + 3?', options=[Optioncustom(text='7', correct='true'), Optioncustom(text='9', correct='false'), Optioncustom(text='6', correct='false'), Optioncustom(text='8', correct='false')], explanation='Adding 5 and 3 gives the result of 8.', blooms_level='Understanding', difficulty_level='easy', difficulty_rating=1, metadata={'subject': 'Maths', 'topic': 'Addition of Numbers', 'subtopic': 'Additions', 'learning_objective': 'To help learn fundamentals of addition'}, topic=None, subject=None, created_at=datetime.datetime(2022, 10, 20, 8, 0, tzinfo=TzInfo(UTC)), modified_at=datetime.datetime(2022, 10, 20, 8, 0, tzinfo=TzInfo(UTC)), uuid='1234', grade=5)])"
            ]
          },
          "metadata": {},
          "execution_count": 8
        }
      ]
    },
    {
      "cell_type": "code",
      "source": [
        "result.show()"
      ],
      "metadata": {
        "colab": {
          "base_uri": "https://localhost:8080/"
        },
        "id": "TiOkoEhLgse7",
        "outputId": "58b854fd-f324-4814-be81-2199589b5e3d"
      },
      "execution_count": null,
      "outputs": [
        {
          "output_type": "stream",
          "name": "stdout",
          "text": [
            "MCQs:\n",
            "\n",
            "Question 1:\n",
            "Question: What is the sum of 5 + 3?\n",
            "Options:\n",
            "  A. 7\n",
            "  B. 9\n",
            "  C. 6\n",
            "  D. 8\n",
            "Correct Answer: 7\n",
            "Explanation: Adding 5 and 3 gives the result of 8.\n",
            "Bloom's Level: Understanding\n",
            "Difficulty Level: easy\n",
            "Difficulty Rating: 1\n",
            "Metadata: {'subject': 'Maths', 'topic': 'Addition of Numbers', 'subtopic': 'Additions', 'learning_objective': 'To help learn fundamentals of addition'}\n",
            "\n"
          ]
        }
      ]
    },
    {
      "cell_type": "markdown",
      "source": [
        "## Function to delete generated Questions"
      ],
      "metadata": {
        "id": "2iGhYkfHjCml"
      }
    },
    {
      "cell_type": "code",
      "source": [
        "def display_mcqs(mcq_list_instance):\n",
        "    \"\"\"\n",
        "    Displays a list of MCQs in a formatted string and allows deletion of questions.\n",
        "\n",
        "    :param mcq_list_instance: An instance of MCQList containing a list of MCQ objects.\n",
        "    :return: A formatted string listing all the questions.\n",
        "    \"\"\"\n",
        "    formatted_mcqs = \"\"\n",
        "    for index, mcq in enumerate(mcq_list_instance.questions):\n",
        "        formatted_mcqs += f\"{index + 1}. {mcq.question}\\n- Options:\\n{', '.join(option.text for option in mcq.options)}\\n- Explanation: {mcq.explanation}\\n- Bloom's Level: {mcq.blooms_level}\\n- Difficulty Level: {mcq.difficulty_level}\\n- Metadata: {mcq.metadata}\\n\\n\"\n",
        "\n",
        "    print(formatted_mcqs)\n",
        "    delete_question = input(\"Press 1 to delete a question. Enter the question number to delete it: \")\n",
        "    if delete_question.isdigit():\n",
        "        question_number = int(delete_question) - 1  # Adjust for zero-based indexing\n",
        "        if 0 <= question_number < len(mcq_list_instance.questions):\n",
        "            del mcq_list_instance.questions[question_number]\n",
        "            print(f\"Question {question_number + 1} has been deleted.\")\n",
        "        else:\n",
        "            print(\"Invalid question number.\")\n",
        "    else:\n",
        "        print(\"Please enter a valid question number.\")\n"
      ],
      "metadata": {
        "id": "T8ReMZapiszi"
      },
      "execution_count": null,
      "outputs": []
    },
    {
      "cell_type": "code",
      "source": [
        "# Assuming output_questions is an instance of MCQList\n",
        "formatted_mcqs = display_mcqs(result)\n",
        "print(formatted_mcqs)\n"
      ],
      "metadata": {
        "colab": {
          "base_uri": "https://localhost:8080/"
        },
        "id": "C6hifxCKi4lV",
        "outputId": "352dbf5f-c1c0-4481-a023-79cb8fea7452"
      },
      "execution_count": null,
      "outputs": [
        {
          "output_type": "stream",
          "name": "stdout",
          "text": [
            "1. What is the sum of 5 + 3?\n",
            "- Options:\n",
            "7, 9, 6, 8\n",
            "- Explanation: Adding 5 and 3 gives the result of 8.\n",
            "- Bloom's Level: Understanding\n",
            "- Difficulty Level: easy\n",
            "- Metadata: {'subject': 'Maths', 'topic': 'Addition of Numbers', 'subtopic': 'Additions', 'learning_objective': 'To help learn fundamentals of addition'}\n",
            "\n",
            "\n",
            "Press 1 to delete a question. Enter the question number to delete it: 0\n",
            "Invalid question number.\n",
            "None\n"
          ]
        }
      ]
    },
    {
      "cell_type": "markdown",
      "source": [
        "## Push to DB"
      ],
      "metadata": {
        "id": "ggcbs8nOjwm-"
      }
    },
    {
      "cell_type": "code",
      "source": [
        "!pip install -qU supabase"
      ],
      "metadata": {
        "colab": {
          "base_uri": "https://localhost:8080/"
        },
        "id": "V5AHnmYMi_hr",
        "outputId": "d4417096-c91f-4a7a-a16d-b71d2c47a56d"
      },
      "execution_count": null,
      "outputs": [
        {
          "output_type": "stream",
          "name": "stdout",
          "text": [
            "\u001b[2K     \u001b[90m━━━━━━━━━━━━━━━━━━━━━━━━━━━━━━━━━━━━━━━━\u001b[0m \u001b[32m44.3/44.3 kB\u001b[0m \u001b[31m1.7 MB/s\u001b[0m eta \u001b[36m0:00:00\u001b[0m\n",
            "\u001b[2K     \u001b[90m━━━━━━━━━━━━━━━━━━━━━━━━━━━━━━━━━━━━━━━━\u001b[0m \u001b[32m130.2/130.2 kB\u001b[0m \u001b[31m5.4 MB/s\u001b[0m eta \u001b[36m0:00:00\u001b[0m\n",
            "\u001b[?25h"
          ]
        }
      ]
    },
    {
      "cell_type": "markdown",
      "source": [
        "## Connect Databse"
      ],
      "metadata": {
        "id": "y20K9O2uj0D-"
      }
    },
    {
      "cell_type": "code",
      "source": [
        "\n",
        "\n",
        "%env SUPABASE_URL = \"YOUR URL\"\n",
        "\n",
        "%env SUPABASE_KEY = \"YOUR KEY\""
      ],
      "metadata": {
        "colab": {
          "base_uri": "https://localhost:8080/"
        },
        "id": "W2O28rLRk2zM",
        "outputId": "66f2cbe9-cc57-485e-c8e0-2d3d05dc22a8"
      },
      "execution_count": null,
      "outputs": [
        {
          "output_type": "stream",
          "name": "stdout",
          "text": [
            "env: SUPABASE_URL=\"YOUR URL\"\n",
            "env: SUPABASE_KEY=\"YOUR KEY\"\n"
          ]
        }
      ]
    },
    {
      "cell_type": "code",
      "source": [
        "import os\n",
        "import supabase\n",
        "\n",
        "supabase_url = os.environ.get(\"SUPABASE_URL\")\n",
        "supabase_key = os.environ.get(\"SUPABASE_KEY\")\n",
        "\n",
        "# Create Supabase client\n",
        "supabase_client = supabase.create_client(supabase_url, supabase_key)"
      ],
      "metadata": {
        "id": "0K5dU998jPna"
      },
      "execution_count": null,
      "outputs": []
    },
    {
      "cell_type": "markdown",
      "source": [
        "## Shuffle the Options"
      ],
      "metadata": {
        "id": "JdJT7z3lj2S0"
      }
    },
    {
      "cell_type": "code",
      "source": [
        "import random\n",
        "\n",
        "# Define a function to shuffle options within each question\n",
        "def shuffle_options(mcq_list):\n",
        "    shuffled_questions = []\n",
        "    for mcq in mcq_list.questions:\n",
        "        # Shuffle the options for each question}\n",
        "        random.shuffle(mcq.options)\n",
        "        shuffled_questions.append(mcq)\n",
        "    return shuffled_questions"
      ],
      "metadata": {
        "id": "CavsQgX_jTN5"
      },
      "execution_count": null,
      "outputs": []
    },
    {
      "cell_type": "markdown",
      "source": [
        "## Push to DB"
      ],
      "metadata": {
        "id": "NqXAAJMAj44J"
      }
    },
    {
      "cell_type": "code",
      "source": [
        "from datetime import datetime\n",
        "import uuid\n",
        "\n",
        "def push_to_db(output_questions: MCQListcustom):\n",
        "    # Assuming shuffle_options is a function that shuffles the options of each question\n",
        "    shuffled_mcq_list = shuffle_options(result)\n",
        "    for question in shuffled_mcq_list:\n",
        "        # Extract topic and subject from metadata\n",
        "        metadata = question.metadata\n",
        "        topic = metadata.get('topic')\n",
        "        subject = metadata.get('subject')\n",
        "\n",
        "        # Populate topic and subject fields\n",
        "        question.topic = topic\n",
        "        question.subject = subject\n",
        "\n",
        "        # Populate date_created and date_modified fields\n",
        "        question.created_at = datetime.now()  # Set the creation date to the current timestamp\n",
        "        question.modified_at = datetime.now()  # Set the modification date to the current timestamp\n",
        "\n",
        "        try:\n",
        "            # Serialize MCQ object to a dictionary for insertion\n",
        "            question_dict = question.dict()\n",
        "\n",
        "            # Generate a UUID for the question\n",
        "            question_uuid = str(uuid.uuid4())\n",
        "            question_dict['uuid'] = question_uuid\n",
        "\n",
        "            # Convert datetime objects to ISO format strings for serialization\n",
        "            question_dict['created_at'] = question.created_at.isoformat()\n",
        "            question_dict['modified_at'] = question.modified_at.isoformat()\n",
        "\n",
        "            # Insert the question into the database\n",
        "            supabase_client.table(\"test_educhain\").insert(question_dict).execute()\n",
        "        except Exception as e:\n",
        "            print(f\"An error occurred: {e}\")\n"
      ],
      "metadata": {
        "id": "I5f9I9SFjXqe"
      },
      "execution_count": null,
      "outputs": []
    },
    {
      "cell_type": "code",
      "source": [
        "push_to_db(result)"
      ],
      "metadata": {
        "id": "FtmU-9XhjbeD"
      },
      "execution_count": null,
      "outputs": []
    },
    {
      "cell_type": "code",
      "source": [
        "result"
      ],
      "metadata": {
        "colab": {
          "base_uri": "https://localhost:8080/"
        },
        "id": "X-uLUBO-kahF",
        "outputId": "62f1eb92-6804-48c6-d25a-0b42ef070e2a"
      },
      "execution_count": null,
      "outputs": [
        {
          "output_type": "execute_result",
          "data": {
            "text/plain": [
              "MCQListcustom(questions=[MCQcustom(question='What is the sum of 5 + 3?', options=[Optioncustom(text='9', correct='false'), Optioncustom(text='8', correct='false'), Optioncustom(text='7', correct='true'), Optioncustom(text='6', correct='false')], explanation='Adding 5 and 3 gives the result of 8.', blooms_level='Understanding', difficulty_level='easy', difficulty_rating=1, metadata={'subject': 'Maths', 'topic': 'Addition of Numbers', 'subtopic': 'Additions', 'learning_objective': 'To help learn fundamentals of addition'}, topic='Addition of Numbers', subject='Maths', created_at=datetime.datetime(2024, 5, 24, 17, 6, 42, 581179), modified_at=datetime.datetime(2024, 5, 24, 17, 6, 42, 581225), uuid='1234', grade=5)])"
            ]
          },
          "metadata": {},
          "execution_count": 21
        }
      ]
    },
    {
      "cell_type": "code",
      "source": [],
      "metadata": {
        "id": "V0lQAwV9k_53"
      },
      "execution_count": null,
      "outputs": []
    }
  ]
}