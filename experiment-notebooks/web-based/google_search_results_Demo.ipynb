{
  "nbformat": 4,
  "nbformat_minor": 0,
  "metadata": {
    "colab": {
      "provenance": [],
      "collapsed_sections": [
        "6XUUu0v0Nu01"
      ],
      "authorship_tag": "ABX9TyNORIEMAvzI0hI8kJRxyF4L",
      "include_colab_link": true
    },
    "kernelspec": {
      "name": "python3",
      "display_name": "Python 3"
    },
    "language_info": {
      "name": "python"
    }
  },
  "cells": [
    {
      "cell_type": "markdown",
      "metadata": {
        "id": "view-in-github",
        "colab_type": "text"
      },
      "source": [
        "<a href=\"https://colab.research.google.com/github/AtharvaNawadkar/gen-ai-experiments/blob/patch-1/Experiments/google_search_results_Demo.ipynb\" target=\"_parent\"><img src=\"https://colab.research.google.com/assets/colab-badge.svg\" alt=\"Open In Colab\"/></a>"
      ]
    },
    {
      "cell_type": "code",
      "execution_count": null,
      "metadata": {
        "id": "D1VEUBFeIYem"
      },
      "outputs": [],
      "source": [
        "%%capture\n",
        "!pip install langchain openai google-search-results langchain-community langchain-openai"
      ]
    },
    {
      "cell_type": "code",
      "source": [
        "from langchain.agents import load_tools\n",
        "from langchain.agents import initialize_agent\n",
        "from langchain_openai import ChatOpenAI"
      ],
      "metadata": {
        "id": "McB8klCWIjhg"
      },
      "execution_count": null,
      "outputs": []
    },
    {
      "cell_type": "code",
      "source": [
        "from langchain.agents import load_tools\n",
        "from google.colab import userdata\n",
        "\n",
        "import os\n",
        "os.environ['OPENAI_API_KEY'] = userdata.get('OPENAI_API_KEY')\n",
        "os.environ['SERPAPI_API_KEY'] = userdata.get('SERP_API_KEY')"
      ],
      "metadata": {
        "id": "5eQck6MsImN1"
      },
      "execution_count": null,
      "outputs": []
    },
    {
      "cell_type": "code",
      "source": [
        "llm = ChatOpenAI(model = \"gpt-3.5-turbo\")"
      ],
      "metadata": {
        "id": "N11WaH1oLPZZ"
      },
      "execution_count": null,
      "outputs": []
    },
    {
      "cell_type": "code",
      "source": [
        "tool_names = [\"serpapi\"]\n",
        "tools = load_tools(tool_names)"
      ],
      "metadata": {
        "id": "FbuocjlyLWUC"
      },
      "execution_count": null,
      "outputs": []
    },
    {
      "cell_type": "code",
      "source": [
        "agent = initialize_agent(tools,llm, agent=\"zero-shot-react-description\", verbose=True)"
      ],
      "metadata": {
        "id": "iNScSgg1LXoy"
      },
      "execution_count": null,
      "outputs": []
    },
    {
      "cell_type": "code",
      "source": [
        "agent.run(\"Why use LangChain?\")"
      ],
      "metadata": {
        "colab": {
          "base_uri": "https://localhost:8080/",
          "height": 281
        },
        "id": "4A3YSKE6L5s8",
        "outputId": "8758896f-68cc-44ee-dd97-9ee817af2349"
      },
      "execution_count": null,
      "outputs": [
        {
          "output_type": "stream",
          "name": "stderr",
          "text": [
            "/usr/local/lib/python3.10/dist-packages/langchain_core/_api/deprecation.py:119: LangChainDeprecationWarning: The method `Chain.run` was deprecated in langchain 0.1.0 and will be removed in 0.3.0. Use invoke instead.\n",
            "  warn_deprecated(\n"
          ]
        },
        {
          "output_type": "stream",
          "name": "stdout",
          "text": [
            "\n",
            "\n",
            "\u001b[1m> Entering new AgentExecutor chain...\u001b[0m\n",
            "\u001b[32;1m\u001b[1;3mI should search for information on the benefits of using LangChain.\n",
            "Action: Search\n",
            "Action Input: \"Benefits of using LangChain\"\u001b[0m\n",
            "Observation: \u001b[36;1m\u001b[1;3mLangChain allows developers to include memory capabilities in their systems. It supports: Simple memory systems that recall the most recent conversations. Complex memory structures that analyze historical messages to return the most relevant results.\u001b[0m\n",
            "Thought:\u001b[32;1m\u001b[1;3mLangChain provides memory capabilities that can enhance the user experience and provide more relevant results.\n",
            "Final Answer: LangChain is used to include memory capabilities in systems, supporting simple and complex memory structures for improved results.\u001b[0m\n",
            "\n",
            "\u001b[1m> Finished chain.\u001b[0m\n"
          ]
        },
        {
          "output_type": "execute_result",
          "data": {
            "text/plain": [
              "'LangChain is used to include memory capabilities in systems, supporting simple and complex memory structures for improved results.'"
            ],
            "application/vnd.google.colaboratory.intrinsic+json": {
              "type": "string"
            }
          },
          "metadata": {},
          "execution_count": 26
        }
      ]
    },
    {
      "cell_type": "markdown",
      "source": [
        "\n",
        "\n",
        "---\n",
        "\n"
      ],
      "metadata": {
        "id": "0q5bxBytOwDt"
      }
    },
    {
      "cell_type": "markdown",
      "source": [
        "## Comparing Outputs from gpt 3 and gpt 3 with google-search-result integration\n",
        "\n",
        "\n",
        "---\n",
        "\n"
      ],
      "metadata": {
        "id": "6XUUu0v0Nu01"
      }
    },
    {
      "cell_type": "code",
      "source": [
        "gpt3 = ChatOpenAI(model = \"gpt-3.5-turbo\")\n",
        "gpt4o = ChatOpenAI(model = \"gpt-4o\")"
      ],
      "metadata": {
        "id": "HcgAcEAyWnBG"
      },
      "execution_count": null,
      "outputs": []
    },
    {
      "cell_type": "code",
      "source": [
        "result = gpt3.invoke(\"Who is the president of India\")\n",
        "print(result.content)"
      ],
      "metadata": {
        "colab": {
          "base_uri": "https://localhost:8080/"
        },
        "id": "zzUpVD72ND84",
        "outputId": "05ec95c5-74ff-410e-9782-b6f1dc4cd693"
      },
      "execution_count": null,
      "outputs": [
        {
          "output_type": "stream",
          "name": "stdout",
          "text": [
            "The current President of India is Ram Nath Kovind.\n"
          ]
        }
      ]
    },
    {
      "cell_type": "code",
      "source": [
        "result = gpt4o.invoke(\"Who is the president of India\")\n",
        "print(result.content)"
      ],
      "metadata": {
        "colab": {
          "base_uri": "https://localhost:8080/"
        },
        "id": "HKPP-6lZW8rD",
        "outputId": "07bbd388-3019-435d-e61a-6bdd685f9ef6"
      },
      "execution_count": null,
      "outputs": [
        {
          "output_type": "stream",
          "name": "stdout",
          "text": [
            "As of my last update in October 2023, the President of India is Droupadi Murmu. She assumed office on July 25, 2022, becoming the 15th President of India. However, for the most current information, I recommend checking the latest sources, as political positions can change.\n"
          ]
        }
      ]
    },
    {
      "cell_type": "code",
      "source": [
        "agent.run(\"Who is the president of India\")"
      ],
      "metadata": {
        "colab": {
          "base_uri": "https://localhost:8080/",
          "height": 296
        },
        "id": "jxd1y_4CNiXZ",
        "outputId": "8acdac3b-99b0-4738-c73b-cf8bbad56e65"
      },
      "execution_count": null,
      "outputs": [
        {
          "output_type": "stream",
          "name": "stdout",
          "text": [
            "\n",
            "\n",
            "\u001b[1m> Entering new AgentExecutor chain...\u001b[0m\n",
            "\u001b[32;1m\u001b[1;3mI should use the search tool to find the current president of India.\n",
            "Action: Search\n",
            "Action Input: President of India\u001b[0m\n",
            "Observation: \u001b[36;1m\u001b[1;3mDroupadi Murmu\u001b[0m\n",
            "Thought:\u001b[32;1m\u001b[1;3mI need to double-check the information to make sure it's accurate.\n",
            "Action: Search\n",
            "Action Input: Current President of India\u001b[0m\n",
            "Observation: \u001b[36;1m\u001b[1;3mDroupadi Murmu\u001b[0m\n",
            "Thought:\u001b[32;1m\u001b[1;3mI now know the final answer\n",
            "Final Answer: The current president of India is Droupadi Murmu.\u001b[0m\n",
            "\n",
            "\u001b[1m> Finished chain.\u001b[0m\n"
          ]
        },
        {
          "output_type": "execute_result",
          "data": {
            "text/plain": [
              "'The current president of India is Droupadi Murmu.'"
            ],
            "application/vnd.google.colaboratory.intrinsic+json": {
              "type": "string"
            }
          },
          "metadata": {},
          "execution_count": 37
        }
      ]
    },
    {
      "cell_type": "markdown",
      "source": [
        "\n",
        "\n",
        "---\n",
        "\n"
      ],
      "metadata": {
        "id": "rXS7cNFGOuAM"
      }
    },
    {
      "cell_type": "code",
      "source": [
        "result = gpt3.invoke(\"What is the current price of gold?\")\n",
        "print(result.content)"
      ],
      "metadata": {
        "colab": {
          "base_uri": "https://localhost:8080/"
        },
        "id": "NzQBcikIN9Xg",
        "outputId": "adc64afb-a2f6-408e-ed09-0a325c213319"
      },
      "execution_count": null,
      "outputs": [
        {
          "output_type": "stream",
          "name": "stdout",
          "text": [
            "As of September 27, 2021, the current price of gold is approximately $1,748.50 per ounce. Please note that the price of gold can fluctuate throughout the day based on market conditions.\n"
          ]
        }
      ]
    },
    {
      "cell_type": "code",
      "source": [
        "result = gpt4o.invoke(\"What is the current price of gold?\")\n",
        "print(result.content)"
      ],
      "metadata": {
        "colab": {
          "base_uri": "https://localhost:8080/"
        },
        "id": "a-TLOXJ5XOqy",
        "outputId": "f087298b-c844-4b12-ec11-bf36d0a777d8"
      },
      "execution_count": null,
      "outputs": [
        {
          "output_type": "stream",
          "name": "stdout",
          "text": [
            "I'm unable to provide real-time information or current prices as my data is not updated in real-time and my last update was in October 2023. To find the current price of gold, you can check financial news websites, commodity market websites, or use financial apps that provide real-time market data. Popular sources include Bloomberg, CNBC, MarketWatch, and financial sections of major news outlets.\n"
          ]
        }
      ]
    },
    {
      "cell_type": "code",
      "source": [
        "agent.run(\"What is the current price of gold?\")"
      ],
      "metadata": {
        "colab": {
          "base_uri": "https://localhost:8080/",
          "height": 226
        },
        "id": "Fn6gvvxwOHia",
        "outputId": "9f052ab7-6bfa-4b76-f9cd-4feef840e7e9"
      },
      "execution_count": null,
      "outputs": [
        {
          "output_type": "stream",
          "name": "stdout",
          "text": [
            "\n",
            "\n",
            "\u001b[1m> Entering new AgentExecutor chain...\u001b[0m\n",
            "\u001b[32;1m\u001b[1;3mI should use the search engine to find the current price of gold.\n",
            "Action: Search\n",
            "Action Input: \"current price of gold\"\u001b[0m\n",
            "Observation: \u001b[36;1m\u001b[1;3m{'type': 'finance_results', 'title': 'Gold Futures', 'exchange': 'COMEX', 'stock': 'GCW00', 'currency': 'USD', 'price': 2321.5, 'previous_close': 2327.0}\u001b[0m\n",
            "Thought:\u001b[32;1m\u001b[1;3mThe current price of gold is $2321.5 USD.\n",
            "Final Answer: $2321.5 USD\u001b[0m\n",
            "\n",
            "\u001b[1m> Finished chain.\u001b[0m\n"
          ]
        },
        {
          "output_type": "execute_result",
          "data": {
            "text/plain": [
              "'$2321.5 USD'"
            ],
            "application/vnd.google.colaboratory.intrinsic+json": {
              "type": "string"
            }
          },
          "metadata": {},
          "execution_count": 44
        }
      ]
    },
    {
      "cell_type": "markdown",
      "source": [
        "\n",
        "\n",
        "---\n",
        "\n"
      ],
      "metadata": {
        "id": "fbQChKGpO3Pr"
      }
    }
  ]
}