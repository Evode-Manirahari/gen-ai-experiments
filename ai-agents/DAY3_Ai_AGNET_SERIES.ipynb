{
  "cells": [
    {
      "cell_type": "markdown",
      "source": [
        "<img src=\"https://drive.google.com/uc?export=view&id=1wYSMgJtARFdvTt5g7E20mE4NmwUFUuog\" width=\"200\">\n",
        "\n",
        "[![Gen AI Experiments](https://img.shields.io/badge/Gen%20AI%20Experiments-GenAI%20Bootcamp-blue?style=for-the-badge&logo=artificial-intelligence)](https://github.com/buildfastwithai/gen-ai-experiments)\n",
        "[![Gen AI Experiments GitHub](https://img.shields.io/github/stars/buildfastwithai/gen-ai-experiments?style=for-the-badge&logo=github&color=gold)](http://github.com/buildfastwithai/gen-ai-experiments)\n",
        "\n",
        "\n",
        "[![Open In Colab](https://colab.research.google.com/assets/colab-badge.svg)](https://colab.research.google.com/drive/1oIwdceg-apNWycn3a4Q52NBWp185hHLi?usp=sharing)\n",
        "\n",
        "## Master Generative AI in 8 Weeks\n",
        "**What You'll Learn:**\n",
        "- Master cutting-edge AI tools & frameworks\n",
        "- 6 weeks of hands-on, project-based learning\n",
        "- Weekly live mentorship sessions\n",
        "- No coding experience required\n",
        "- Join Innovation Community\n",
        "Transform your AI ideas into reality through hands-on projects and expert mentorship.\n",
        "[Start Your Journey](https://www.buildfastwithai.com/genai-course)\n",
        "\n",
        "\n"
      ],
      "metadata": {
        "id": "KF7QfEXf_6KK"
      },
      "id": "KF7QfEXf_6KK"
    },
    {
      "cell_type": "markdown",
      "source": [
        "# Day 3 — AI AGENT SERIES\n",
        "\n",
        "On **Day 2**, we explored how agent teams are made and they collaborate to achive the goal.  \n",
        "\n",
        "For **Day 3** :<br>\n",
        "we will make a minimal two-agent team using AutoGen AgentChat:\n",
        "- **Doer**: Writes and revises code to fix a predefined buggy snippet.\n",
        "- **Critic**: Reviews the Doer’s output, gives targeted feedback, and says `APPROVE` when the code looks correct.\n",
        "\n",
        "Flow:\n",
        "1. Provide a small buggy function.\n",
        "2. Run a round-robin team until the critic says `APPROVE`.\n",
        "3. Print the full conversation and the final corrected code.\n",
        "\n"
      ],
      "metadata": {
        "id": "yhMzHZN4AJqM"
      },
      "id": "yhMzHZN4AJqM"
    },
    {
      "cell_type": "markdown",
      "source": [
        "## Setup and Installation of required libraries\n",
        "We'll start by installing the prerequisite libraries that we'll be using in this example."
      ],
      "metadata": {
        "id": "qQAfoWjbBd3O"
      },
      "id": "qQAfoWjbBd3O"
    },
    {
      "cell_type": "code",
      "execution_count": 1,
      "id": "b1c9ddf9",
      "metadata": {
        "colab": {
          "base_uri": "https://localhost:8080/"
        },
        "id": "b1c9ddf9",
        "outputId": "d8dc6e52-58dc-451d-f593-b1398fe8710a"
      },
      "outputs": [
        {
          "output_type": "stream",
          "name": "stdout",
          "text": [
            "\u001b[?25l     \u001b[90m━━━━━━━━━━━━━━━━━━━━━━━━━━━━━━━━━━━━━━━━\u001b[0m \u001b[32m0.0/46.5 kB\u001b[0m \u001b[31m?\u001b[0m eta \u001b[36m-:--:--\u001b[0m\r\u001b[2K     \u001b[90m━━━━━━━━━━━━━━━━━━━━━━━━━━━━━━━━━━━━━━━━\u001b[0m \u001b[32m46.5/46.5 kB\u001b[0m \u001b[31m4.1 MB/s\u001b[0m eta \u001b[36m0:00:00\u001b[0m\n",
            "\u001b[2K     \u001b[90m━━━━━━━━━━━━━━━━━━━━━━━━━━━━━━━━━━━━━━━━\u001b[0m \u001b[32m88.0/88.0 kB\u001b[0m \u001b[31m8.3 MB/s\u001b[0m eta \u001b[36m0:00:00\u001b[0m\n",
            "\u001b[2K     \u001b[90m━━━━━━━━━━━━━━━━━━━━━━━━━━━━━━━━━━━━━━━━\u001b[0m \u001b[32m71.8/71.8 kB\u001b[0m \u001b[31m5.6 MB/s\u001b[0m eta \u001b[36m0:00:00\u001b[0m\n",
            "\u001b[2K   \u001b[90m━━━━━━━━━━━━━━━━━━━━━━━━━━━━━━━━━━━━━━━━\u001b[0m \u001b[32m119.1/119.1 kB\u001b[0m \u001b[31m10.0 MB/s\u001b[0m eta \u001b[36m0:00:00\u001b[0m\n",
            "\u001b[2K   \u001b[90m━━━━━━━━━━━━━━━━━━━━━━━━━━━━━━━━━━━━━━━━\u001b[0m \u001b[32m101.6/101.6 kB\u001b[0m \u001b[31m7.6 MB/s\u001b[0m eta \u001b[36m0:00:00\u001b[0m\n",
            "\u001b[2K   \u001b[90m━━━━━━━━━━━━━━━━━━━━━━━━━━━━━━━━━━━━━━━━\u001b[0m \u001b[32m124.9/124.9 kB\u001b[0m \u001b[31m9.9 MB/s\u001b[0m eta \u001b[36m0:00:00\u001b[0m\n",
            "\u001b[2K   \u001b[90m━━━━━━━━━━━━━━━━━━━━━━━━━━━━━━━━━━━━━━━━\u001b[0m \u001b[32m126.7/126.7 kB\u001b[0m \u001b[31m11.6 MB/s\u001b[0m eta \u001b[36m0:00:00\u001b[0m\n",
            "\u001b[2K   \u001b[90m━━━━━━━━━━━━━━━━━━━━━━━━━━━━━━━━━━━━━━━━\u001b[0m \u001b[32m211.8/211.8 kB\u001b[0m \u001b[31m16.9 MB/s\u001b[0m eta \u001b[36m0:00:00\u001b[0m\n",
            "\u001b[2K   \u001b[90m━━━━━━━━━━━━━━━━━━━━━━━━━━━━━━━━━━━━━━━━\u001b[0m \u001b[32m298.8/298.8 kB\u001b[0m \u001b[31m21.4 MB/s\u001b[0m eta \u001b[36m0:00:00\u001b[0m\n",
            "\u001b[2K   \u001b[90m━━━━━━━━━━━━━━━━━━━━━━━━━━━━━━━━━━━━━━━━\u001b[0m \u001b[32m328.9/328.9 kB\u001b[0m \u001b[31m23.2 MB/s\u001b[0m eta \u001b[36m0:00:00\u001b[0m\n",
            "\u001b[2K   \u001b[90m━━━━━━━━━━━━━━━━━━━━━━━━━━━━━━━━━━━━━━━━\u001b[0m \u001b[32m190.9/190.9 kB\u001b[0m \u001b[31m16.1 MB/s\u001b[0m eta \u001b[36m0:00:00\u001b[0m\n",
            "\u001b[2K   \u001b[90m━━━━━━━━━━━━━━━━━━━━━━━━━━━━━━━━━━━━━━━━\u001b[0m \u001b[32m214.7/214.7 kB\u001b[0m \u001b[31m16.7 MB/s\u001b[0m eta \u001b[36m0:00:00\u001b[0m\n",
            "\u001b[2K   \u001b[90m━━━━━━━━━━━━━━━━━━━━━━━━━━━━━━━━━━━━━━━━\u001b[0m \u001b[32m412.9/412.9 kB\u001b[0m \u001b[31m28.6 MB/s\u001b[0m eta \u001b[36m0:00:00\u001b[0m\n",
            "\u001b[2K   \u001b[90m━━━━━━━━━━━━━━━━━━━━━━━━━━━━━━━━━━━━━━━━\u001b[0m \u001b[32m116.9/116.9 kB\u001b[0m \u001b[31m9.5 MB/s\u001b[0m eta \u001b[36m0:00:00\u001b[0m\n",
            "\u001b[?25h"
          ]
        }
      ],
      "source": [
        "!pip install -q \"autogen-agentchat\" \"autogen-ext[openai,azure]\""
      ]
    },
    {
      "cell_type": "markdown",
      "id": "06fec25f",
      "metadata": {
        "id": "06fec25f"
      },
      "source": [
        "\n",
        "## 🧠 What is AutoGen?\n",
        "\n",
        "AutoGen is a Python library for **conversational multi-agent systems**.  \n",
        "Each agent can:\n",
        "- Play a role (e.g., coder, reviewer, user)\n",
        "- Send/receive natural language messages\n",
        "- Use tools like code execution, APIs, file I/O\n",
        "- Collaborate, retry, and refine\n",
        "\n",
        "Two key agent types:\n",
        "1. **AssistantAgent** — the \"doer\" (writes, explains, codes)\n",
        "2. **UserProxyAgent** — simulates a user (manual or automatic feedback)\n"
      ]
    },
    {
      "cell_type": "markdown",
      "source": [
        "## LLM setup\n",
        "we will setup our llm model using `openai`"
      ],
      "metadata": {
        "id": "Y_OJElE3Cp63"
      },
      "id": "Y_OJElE3Cp63"
    },
    {
      "cell_type": "code",
      "source": [
        "from autogen_ext.models.openai import OpenAIChatCompletionClient\n",
        "from google.colab import userdata\n",
        "\n",
        "model_client = OpenAIChatCompletionClient(\n",
        "    model=\"gpt-4o\",\n",
        "    api_key=userdata.get('OPENAI_API_KEY'),\n",
        ")\n"
      ],
      "metadata": {
        "id": "lEtjoz5DGzzS"
      },
      "id": "lEtjoz5DGzzS",
      "execution_count": 2,
      "outputs": []
    },
    {
      "cell_type": "code",
      "execution_count": 3,
      "id": "7becd546",
      "metadata": {
        "colab": {
          "base_uri": "https://localhost:8080/"
        },
        "id": "7becd546",
        "outputId": "9a3097be-59ab-47ed-99d5-c560490e9035"
      },
      "outputs": [
        {
          "output_type": "stream",
          "name": "stdout",
          "text": [
            "Buggy code:\n",
            " \n",
            "\"\"\"Utilities for simple math operations.\"\"\"\n",
            "\n",
            "def add_numbers(a, b):\n",
            "    # BUG: wrong operation used (subtraction instead of addition)\n",
            "    return a - b\n",
            "\n",
            "class Divider:\n",
            "    def __init__(self, numerator: float, denominator: float):\n",
            "        self.numerator = numerator\n",
            "        self.denominator = denominator\n",
            "\n",
            "    def divide(self) -> float:\n",
            "        # BUG: potential ZeroDivisionError not handled; also wrong attribute name\n",
            "        return self.numerator / self.denominatr\n",
            "\n"
          ]
        }
      ],
      "source": [
        "# Predefined buggy code (simple and intentional mistakes)\n",
        "buggy_code = r'''\n",
        "\"\"\"Utilities for simple math operations.\"\"\"\n",
        "\n",
        "def add_numbers(a, b):\n",
        "    # BUG: wrong operation used (subtraction instead of addition)\n",
        "    return a - b\n",
        "\n",
        "class Divider:\n",
        "    def __init__(self, numerator: float, denominator: float):\n",
        "        self.numerator = numerator\n",
        "        self.denominator = denominator\n",
        "\n",
        "    def divide(self) -> float:\n",
        "        # BUG: potential ZeroDivisionError not handled; also wrong attribute name\n",
        "        return self.numerator / self.denominatr\n",
        "'''\n",
        "\n",
        "print(\"Buggy code:\\n\", buggy_code)\n",
        "\n",
        "# Agent system prompts\n",
        "DOER_SYSTEM = (\n",
        "    \"You are the Doer. Your job is to fix bugs in a given Python code snippet. \"\n",
        "    \"Respond with clear reasoning and improved code when needed. Keep changes minimal but correct.\"\n",
        ")\n",
        "\n",
        "CRITIC_SYSTEM = (\n",
        "    \"You are the Critic. Review the Doer’s output, point out specific remaining issues, and say \"\n",
        "    \"'APPROVE' ONLY when the code is correct and robust for the simple use cases described.\"\n",
        ")\n"
      ]
    },
    {
      "cell_type": "markdown",
      "id": "31859eb9",
      "metadata": {
        "id": "31859eb9"
      },
      "source": [
        "\n",
        "### 🔍 What happens?\n",
        "1. The **User** sends the broken code.  \n",
        "2. The **CodeFixer** suggests a fix (adds zero-check).  \n",
        "3. The **User** replies: \"Thanks, this works now. ✅ fixed\".  \n",
        "4. Chat ends automatically.\n",
        "\n",
        "✅ No hardcoded if/else. Just natural dialogue between LLMs.\n"
      ]
    },
    {
      "cell_type": "code",
      "source": [
        "import os\n",
        "import asyncio\n",
        "from typing import List\n",
        "\n",
        "from autogen_agentchat.agents import AssistantAgent\n",
        "from autogen_agentchat.base import TaskResult\n",
        "from autogen_agentchat.conditions import TextMentionTermination\n",
        "from autogen_agentchat.teams import RoundRobinGroupChat\n",
        "from autogen_agentchat.ui import Console\n",
        "from autogen_ext.models.openai import OpenAIChatCompletionClient\n",
        "\n"
      ],
      "metadata": {
        "id": "N6TkRCOP_ZFX"
      },
      "id": "N6TkRCOP_ZFX",
      "execution_count": 5,
      "outputs": []
    },
    {
      "cell_type": "markdown",
      "source": [
        "## Creating Agents\n",
        "\n",
        "- Define your Agents, and provide them a `role` and `system prompt`\n",
        "- It has been seen that LLMs perform better when they are role playing."
      ],
      "metadata": {
        "id": "8FBTuBlaDYTy"
      },
      "id": "8FBTuBlaDYTy"
    },
    {
      "cell_type": "code",
      "execution_count": 6,
      "id": "505544cd",
      "metadata": {
        "colab": {
          "base_uri": "https://localhost:8080/"
        },
        "id": "505544cd",
        "outputId": "5c513437-f656-401c-959d-3a08c622fe1e"
      },
      "outputs": [
        {
          "output_type": "stream",
          "name": "stdout",
          "text": [
            "Team ready.\n"
          ]
        }
      ],
      "source": [
        "# Build the two agents and the team\n",
        "\n",
        "# Create agents\n",
        "doer = AssistantAgent(\n",
        "    \"doer\",\n",
        "    model_client=model_client,\n",
        "    system_message=DOER_SYSTEM,\n",
        ")\n",
        "\n",
        "critic = AssistantAgent(\n",
        "    \"critic\",\n",
        "    model_client=model_client,\n",
        "    system_message=CRITIC_SYSTEM,\n",
        ")\n",
        "\n",
        "# Termination: stop when critic says APPROVE\n",
        "termination_condition = TextMentionTermination(\"APPROVE\")\n",
        "\n",
        "# Team: simple round-robin chat\n",
        "team = RoundRobinGroupChat(\n",
        "    [doer, critic],\n",
        "    termination_condition=termination_condition,\n",
        ")\n",
        "\n",
        "print(\"Team ready.\")\n"
      ]
    },
    {
      "cell_type": "markdown",
      "source": [
        "## Running the agents"
      ],
      "metadata": {
        "id": "3Pk1Ad_9D9pG"
      },
      "id": "3Pk1Ad_9D9pG"
    },
    {
      "cell_type": "code",
      "source": [
        "# Run the team on the debugging task\n",
        "\n",
        "debug_task = (\n",
        "    \"We have a small buggy Python snippet. Identify the bugs, explain them briefly, \"\n",
        "    \"and provide a corrected version. Keep changes minimal. Then await Critic feedback.\\n\\n\"\n",
        "    f\"Buggy code:\\n{buggy_code}\"\n",
        ")\n",
        "\n",
        "async def run_team_once() -> TaskResult:\n",
        "    await team.reset()\n",
        "    result: TaskResult = await team.run(task=debug_task)\n",
        "    return result\n",
        "\n",
        "# Use asyncio.run if in a script. In notebooks, use nest_asyncio or plain await if supported.\n",
        "result = await run_team_once()\n",
        "print(\"Team finished. Stop reason:\", result.stop_reason)\n"
      ],
      "metadata": {
        "colab": {
          "base_uri": "https://localhost:8080/"
        },
        "id": "YqxRWGoo_g2_",
        "outputId": "c3ccea86-b01f-4c83-9afe-63fda0664404"
      },
      "id": "YqxRWGoo_g2_",
      "execution_count": 7,
      "outputs": [
        {
          "output_type": "stream",
          "name": "stdout",
          "text": [
            "Team finished. Stop reason: Text 'APPROVE' mentioned\n"
          ]
        }
      ]
    },
    {
      "cell_type": "code",
      "source": [
        "# Print full conversation and extract final corrected code\n",
        "from autogen_agentchat.messages import TextMessage\n",
        "from typing import Optional\n",
        "\n",
        "# Pretty-print conversation\n",
        "for m in result.messages:\n",
        "    role = getattr(m, \"source\", \"?\")\n",
        "    content = getattr(m, \"content\", \"\")\n",
        "    print(f\"===== {role.upper()} =====\\n{content}\\n\")\n",
        "\n",
        "# Heuristic: find last code block in the Doer messages after APPROVE or overall\n",
        "import re\n",
        "\n",
        "def extract_last_code_block(text: str) -> Optional[str]:\n",
        "    blocks = re.findall(r\"```(?:python)?\\n([\\s\\S]*?)```\", text)\n",
        "    if blocks:\n",
        "        return blocks[-1].strip()\n",
        "    return None\n",
        "\n",
        "final_code: Optional[str] = None\n",
        "\n",
        "# Prefer messages before termination from doer; else scan all\n",
        "for m in reversed(result.messages):\n",
        "    if getattr(m, \"source\", \"\") == \"doer\":\n",
        "        code = extract_last_code_block(getattr(m, \"content\", \"\"))\n",
        "        if code:\n",
        "            final_code = code\n",
        "            break\n",
        "\n",
        "print(\"\\n==== FINAL CORRECTED CODE ====\")\n",
        "print(final_code or \"[No code block found; check messages above]\")\n",
        "\n",
        "# Close model client\n",
        "await model_client.close()\n"
      ],
      "metadata": {
        "colab": {
          "base_uri": "https://localhost:8080/"
        },
        "id": "mnpF8bcZ_mMx",
        "outputId": "857b5c7e-4c2c-40a3-e49a-f0e69d2cee06"
      },
      "id": "mnpF8bcZ_mMx",
      "execution_count": 8,
      "outputs": [
        {
          "output_type": "stream",
          "name": "stdout",
          "text": [
            "===== USER =====\n",
            "We have a small buggy Python snippet. Identify the bugs, explain them briefly, and provide a corrected version. Keep changes minimal. Then await Critic feedback.\n",
            "\n",
            "Buggy code:\n",
            "\n",
            "\"\"\"Utilities for simple math operations.\"\"\"\n",
            "\n",
            "def add_numbers(a, b):\n",
            "    # BUG: wrong operation used (subtraction instead of addition)\n",
            "    return a - b\n",
            "\n",
            "class Divider:\n",
            "    def __init__(self, numerator: float, denominator: float):\n",
            "        self.numerator = numerator\n",
            "        self.denominator = denominator\n",
            "\n",
            "    def divide(self) -> float:\n",
            "        # BUG: potential ZeroDivisionError not handled; also wrong attribute name\n",
            "        return self.numerator / self.denominatr\n",
            "\n",
            "\n",
            "===== DOER =====\n",
            "Let's address the bugs in the provided code:\n",
            "\n",
            "1. **Incorrect Operation in `add_numbers` Function:**\n",
            "   - The function name `add_numbers` suggests that it should perform addition, but it currently performs subtraction (`a - b`).\n",
            "   \n",
            "2. **Attribute Typo in `Divider` Class:**\n",
            "   - In the `divide` method, there is a typo in the attribute name `denominatr` which should be `denominator`.\n",
            "\n",
            "3. **Potential ZeroDivisionError:**\n",
            "   - The `divide` method does not handle the case where the denominator is zero, which can lead to a `ZeroDivisionError`.\n",
            "\n",
            "Here's the corrected version of the code:\n",
            "\n",
            "```python\n",
            "\"\"\"Utilities for simple math operations.\"\"\"\n",
            "\n",
            "def add_numbers(a, b):\n",
            "    # Correct the operation to addition\n",
            "    return a + b\n",
            "\n",
            "class Divider:\n",
            "    def __init__(self, numerator: float, denominator: float):\n",
            "        self.numerator = numerator\n",
            "        self.denominator = denominator\n",
            "\n",
            "    def divide(self) -> float:\n",
            "        # Handle potential ZeroDivisionError\n",
            "        if self.denominator == 0:\n",
            "            raise ValueError(\"Denominator cannot be zero.\")\n",
            "        # Fix the attribute typo\n",
            "        return self.numerator / self.denominator\n",
            "```\n",
            "\n",
            "- Changed the operation in `add_numbers` to perform addition.\n",
            "- Corrected the typo in the attribute name within the `Divider` class.\n",
            "- Added a check to handle division by zero by raising a `ValueError`.\n",
            "\n",
            "===== CRITIC =====\n",
            "The updated code correctly addresses all identified bugs:\n",
            "\n",
            "1. **`add_numbers` Function:**\n",
            "   - The operation was correctly changed from subtraction to addition.\n",
            "\n",
            "2. **Attribute Typo:**\n",
            "   - The typo in the `Divider` class (`denominatr` -> `denominator`) has been fixed.\n",
            "\n",
            "3. **Zero Division Handling:**\n",
            "   - The `divide` method now includes a check for zero, raising a `ValueError` if the denominator is zero, effectively handling potential `ZeroDivisionErrors`.\n",
            "\n",
            "Overall, the code is now correct and robust against the described conditions. \n",
            "\n",
            "APPROVE\n",
            "\n",
            "\n",
            "==== FINAL CORRECTED CODE ====\n",
            "\"\"\"Utilities for simple math operations.\"\"\"\n",
            "\n",
            "def add_numbers(a, b):\n",
            "    # Correct the operation to addition\n",
            "    return a + b\n",
            "\n",
            "class Divider:\n",
            "    def __init__(self, numerator: float, denominator: float):\n",
            "        self.numerator = numerator\n",
            "        self.denominator = denominator\n",
            "\n",
            "    def divide(self) -> float:\n",
            "        # Handle potential ZeroDivisionError\n",
            "        if self.denominator == 0:\n",
            "            raise ValueError(\"Denominator cannot be zero.\")\n",
            "        # Fix the attribute typo\n",
            "        return self.numerator / self.denominator\n"
          ]
        }
      ]
    },
    {
      "cell_type": "markdown",
      "id": "6633e010",
      "metadata": {
        "id": "6633e010"
      },
      "source": [
        "\n",
        "## 📝 Exercises\n",
        "1. Modify the bug: make it a *list index out of range* error. See if the agent fixes it.  \n",
        "2. Add a **CriticAgent** that reviews the fix before User accepts.  \n",
        "3. Try AgentChat: add another tool (like a calculator) and see how the agent uses it.  \n",
        "\n",
        "---\n",
        "\n",
        "### 🚀 Next (Day 4)\n",
        "We’ll explore **Agno Framework** — a lightweight modular system for production-grade agents.\n"
      ]
    }
  ],
  "metadata": {
    "colab": {
      "provenance": []
    },
    "language_info": {
      "name": "python"
    },
    "kernelspec": {
      "name": "python3",
      "display_name": "Python 3"
    }
  },
  "nbformat": 4,
  "nbformat_minor": 5
}