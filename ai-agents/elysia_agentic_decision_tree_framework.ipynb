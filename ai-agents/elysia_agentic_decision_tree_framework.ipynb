{
  "cells": [
    {
      "cell_type": "markdown",
      "source": [
        "<img src=\"https://drive.google.com/uc?export=view&id=1wYSMgJtARFdvTt5g7E20mE4NmwUFUuog\" width=\"200\">\n",
        "\n",
        "[![Gen AI Experiments](https://img.shields.io/badge/Gen%20AI%20Experiments-GenAI%20Bootcamp-blue?style=for-the-badge&logo=artificial-intelligence)](https://github.com/buildfastwithai/gen-ai-experiments)\n",
        "[![Gen AI Experiments GitHub](https://img.shields.io/github/stars/buildfastwithai/gen-ai-experiments?style=for-the-badge&logo=github&color=gold)](http://github.com/buildfastwithai/gen-ai-experiments)\n",
        "\n",
        "\n",
        "[![Open In Colab](https://colab.research.google.com/assets/colab-badge.svg)](https://colab.research.google.com/drive/1q8nBrXssmNyJTD6WjvMOSmJzjhwRNSJS?usp=sharing)\n",
        "\n",
        "## Master Generative AI in 8 Weeks\n",
        "**What You'll Learn:**\n",
        "- Master cutting-edge AI tools & frameworks\n",
        "- 6 weeks of hands-on, project-based learning\n",
        "- Weekly live mentorship sessions\n",
        "\n",
        "Learn by building. Get expert mentorship and work on real AI projects.\n",
        "[Start Your Journey](https://www.buildfastwithai.com/genai-course)"
      ],
      "metadata": {
        "id": "EzoioR01WB_u"
      }
    },
    {
      "cell_type": "markdown",
      "source": [
        "### Elysia Tutorial: From Basics to Advanced (with Students use case)\n",
        "\n",
        "This tutorial notebook walks you through Elysia — an agentic framework that chooses and runs tools — from the very basics to advanced customization, ending with a practical use case using dataset.\n",
        "\n",
        "What you'll do:\n",
        "- Install and configure Elysia\n",
        "- Create and run a minimal custom tool\n",
        "- Connect to a Weaviate cluster and preprocess a collection\n",
        "- Ask natural-language questions over data\n",
        "- Build an advanced custom tool (linear regression)\n",
        "- Apply it to a Students dataset to answer a real question\n",
        "\n",
        "Dataset context: we'll reference a `Student` collection with fields like `Student_ID`, `Gender`, `Study_Hours`, `Attendance`, `Past_Exam`, `Parental_Education`, `Internet_Access`, `Extracurricular`, `Final_Exam`, `Pass_Fail`. Adjust field names if your schema differs.\n"
      ],
      "metadata": {
        "id": "Vh6tSkfFTB_A"
      }
    },
    {
      "cell_type": "markdown",
      "source": [
        "### 0. Setup and Installation\n",
        "\n",
        "- This installs `elysia-ai` and optional `weaviate-client`.\n",
        "\n",
        "If you're not using Weaviate, you can still run the basic examples.\n"
      ],
      "metadata": {
        "id": "OHrl0T3vTEay"
      }
    },
    {
      "cell_type": "code",
      "execution_count": null,
      "metadata": {
        "vscode": {
          "languageId": "plaintext"
        },
        "id": "GCC2KUVfdgtM"
      },
      "outputs": [],
      "source": [
        "# Install core package (quiet to reduce noise)\n",
        "%pip install -U elysia-ai --quiet"
      ]
    },
    {
      "cell_type": "markdown",
      "source": [
        "### 1. Configure Elysia\n",
        "\n",
        "You must configure which models to use and how to access them. Elysia integrates via LiteLLM through DSPy and supports many providers.\n",
        "\n",
        "- Set your `OPENAI_API_KEY` (or other provider keys) here.\n",
        "- If using Weaviate Cloud, also set `WCD_URL` and `WCD_API_KEY`.\n",
        "\n",
        "You can leave Weaviate variables unset to run only the basic examples.\n"
      ],
      "metadata": {
        "id": "-1lGsE11TKng"
      }
    },
    {
      "cell_type": "code",
      "execution_count": null,
      "metadata": {
        "id": "Hv8bJ1PRdgtO"
      },
      "outputs": [],
      "source": [
        "import os\n",
        "from google.colab import userdata\n",
        "\n",
        "OPENAI_API_KEY = userdata.get(\"OPENAI_API_KEY\")\n",
        "\n",
        "from elysia import configure\n",
        "\n",
        "configure(\n",
        "    base_model=\"gpt-4.1-mini\",\n",
        "    base_provider=\"openai\",\n",
        "    complex_model=\"gpt-4.1\",\n",
        "    complex_provider=\"openai\",\n",
        "    openai_api_key=OPENAI_API_KEY,\n",
        "\n",
        ")"
      ]
    },
    {
      "cell_type": "markdown",
      "source": [
        "### 2. Basic: Minimal Tool and Tree\n",
        "\n",
        "A tool is just an async function decorated with `@tool`. The docstring becomes the tool's description.\n",
        "\n",
        "We'll create `add(x, y)` and call the tree with a simple math question.\n"
      ],
      "metadata": {
        "id": "0AT42eafTRht"
      }
    },
    {
      "cell_type": "code",
      "source": [
        "from elysia import tool, Tree\n",
        "\n",
        "# Create a decision tree\n",
        "basic_tree = Tree()\n",
        "\n",
        "@tool(tree=basic_tree)\n",
        "async def add(x: int, y: int) -> int:\n",
        "    \"\"\"Return the sum of two integers x and y.\"\"\"\n",
        "    return x + y\n",
        "\n",
        "# Run the tree with a simple prompt\n",
        "basic_response = basic_tree(\"What is the sum of 9009 and 6006?\")\n",
        "basic_response\n"
      ],
      "metadata": {
        "id": "C4bZuzRfaIKN"
      },
      "execution_count": null,
      "outputs": []
    },
    {
      "cell_type": "markdown",
      "metadata": {
        "id": "eyIPqpTOdgtQ"
      },
      "source": [
        "### 3. Connecting to Weaviate (Optional)\n",
        "\n",
        "If you have a Weaviate Cloud instance, set `WCD_URL` and `WCD_API_KEY` above. Elysia can then query your collections.\n",
        "\n",
        "We must preprocess a collection so Elysia understands field names, types, and summary context.\n"
      ]
    },
    {
      "cell_type": "code",
      "source": [
        "!pip install weaviate-client --quiet"
      ],
      "metadata": {
        "id": "o0-r0-23gLUu"
      },
      "execution_count": null,
      "outputs": []
    },
    {
      "cell_type": "code",
      "source": [
        "# Preprocess collections only if Weaviate credentials are provided to access collecations made in Weaviate\n",
        "from elysia.preprocess.collection import preprocess\n",
        "\n",
        "WCD_URL = userdata.get(\"WCD_URL\")\n",
        "WCD_API_KEY = userdata.get(\"WCD_API_KEY\")\n",
        "\n",
        "from elysia import configure\n",
        "\n",
        "configure(\n",
        "    base_model=\"gpt-4o-mini\",\n",
        "    base_provider=\"openai\",\n",
        "    complex_model=\"gpt-4o\",\n",
        "    complex_provider=\"openai\",\n",
        "    openai_api_key=OPENAI_API_KEY,\n",
        "    wcd_url=WCD_URL or None,\n",
        "    wcd_api_key=WCD_API_KEY or None,\n",
        ")\n"
      ],
      "metadata": {
        "id": "966823ZOUxih"
      },
      "execution_count": null,
      "outputs": []
    },
    {
      "cell_type": "code",
      "source": [
        "if WCD_URL and WCD_API_KEY:\n",
        "    try:\n",
        "        preprocess(\"Student\")\n",
        "        print(\"Preprocessed 'Student' collection.\")\n",
        "    except Exception as e:\n",
        "        print(\"Preprocess skipped or failed:\", e)\n",
        "else:\n",
        "    print(\"Weaviate not configured; skipping preprocessing.\")\n"
      ],
      "metadata": {
        "id": "nNkIl6uEhsas",
        "colab": {
          "base_uri": "https://localhost:8080/",
          "height": 66,
          "referenced_widgets": [
            "1b0be9e2238a4349a2d05d20510d11ae",
            "54ac1e81fb6d4bdaaa60e1eafa20436e"
          ]
        },
        "outputId": "5f76b155-5909-4be1-d672-c6cd5548a067"
      },
      "execution_count": null,
      "outputs": [
        {
          "output_type": "display_data",
          "data": {
            "text/plain": [
              "Output()"
            ],
            "application/vnd.jupyter.widget-view+json": {
              "version_major": 2,
              "version_minor": 0,
              "model_id": "1b0be9e2238a4349a2d05d20510d11ae"
            }
          },
          "metadata": {}
        },
        {
          "output_type": "display_data",
          "data": {
            "text/plain": [
              "\u001b[2;36m[08/18/25 17:57:50]\u001b[0m\u001b[2;36m \u001b[0m\u001b[34mINFO    \u001b[0m Preprocessed metadata for Student already exists!                    \u001b]8;id=176732;file:///usr/local/lib/python3.11/dist-packages/elysia/preprocess/collection.py\u001b\\\u001b[2mcollection.py\u001b[0m\u001b]8;;\u001b\\\u001b[2m:\u001b[0m\u001b]8;id=8963;file:///usr/local/lib/python3.11/dist-packages/elysia/preprocess/collection.py#426\u001b\\\u001b[2m426\u001b[0m\u001b]8;;\u001b\\\n"
            ],
            "text/html": [
              "<pre style=\"white-space:pre;overflow-x:auto;line-height:normal;font-family:Menlo,'DejaVu Sans Mono',consolas,'Courier New',monospace\"><span style=\"color: #7fbfbf; text-decoration-color: #7fbfbf\">[08/18/25 17:57:50] </span><span style=\"color: #000080; text-decoration-color: #000080\">INFO    </span> Preprocessed metadata for Student already exists!                    <a href=\"file:///usr/local/lib/python3.11/dist-packages/elysia/preprocess/collection.py\" target=\"_blank\"><span style=\"color: #7f7f7f; text-decoration-color: #7f7f7f\">collection.py</span></a><span style=\"color: #7f7f7f; text-decoration-color: #7f7f7f\">:</span><a href=\"file:///usr/local/lib/python3.11/dist-packages/elysia/preprocess/collection.py#426\" target=\"_blank\"><span style=\"color: #7f7f7f; text-decoration-color: #7f7f7f\">426</span></a>\n",
              "</pre>\n"
            ]
          },
          "metadata": {}
        },
        {
          "output_type": "display_data",
          "data": {
            "text/plain": [],
            "text/html": [
              "<pre style=\"white-space:pre;overflow-x:auto;line-height:normal;font-family:Menlo,'DejaVu Sans Mono',consolas,'Courier New',monospace\"></pre>\n"
            ]
          },
          "metadata": {}
        },
        {
          "output_type": "stream",
          "name": "stdout",
          "text": [
            "Preprocessed 'Student' collection.\n"
          ]
        }
      ]
    },
    {
      "cell_type": "markdown",
      "source": [
        "### 4. Querying with Natural Language\n",
        "\n",
        "Once preprocessed, you can ask questions in natural language. Elysia chooses the right tools (query, aggregate, summarization) to answer.\n"
      ],
      "metadata": {
        "id": "elU4l4PuTbHT"
      }
    },
    {
      "cell_type": "code",
      "source": [
        "import elysia\n",
        "\n",
        "qa_tree = elysia.Tree()\n",
        "\n",
        "# If Weaviate is configured, pass the collection name(s)\n",
        "if WCD_URL and WCD_API_KEY:\n",
        "    qa_response = qa_tree(\n",
        "        \"What is this dataset about?\",\n",
        "        collection_names=[\"Student\"],\n",
        "    )\n",
        "else:\n",
        "    # Without Weaviate, this will still run but won't retrieve data\n",
        "    qa_response = qa_tree(\"Describe the goal of this tutorial.\")\n",
        "\n",
        "qa_response\n"
      ],
      "metadata": {
        "id": "l9yV1BWefich"
      },
      "execution_count": null,
      "outputs": []
    },
    {
      "cell_type": "markdown",
      "source": [
        "### 5. Advanced: Custom Analysis Tool (Linear Regression)\n",
        "\n",
        "Sometimes you need custom analysis beyond built-in tools. Below we implement a `BasicLinearRegression` tool as a class that Elysia can call. It:\n",
        "- Extracts numeric fields from retrieved objects in the environment\n",
        "- Fits a simple linear regression (with intercept) using NumPy\n",
        "- Returns coefficients to the environment and plots the fit\n"
      ],
      "metadata": {
        "id": "GHOmVjIsTgvN"
      }
    },
    {
      "cell_type": "code",
      "source": [
        "from elysia import Error, Tool, Result\n",
        "import numpy as np\n",
        "import matplotlib.pyplot as plt\n",
        "\n",
        "class BasicLinearRegression(Tool):\n",
        "    def __init__(self, logger=None, **kwargs):\n",
        "        super().__init__(\n",
        "            name=\"basic_linear_regression_tool\",\n",
        "            description=(\n",
        "                \"Use this tool to perform linear regression between two numeric variables \"\n",
        "                \"found in retrieved objects in the environment.\"\n",
        "            ),\n",
        "            status=\"Running linear regression...\",\n",
        "            inputs={\n",
        "                \"environment_key\": {\n",
        "                    \"description\": (\n",
        "                        \"A key of the environment to use (e.g., 'query'). \"\n",
        "                        \"All objects under that key will be used.\"\n",
        "                    ),\n",
        "                    \"required\": True,\n",
        "                    \"type\": str,\n",
        "                    \"default\": None,\n",
        "                },\n",
        "                \"x_variable_field\": {\n",
        "                    \"description\": \"Independent variable field name.\",\n",
        "                    \"required\": True,\n",
        "                    \"type\": str,\n",
        "                    \"default\": None,\n",
        "                },\n",
        "                \"y_variable_field\": {\n",
        "                    \"description\": \"Dependent variable field name.\",\n",
        "                    \"required\": True,\n",
        "                    \"type\": str,\n",
        "                    \"default\": None,\n",
        "                },\n",
        "            },\n",
        "            end=False,\n",
        "        )\n",
        "\n",
        "    async def __call__(\n",
        "        self,\n",
        "        tree_data,\n",
        "        inputs,\n",
        "        base_lm,\n",
        "        complex_lm,\n",
        "        client_manager,\n",
        "        **kwargs,\n",
        "    ):\n",
        "        environment = tree_data.environment.environment\n",
        "        environment_key = inputs[\"environment_key\"]\n",
        "        x_variable_field = inputs[\"x_variable_field\"]\n",
        "        y_variable_field = inputs[\"y_variable_field\"]\n",
        "\n",
        "        try:\n",
        "            X = np.empty((0, 2))\n",
        "            y = np.empty((0, 1))\n",
        "\n",
        "            for inner_key in environment.get(environment_key, {}):\n",
        "                inner_X = np.array(\n",
        "                    [\n",
        "                        [obj[x_variable_field]]\n",
        "                        for environment_list in environment[environment_key][inner_key]\n",
        "                        for obj in environment_list[\"objects\"]\n",
        "                        if x_variable_field in obj and y_variable_field in obj\n",
        "                    ]\n",
        "                )\n",
        "                if inner_X.size == 0:\n",
        "                    continue\n",
        "                inner_X = np.hstack([np.ones((inner_X.shape[0], 1)), inner_X])\n",
        "                X = np.vstack([X, inner_X])\n",
        "\n",
        "                inner_y = np.array(\n",
        "                    [\n",
        "                        [obj[y_variable_field]]\n",
        "                        for environment_list in environment[environment_key][inner_key]\n",
        "                        for obj in environment_list[\"objects\"]\n",
        "                        if x_variable_field in obj and y_variable_field in obj\n",
        "                    ]\n",
        "                )\n",
        "                y = np.vstack([y, inner_y])\n",
        "\n",
        "            if X.shape[0] == 0:\n",
        "                yield Error(\n",
        "                    \"No rows with both fields present. Check field names or query step.\"\n",
        "                )\n",
        "                return\n",
        "\n",
        "            beta_hat = np.linalg.inv(X.T @ X + 1e-10 * np.eye(X.shape[1])) @ X.T @ y\n",
        "            beta_hat_dict = {\n",
        "                \"intercept\": float(beta_hat[0]),\n",
        "                \"slope\": float(beta_hat[1]),\n",
        "            }\n",
        "            pred_y = X @ beta_hat\n",
        "\n",
        "            fig, ax = plt.subplots()\n",
        "            ax.scatter(X[:, 1], y)\n",
        "            ax.plot(X[:, 1], pred_y, color=\"red\")\n",
        "            ax.set_title(\n",
        "                f\"Linear regression between {x_variable_field} and {y_variable_field}\"\n",
        "            )\n",
        "            ax.set_xlabel(x_variable_field)\n",
        "            ax.set_ylabel(y_variable_field)\n",
        "            fig.show()\n",
        "\n",
        "            yield Result(\n",
        "                objects=[beta_hat_dict],\n",
        "                metadata={\n",
        "                    \"x_variable_field\": x_variable_field,\n",
        "                    \"y_variable_field\": y_variable_field,\n",
        "                },\n",
        "                llm_message=(\n",
        "                    \"Completed linear regression analysis where: \"\n",
        "                    f\"x={x_variable_field}, y={y_variable_field}.\"\n",
        "                ),\n",
        "            )\n",
        "        except Exception as e:\n",
        "            yield Error(str(e))\n",
        "\n",
        "    async def is_tool_available(self, tree_data, base_lm, complex_lm, client_manager):\n",
        "        return (\n",
        "            \"query\" in tree_data.environment.environment\n",
        "            and len(tree_data.environment.environment[\"query\"]) > 0\n",
        "        )\n"
      ],
      "metadata": {
        "id": "oN9c-YTUhXAc"
      },
      "execution_count": null,
      "outputs": []
    },
    {
      "cell_type": "markdown",
      "source": [
        "### 6. Use case: Students dataset — Do more study hours correlate with final exam score?\n",
        "\n",
        "We'll:\n",
        "1) Query the `Student` collection to bring objects into the environment\n",
        "2) Run `BasicLinearRegression` with `x=Study_Hours` and `y=Final_Exam`\n",
        "\n",
        "If your schema uses different field names, adjust the strings in the cell below.\n"
      ],
      "metadata": {
        "id": "QdMNOLklTr4t"
      }
    },
    {
      "cell_type": "code",
      "source": [
        "students_tree = elysia.Tree()\n",
        "\n",
        "# Add our custom tool to the tree\n",
        "students_tree.add_tool(BasicLinearRegression)\n",
        "\n",
        "if WCD_URL and WCD_API_KEY:\n",
        "    # Step 1: bring data into the environment\n",
        "    response1 = students_tree(\n",
        "        \"Retrieve student records with study hours and final exam scores\",\n",
        "        collection_names=[\"Student\"],\n",
        "    )\n",
        "\n",
        "    # Step 2: run the regression tool\n",
        "    response2 = students_tree(\n",
        "        \"Run linear regression with x=Study_Hours and y=Final_Exam\",\n",
        "        # Hints to the decision agent via the prompt; the tool will still validate fields\n",
        "    )\n",
        "\n",
        "    response1, response2\n",
        "else:\n",
        "    print(\"Weaviate not configured; skipping Students use case execution.\")\n"
      ],
      "metadata": {
        "id": "GRL-_do0lFuR"
      },
      "execution_count": null,
      "outputs": []
    },
    {
      "cell_type": "markdown",
      "source": [
        "### Interpreting Results\n",
        "\n",
        "- The tool prints the intercept and slope. A positive slope indicates higher `Study_Hours` is associated with higher `Final_Exam`.\n",
        "- The scatterplot displays data points with a red best-fit line.\n",
        "- Always validate with domain knowledge; correlation does not imply causation.\n"
      ],
      "metadata": {
        "id": "mRvNbD-STyLZ"
      }
    }
  ],
  "metadata": {
    "language_info": {
      "name": "python"
    },
    "colab": {
      "provenance": []
    },
    "kernelspec": {
      "name": "python3",
      "display_name": "Python 3"
    },
    "widgets": {
      "application/vnd.jupyter.widget-state+json": {
        "1b0be9e2238a4349a2d05d20510d11ae": {
          "model_module": "@jupyter-widgets/output",
          "model_name": "OutputModel",
          "model_module_version": "1.0.0",
          "state": {
            "_dom_classes": [],
            "_model_module": "@jupyter-widgets/output",
            "_model_module_version": "1.0.0",
            "_model_name": "OutputModel",
            "_view_count": null,
            "_view_module": "@jupyter-widgets/output",
            "_view_module_version": "1.0.0",
            "_view_name": "OutputView",
            "layout": "IPY_MODEL_54ac1e81fb6d4bdaaa60e1eafa20436e",
            "msg_id": "",
            "outputs": [
              {
                "output_type": "display_data",
                "data": {
                  "text/plain": "Preprocessing Student \u001b[38;5;237m━━━━━━━━━━━━━━━━━━━━━━━━━━━━━━━━━━━━━━━━\u001b[0m \u001b[35m  0%\u001b[0m \u001b[36m-:--:--\u001b[0m\n",
                  "text/html": "<pre style=\"white-space:pre;overflow-x:auto;line-height:normal;font-family:Menlo,'DejaVu Sans Mono',consolas,'Courier New',monospace\">Preprocessing Student <span style=\"color: #3a3a3a; text-decoration-color: #3a3a3a\">━━━━━━━━━━━━━━━━━━━━━━━━━━━━━━━━━━━━━━━━</span> <span style=\"color: #800080; text-decoration-color: #800080\">  0%</span> <span style=\"color: #008080; text-decoration-color: #008080\">-:--:--</span>\n</pre>\n"
                },
                "metadata": {}
              }
            ]
          }
        },
        "54ac1e81fb6d4bdaaa60e1eafa20436e": {
          "model_module": "@jupyter-widgets/base",
          "model_name": "LayoutModel",
          "model_module_version": "1.2.0",
          "state": {
            "_model_module": "@jupyter-widgets/base",
            "_model_module_version": "1.2.0",
            "_model_name": "LayoutModel",
            "_view_count": null,
            "_view_module": "@jupyter-widgets/base",
            "_view_module_version": "1.2.0",
            "_view_name": "LayoutView",
            "align_content": null,
            "align_items": null,
            "align_self": null,
            "border": null,
            "bottom": null,
            "display": null,
            "flex": null,
            "flex_flow": null,
            "grid_area": null,
            "grid_auto_columns": null,
            "grid_auto_flow": null,
            "grid_auto_rows": null,
            "grid_column": null,
            "grid_gap": null,
            "grid_row": null,
            "grid_template_areas": null,
            "grid_template_columns": null,
            "grid_template_rows": null,
            "height": null,
            "justify_content": null,
            "justify_items": null,
            "left": null,
            "margin": null,
            "max_height": null,
            "max_width": null,
            "min_height": null,
            "min_width": null,
            "object_fit": null,
            "object_position": null,
            "order": null,
            "overflow": null,
            "overflow_x": null,
            "overflow_y": null,
            "padding": null,
            "right": null,
            "top": null,
            "visibility": null,
            "width": null
          }
        }
      }
    }
  },
  "nbformat": 4,
  "nbformat_minor": 0
}