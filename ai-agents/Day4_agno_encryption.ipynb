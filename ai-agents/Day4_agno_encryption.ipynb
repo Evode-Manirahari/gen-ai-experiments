{
  "nbformat": 4,
  "nbformat_minor": 0,
  "metadata": {
    "colab": {
      "provenance": []
    },
    "kernelspec": {
      "name": "python3",
      "display_name": "Python 3"
    },
    "language_info": {
      "name": "python"
    }
  },
  "cells": [
    {
      "cell_type": "markdown",
      "source": [
        "<img src=\"https://drive.google.com/uc?export=view&id=1wYSMgJtARFdvTt5g7E20mE4NmwUFUuog\" width=\"200\">\n",
        "\n",
        "[![Gen AI Experiments](https://img.shields.io/badge/Gen%20AI%20Experiments-GenAI%20Bootcamp-blue?style=for-the-badge&logo=artificial-intelligence)](https://github.com/buildfastwithai/gen-ai-experiments)\n",
        "[![Gen AI Experiments GitHub](https://img.shields.io/github/stars/buildfastwithai/gen-ai-experiments?style=for-the-badge&logo=github&color=gold)](http://github.com/buildfastwithai/gen-ai-experiments)\n",
        "\n",
        "\n",
        "[![Open In Colab](https://colab.research.google.com/assets/colab-badge.svg)](https://colab.research.google.com/drive/1GipQtieTAcrcee--JHsnEl5hqs0jx6ge?usp=sharing)\n",
        "\n",
        "## Master Generative AI in 8 Weeks\n",
        "**What You'll Learn:**\n",
        "- Master cutting-edge AI tools & frameworks\n",
        "- 6 weeks of hands-on, project-based learning\n",
        "- Weekly live mentorship sessions\n",
        "- No coding experience required\n",
        "- Join Innovation Community\n",
        "Transform your AI ideas into reality through hands-on projects and expert mentorship.\n",
        "[Start Your Journey](https://www.buildfastwithai.com/genai-course)\n",
        "\n",
        "\n"
      ],
      "metadata": {
        "id": "YvsFzxsNBGpa"
      }
    },
    {
      "cell_type": "markdown",
      "source": [
        "# Day 4 — AI AGENT SERIES\n",
        "\n",
        "On **Day 3**, we explored how basic agents are initialized and understood the crucial role of **LLMs** and **tools** in the Agentic AI cycle.  \n",
        "\n",
        "Now on **Day 4**, we will take things more to security and agent cycle management.\n",
        "\n",
        "This notebook showcases a secure, memory-augmented AI agent powered by an LLM. The agent is designed with three core capabilities:\n",
        "\n",
        "- Encrypted Conversational Memory\n",
        "\n",
        "- Web Search Tool\n",
        "\n",
        "- Multi-Turn Conversations\n",
        "\n",
        "The goal of Day 4 is to build and run this secure, tool-enabled conversational agent, verify that memories are being encrypted at rest, and demonstrate both memory recall and tool usage in action."
      ],
      "metadata": {
        "id": "B7FNaI-iBUD6"
      }
    },
    {
      "cell_type": "markdown",
      "source": [
        "## Setup and Installation of required libraries\n",
        "We'll start by installing the prerequisite libraries that we'll be using in this example."
      ],
      "metadata": {
        "id": "0_KQMANABULc"
      }
    },
    {
      "cell_type": "code",
      "execution_count": null,
      "metadata": {
        "colab": {
          "base_uri": "https://localhost:8080/"
        },
        "id": "F814JKxMAFio",
        "outputId": "de9357b1-e34e-4701-9d63-bfe6299158cc"
      },
      "outputs": [
        {
          "output_type": "stream",
          "name": "stdout",
          "text": [
            "\u001b[?25l   \u001b[90m━━━━━━━━━━━━━━━━━━━━━━━━━━━━━━━━━━━━━━━━\u001b[0m \u001b[32m0.0/1.1 MB\u001b[0m \u001b[31m?\u001b[0m eta \u001b[36m-:--:--\u001b[0m\r\u001b[2K   \u001b[91m━━━━━━━━━━━━━━━━━━━━━━\u001b[0m\u001b[91m╸\u001b[0m\u001b[90m━━━━━━━━━━━━━━━━━\u001b[0m \u001b[32m0.6/1.1 MB\u001b[0m \u001b[31m18.5 MB/s\u001b[0m eta \u001b[36m0:00:01\u001b[0m\r\u001b[2K   \u001b[90m━━━━━━━━━━━━━━━━━━━━━━━━━━━━━━━━━━━━━━━━\u001b[0m \u001b[32m1.1/1.1 MB\u001b[0m \u001b[31m18.1 MB/s\u001b[0m eta \u001b[36m0:00:00\u001b[0m\n",
            "\u001b[2K   \u001b[90m━━━━━━━━━━━━━━━━━━━━━━━━━━━━━━━━━━━━━━━━\u001b[0m \u001b[32m4.6/4.6 MB\u001b[0m \u001b[31m99.7 MB/s\u001b[0m eta \u001b[36m0:00:00\u001b[0m\n",
            "\u001b[2K   \u001b[90m━━━━━━━━━━━━━━━━━━━━━━━━━━━━━━━━━━━━━━━━\u001b[0m \u001b[32m243.4/243.4 kB\u001b[0m \u001b[31m17.3 MB/s\u001b[0m eta \u001b[36m0:00:00\u001b[0m\n",
            "\u001b[2K   \u001b[90m━━━━━━━━━━━━━━━━━━━━━━━━━━━━━━━━━━━━━━━━\u001b[0m \u001b[32m41.6/41.6 kB\u001b[0m \u001b[31m2.8 MB/s\u001b[0m eta \u001b[36m0:00:00\u001b[0m\n",
            "\u001b[2K   \u001b[90m━━━━━━━━━━━━━━━━━━━━━━━━━━━━━━━━━━━━━━━━\u001b[0m \u001b[32m5.3/5.3 MB\u001b[0m \u001b[31m116.4 MB/s\u001b[0m eta \u001b[36m0:00:00\u001b[0m\n",
            "\u001b[2K   \u001b[90m━━━━━━━━━━━━━━━━━━━━━━━━━━━━━━━━━━━━━━━━\u001b[0m \u001b[32m3.3/3.3 MB\u001b[0m \u001b[31m99.0 MB/s\u001b[0m eta \u001b[36m0:00:00\u001b[0m\n",
            "\u001b[?25h\u001b[31mERROR: pip's dependency resolver does not currently take into account all the packages that are installed. This behaviour is the source of the following dependency conflicts.\n",
            "pyopenssl 24.2.1 requires cryptography<44,>=41.0.5, but you have cryptography 46.0.1 which is incompatible.\n",
            "bigframes 2.19.0 requires rich<14,>=12.4.4, but you have rich 14.1.0 which is incompatible.\n",
            "pydrive2 1.21.3 requires cryptography<44, but you have cryptography 46.0.1 which is incompatible.\u001b[0m\u001b[31m\n",
            "\u001b[0m"
          ]
        }
      ],
      "source": [
        "!pip install -qU agno cryptography duckduckgo-search rich sqlalchemy ddgs"
      ]
    },
    {
      "cell_type": "markdown",
      "source": [
        "## Environment setup"
      ],
      "metadata": {
        "id": "ns4hTGRfCgA-"
      }
    },
    {
      "cell_type": "code",
      "source": [
        "from google.colab import userdata\n",
        "import os\n",
        "api_key = userdata.get(\"OPENAI_API_KEY\")\n",
        "os.environ[\"OPENAI_API_KEY\"] = api_key\n",
        "os.environ[\"MEMORY_AES256_KEY_B64\"] = \"ZshdX+bSlYY9XvE1gf+g3m5XX4P6JltaiVX9R/fA02g=\" # or set any base64 encoding key"
      ],
      "metadata": {
        "id": "eJ2R0HmWAJaq"
      },
      "execution_count": null,
      "outputs": []
    },
    {
      "cell_type": "markdown",
      "source": [
        "### Import necessary libraries"
      ],
      "metadata": {
        "id": "Zt1vNvZJCswT"
      }
    },
    {
      "cell_type": "code",
      "source": [
        "# --- packages ---\n",
        "import os, json, base64\n",
        "from typing import Any, Dict, List\n",
        "from cryptography.hazmat.primitives.ciphers.aead import AESGCM\n",
        "\n",
        "from agno.agent import Agent\n",
        "from agno.models.openai import OpenAIChat\n",
        "from agno.db.sqlite import SqliteDb\n",
        "from rich.pretty import pprint\n",
        "from agno.tools.duckduckgo import DuckDuckGoTools\n",
        "\n"
      ],
      "metadata": {
        "id": "Mjkl3ghrCX1P"
      },
      "execution_count": null,
      "outputs": []
    },
    {
      "cell_type": "markdown",
      "source": [
        "## 🔒 Implementing an Encrypted Memory Database Wrapper\n",
        "\n",
        "In this section, we define a custom EncryptedDb class that wraps around Agno’s SqliteDb (or PostgresDb) to ensure all sensitive fields (memory, content, value, data) are stored encrypted using AES-GCM.\n",
        "\n",
        "This guarantees that while the agent can still read/write memories normally, the database file only contains ciphertext for personal information.\n"
      ],
      "metadata": {
        "id": "Zf-ZbHKQC7K6"
      }
    },
    {
      "cell_type": "code",
      "source": [
        "# The helper functions _b64 and _b64d handle Base64 encoding/decoding for safe storage of binary data inside the database.\n",
        "def _b64(x: bytes) -> str:\n",
        "    return base64.b64encode(x).decode(\"utf-8\")\n",
        "\n",
        "def _b64d(s: str) -> bytes:\n",
        "    return base64.b64decode(s.encode(\"utf-8\"))\n",
        "\n",
        "class EncryptedDb:\n",
        "    \"\"\"\n",
        "    Decorator around Agno's DB (SqliteDb/PostgresDb) that encrypts/decrypts\n",
        "    selected fields using AES-GCM, while preserving Agno's expected types.\n",
        "    \"\"\"\n",
        "    def __init__(self, inner, key: bytes, fields=(\"memory\",\"content\",\"value\",\"data\")):\n",
        "        assert len(key) in (16,24,32), \"AES key must be 128/192/256 bits\"\n",
        "        self.inner = inner\n",
        "        self.aesgcm = AESGCM(key)\n",
        "        self.fields = set(fields)\n",
        "\n",
        "    # -- low-level helpers --\n",
        "\n",
        "    # _enc_blob encrypts any field value into a JSON blob containing ciphertext and nonce.\n",
        "    def _enc_blob(self, plaintext: Any) -> str:\n",
        "        pt = json.dumps(plaintext).encode(\"utf-8\")\n",
        "        nonce = os.urandom(12)\n",
        "        ct = self.aesgcm.encrypt(nonce, pt, None)\n",
        "        return json.dumps({\"__enc__\":\"aesgcm\",\"n\":_b64(nonce),\"c\":_b64(ct),\"v\":1})\n",
        "\n",
        "    # _dec_blob reverses the process, decrypting stored values back into usable plaintext.\n",
        "    def _dec_blob(self, maybe_cipher: Any) -> Any:\n",
        "        blob = None\n",
        "        if isinstance(maybe_cipher, str):\n",
        "            try:\n",
        "                blob = json.loads(maybe_cipher)\n",
        "            except Exception:\n",
        "                return maybe_cipher\n",
        "        elif isinstance(maybe_cipher, dict):\n",
        "            blob = maybe_cipher\n",
        "        else:\n",
        "            return maybe_cipher\n",
        "        if not (isinstance(blob, dict) and blob.get(\"__enc__\") == \"aesgcm\"):\n",
        "            return maybe_cipher\n",
        "        nonce = _b64d(blob[\"n\"]); ct = _b64d(blob[\"c\"])\n",
        "        pt = self.aesgcm.decrypt(nonce, ct, None)\n",
        "        return json.loads(pt.decode(\"utf-8\"))\n",
        "\n",
        "    def _encrypt_obj_fields(self, obj: Dict[str,Any]) -> Dict[str,Any]:\n",
        "        out = dict(obj)\n",
        "        for k in list(out.keys()):\n",
        "            if k in self.fields and out[k] is not None:\n",
        "                out[k] = self._enc_blob(out[k])\n",
        "        return out\n",
        "\n",
        "    def _decrypt_obj_fields(self, obj: Dict[str,Any]) -> Dict[str,Any]:\n",
        "        out = dict(obj)\n",
        "        for k,v in list(out.items()):\n",
        "            if k in self.fields and v is not None:\n",
        "                out[k] = self._dec_blob(v)\n",
        "        return out\n",
        "\n",
        "    def _decrypt_record(self, row):\n",
        "        # Keep Pydantic types intact\n",
        "        if hasattr(row, \"model_dump\") and hasattr(row, \"model_copy\"):\n",
        "            data = row.model_dump()\n",
        "            data = self._decrypt_obj_fields(data)\n",
        "            return row.model_copy(update=data)\n",
        "        elif isinstance(row, dict):\n",
        "            return self._decrypt_obj_fields(row)\n",
        "        return row\n",
        "\n",
        "    # -- delegated methods --\n",
        "    def clear_memories(self, *args, **kwargs):\n",
        "        return self.inner.clear_memories(*args, **kwargs)\n",
        "\n",
        "    def get_user_memories(self, user_id: str, *args, **kwargs):\n",
        "        rows = self.inner.get_user_memories(user_id=user_id, *args, **kwargs)\n",
        "        return [self._decrypt_record(r) for r in rows]\n",
        "\n",
        "    def add_user_memory(self, user_id: str, memory: dict, *args, **kwargs):\n",
        "        enc = self._encrypt_obj_fields(memory)\n",
        "        return self.inner.add_user_memory(user_id=user_id, memory=enc, *args, **kwargs)\n",
        "\n",
        "    def save_memory(self, *args, **kwargs):\n",
        "        if \"memory\" in kwargs:\n",
        "            kwargs[\"memory\"] = self._encrypt_obj_fields(kwargs[\"memory\"])\n",
        "        return getattr(self.inner, \"save_memory\")(*args, **kwargs)\n",
        "\n",
        "    def upsert_memory(self, *args, **kwargs):\n",
        "        if \"memory\" in kwargs:\n",
        "            kwargs[\"memory\"] = self._encrypt_obj_fields(kwargs[\"memory\"])\n",
        "        return getattr(self.inner, \"upsert_memory\")(*args, **kwargs)\n",
        "\n",
        "    def __getattr__(self, name):\n",
        "        return getattr(self.inner, name)\n",
        "\n",
        "\n",
        "BASE_DB = SqliteDb(db_file=\"agent_memories.db\", memory_table=\"user_memories\")\n",
        "# AES-256 key (auto-generate for demo if not provided)\n",
        "KEY_B64 = os.getenv(\"MEMORY_AES256_KEY_B64\")\n",
        "if not KEY_B64:\n",
        "    # Demo-only fallback; for prod use env/secret manager\n",
        "    KEY_B64 = base64.b64encode(os.urandom(32)).decode()\n",
        "    print(\"[demo] Generated ephemeral AES-256 key.\")\n",
        "KEY = base64.b64decode(KEY_B64)\n",
        "\n",
        "DB = EncryptedDb(BASE_DB, key=KEY, fields=(\"memory\",\"content\",\"value\",\"data\"))"
      ],
      "metadata": {
        "id": "3FyzybCvAVZi"
      },
      "execution_count": null,
      "outputs": []
    },
    {
      "cell_type": "markdown",
      "source": [
        "###Create Agent"
      ],
      "metadata": {
        "id": "z54qoqtUDTUV"
      }
    },
    {
      "cell_type": "code",
      "source": [
        "memory_agent = Agent(\n",
        "    model=OpenAIChat(id=\"gpt-4.1\"),\n",
        "    db=DB,\n",
        "    tools=[DuckDuckGoTools(all=True)],  # <-- enable web search\n",
        "    enable_agentic_memory=True,\n",
        "    enable_user_memories=True,\n",
        "    # Tell the agent to (a) use tools, (b) store personal facts\n",
        "    description=(\n",
        "        \"You are a helpful assistant with memory and tools. \"\n",
        "        \"When a query needs live info, call the web_search tool. \"\n",
        "        \"When the user shares stable personal facts (name, location, preferences), \"\n",
        "        \"store them as memories and use them in later answers.\"\n",
        "    ),\n",
        "    markdown=True,\n",
        ")"
      ],
      "metadata": {
        "id": "dhy94AjAAa5M"
      },
      "execution_count": null,
      "outputs": []
    },
    {
      "cell_type": "markdown",
      "source": [
        "###Get Started"
      ],
      "metadata": {
        "id": "8_n_UKQgDYJc"
      }
    },
    {
      "cell_type": "code",
      "source": [
        "# =========================\n",
        "# Demo flow: shows memory + tool usage\n",
        "# =========================\n",
        "user_id = \"ava\"\n",
        "\n",
        "# Start clean\n",
        "DB.clear_memories()\n",
        "\n",
        "print(\"\\n--- 1) MEMORY WRITE DEMO ---\")\n",
        "memory_agent.print_response(\n",
        "    \"My name is Ava and I like to ski.\",\n",
        "    user_id=user_id,\n",
        "    stream=True,\n",
        "    stream_intermediate_steps=True,\n",
        ")\n",
        "print(\"\\n[Decrypted memories now in DB]\")\n",
        "pprint(memory_agent.get_user_memories(user_id=user_id))\n",
        "\n",
        "print(\"\\n--- 2) TOOL USE DEMO (forces web_search) ---\")\n",
        "memory_agent.print_response(\n",
        "    \"Use the web_search tool to find 3 recent articles about beginner ski tips. \"\n",
        "    \"Return titles and links only.\",\n",
        "    user_id=user_id,\n",
        "    stream=True,\n",
        "    stream_intermediate_steps=True,  # you'll see a Tool Call block\n",
        ")\n",
        "\n",
        "print(\"\\n--- 3) MEMORY RECALL DEMO ---\")\n",
        "memory_agent.print_response(\n",
        "    \"What is my name and what sport do I like?\",\n",
        "    user_id=user_id,\n",
        "    stream=True,\n",
        ")"
      ],
      "metadata": {
        "id": "YRLAiNB7DXWi"
      },
      "execution_count": null,
      "outputs": []
    }
  ]
}